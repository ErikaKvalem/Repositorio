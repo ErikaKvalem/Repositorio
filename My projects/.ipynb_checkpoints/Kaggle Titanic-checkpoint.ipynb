{
 "cells": [
  {
   "cell_type": "markdown",
   "metadata": {},
   "source": [
    "# Kaggle Titanic \n",
    "## 02/03/2021\n",
    "- Using Kaggle API\n",
    "- Github https://github.com/Kaggle/kaggle-api"
   ]
  },
  {
   "cell_type": "markdown",
   "metadata": {},
   "source": [
    "- First try downloading the data through the API went wrong. \n",
    "- Now I am following Ken Jee tutorial \n",
    "https://www.kaggle.com/kenjee/titanic-project-example"
   ]
  },
  {
   "cell_type": "markdown",
   "metadata": {},
   "source": [
    "# Overview\n",
    "1. Understand the shape of the data\n",
    "2. Data cleaning\n",
    "3. Data exploration\n",
    "4. Feature engineering\n",
    "5. Data Preprocessing for model\n",
    "6. Basci Model Building\n",
    "7. Model tuning\n",
    "8. Ensemble model building\n",
    "9. Results"
   ]
  },
  {
   "cell_type": "code",
   "execution_count": 2,
   "metadata": {},
   "outputs": [],
   "source": [
    "import numpy as np\n",
    "import pandas as pd\n",
    "import seaborn as sns\n",
    "import matplotlib.pyplot as plt"
   ]
  },
  {
   "cell_type": "markdown",
   "metadata": {},
   "source": [
    "### Importing the data\n",
    "\n",
    "- For this analysis, we will be exclusively working with the Training set. \n",
    "- We will be validating based on data from the training set as well. \n",
    "- For our final submissions, we will make predictions based on the test set."
   ]
  },
  {
   "cell_type": "code",
   "execution_count": null,
   "metadata": {},
   "outputs": [],
   "source": [
    "training = pd.read_csv('/kaggle/input/titanic/train.csv')\n",
    "test = pd.read_csv('/kaggle/input/titanic/test.csv')\n",
    "\n",
    "training['train_test'] = 1\n",
    "test['train_test'] = 0\n",
    "test['Survived'] = np.NaN\n",
    "all_data = pd.concat([training,test])\n",
    "\n",
    "%matplotlib inline\n",
    "all_data.columns"
   ]
  }
 ],
 "metadata": {
  "kernelspec": {
   "display_name": "Python 3",
   "language": "python",
   "name": "python3"
  },
  "language_info": {
   "codemirror_mode": {
    "name": "ipython",
    "version": 3
   },
   "file_extension": ".py",
   "mimetype": "text/x-python",
   "name": "python",
   "nbconvert_exporter": "python",
   "pygments_lexer": "ipython3",
   "version": "3.8.3"
  }
 },
 "nbformat": 4,
 "nbformat_minor": 4
}
