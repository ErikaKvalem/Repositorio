{
 "cells": [
  {
   "cell_type": "markdown",
   "metadata": {},
   "source": [
    "# Ejercicio 1\n",
    "\n",
    "<img src ='https://estaticos-cdn.prensaiberica.es/clip/23bf0054-14a8-40d0-8700-dc653638d702_16-9-discover-aspect-ratio_default_0.jpg' width=300>\n",
    "\n",
    "Rafa, Nacho y Clara quieren comprar palmeras, donuts, hojaldres y tartas. Cada uno necesita diferentes cantidades y pueden elegir dos tiendas: *Manolo Bakes* y *Starbucks*. \n",
    "\n",
    "Las siguiente tablas muestran, respectivamente, la cantidad que cada uno necesita, y los precios en cada una de las tiendas\n",
    "\n",
    "<table><thead><tr><th></th><th>Palmeras</th><th>Donuts</th><th>Hojaldres</th><th>Tartas</th></tr></thead><tbody><tr><td>Rafa</td><td>6</td><td>5</td><td>3</td><td>1</td></tr><tr><td>Nacho</td><td>3</td><td>6</td><td>2</td><td>2</td></tr><tr><td>Clara</td><td>3</td><td>4</td><td>3</td><td>1</td></tr></tbody></table>\n",
    "\n",
    "<table><thead><tr><th></th><th>Manolo Bakes</th><th>Starbucks</th></tr></thead><tbody><tr><td>Palmera</td><td>1.50</td><td>1.00</td></tr><tr><td>Donut</td><td>2.00</td><td>2.50</td></tr><tr><td>Hojaldre</td><td>5.00</td><td>4.50</td></tr><tr><td>Tarta</td><td>16.00</td><td>17.00</td></tr></tbody></table>\n",
    "\n",
    "Por ejemplo, si Rafa compra en *Manolo Bakes* gastaría:  \n",
    "\n",
    "$6\\cdot1.50+5\\cdot2+3\\cdot5+1\\cdot16=50$  \n",
    "\n",
    "y si compra en *Starbucks* gastaría:  \n",
    "\n",
    "$6\\cdot1+5\\cdot2.50+3\\cdot4.50+1\\cdot17=49$  \n",
    "\n",
    "**SE PIDE**: Genera la matriz que exprese la cantidad que cada persona gastaría en cada tienda, y recomienda a cada uno dónde debería hacer sus compras"
   ]
  },
  {
   "cell_type": "code",
   "execution_count": 43,
   "metadata": {},
   "outputs": [
    {
     "name": "stdout",
     "output_type": "stream",
     "text": [
      "[[50.  49. ]\n",
      " [58.5 61. ]\n",
      " [43.5 43.5]]\n",
      "rafa debe comprar en: starbucks\n",
      "nacho debe comprar en: manolo bakes\n",
      "clara debe comprar en: manolo bakes\n"
     ]
    }
   ],
   "source": [
    "import numpy as np\n",
    "\n",
    "dulces = [\"palmeras\", \"donuts\", \"hojaldres\", \"tartas\"]\n",
    "personas = [\"rafa\", \"nacho\", \"clara\"]\n",
    "franquicia = [\"manolo bakes\", \"starbucks\"]\n",
    "\n",
    "dulces_personas = np.array([[6,5,3,1],\n",
    "                            [3,6,2,2],\n",
    "                            [3,4,3,1]])\n",
    "\n",
    "dulces_franquicia = np.array([[1.5,1],\n",
    "                            [2,2.5],\n",
    "                            [5,4.5],\n",
    "                            [16,17]])\n",
    "\n",
    "#dulces_personas.shape, dulces_franquicia.shape\n",
    "\n",
    "resultado = dulces_personas.dot(dulces_franquicia)\n",
    "\n",
    "print(resultado)\n",
    "\n",
    "\n",
    "#value = min(resultado[0,:])\n",
    "#resultado.index(value)\n",
    "\n",
    "\n",
    "\n",
    "for i in range(len(resultado)):\n",
    "    \n",
    "    indice = np.argmin(resultado[i], axis = 0)\n",
    "    print(personas[i], \"debe comprar en:\",franquicia[indice] )\n",
    "\n",
    "\n",
    "\n",
    "    \n",
    "    \n",
    "\n",
    "\n"
   ]
  },
  {
   "cell_type": "markdown",
   "metadata": {},
   "source": [
    "# Ejercicio 2\n",
    "<img src='https://policygenius-blog.imgix.net/2015/09/feat-image-martians-attack.jpg' width=\"300\">\n",
    "                                                                                                \n",
    "Hemos sido invadidos por los extraterrestres. El Gobierno ha prohibido toda comunicación escrita en castellano. Para poder comunicarnos, debemos generar mensajes de hasta 9 letras, codificados conforme al siguiente diccionario:\n",
    "\n",
    "```Python\n",
    "{'A':8,\n",
    " 'B':7,\n",
    " 'C':5,\n",
    " 'D':13,\n",
    " 'E':9,\n",
    " 'F':16,\n",
    " 'G':18,\n",
    " 'H':22,\n",
    " 'I':4,\n",
    " 'J':23,\n",
    " 'K':11,\n",
    " 'L':3,\n",
    " 'M':21,\n",
    " 'N':1,\n",
    " 'O':6,\n",
    " 'P':15,\n",
    " 'Q':12,\n",
    " 'R':19,\n",
    " 'S':2,\n",
    " 'T':14,\n",
    " 'U':17,\n",
    " 'V':20,\n",
    " 'W':25,\n",
    " 'X':24,\n",
    " 'Y':10,\n",
    " 'Z':26\n",
    "}\n",
    " \n",
    "```\n",
    "\n",
    "Por ejemplo, el mensaje \"MARCIANOS\" lo codificaríamos como \"21 8 19 5 4 8 1 0 2\"\n",
    "\n",
    "Para poder enviar mensajes, debemos introducir los dígitos en una matriz 3x3. En este ejemplo, la matriz sería:\n",
    "\n",
    "$$A=\\begin{bmatrix}21 & 8 & 19 \\\\ 5 & 4 & 8 \\\\ 1 & 6 & 2\\end{bmatrix}$$\n",
    "\n",
    "A continuación, hay que multiplicar por la izquierda esta matriz por otra proporcionada por el Gobierno:\n",
    "\n",
    "$$C=\\begin{bmatrix}2 & 0 & 1 \\\\ 1 & 0 & 1 \\\\ 0 & 1 & 0\\end{bmatrix}$$\n",
    "\n",
    "Por tanto, el mensaje resultante sería:\n",
    "\n",
    "$$Z = CA=\\begin{bmatrix}2 & 0 & 1 \\\\ 1 & 0 & 1 \\\\ 0 & 1 & 0\\end{bmatrix}\\begin{bmatrix}21 & 8 & 19 \\\\ 5 & 4 & 8 \\\\ 1 & 6 & 2\\end{bmatrix}=\\begin{bmatrix}43 & 22 & 40 \\\\ 22 & 14 & 21 \\\\ 5 & 4 & 8\\end{bmatrix}$$\n",
    "\n",
    "El receptor del mensaje deberá decodificarlo multiplicando la matriz $Z$ por la matriz $C^{-1}$ (por la izquierda):\n",
    "\n",
    "$$C^{-1}Z=A$$\n",
    "\n",
    "**SE PIDE:**\n",
    "1. Implementa una función para enviar mensajes de 9 letras codificados\n",
    "> 1.1 Genera los dígitos correspondientes al mensaje a partir del diccionario y guárdalo en una lista  \n",
    "> 1.2 Haz un reshape de la lista para transformarlo en un array de numpy 3x3  \n",
    "> 1.3 Genera la matriz $Z=CA$, que será el output de la función\n",
    "2. Implementa una función para decodificar mensajes de 9 letras\n",
    "> 2.1 Crea un nuevo diccionario, donde se inviertan las claves y los valores del original  \n",
    "> 2.2 Realiza la operación $C^{-1}Z=A$ y convierte la matriz a un vector con el método `flatten()`  \n",
    "> 2.3 Recorre los elementos del vector para generar el mensaje decodificado usando el diccionario creado en 2.1\n",
    "\n",
    "Consejo: Antes de implementar la función, reproduce el ejemplo del enunciado. Cuando te funcione, encapsula tu código en funciones"
   ]
  },
  {
   "cell_type": "code",
   "execution_count": 35,
   "metadata": {},
   "outputs": [],
   "source": [
    "#FUNCION\n",
    "import numpy as np\n",
    "#Genera los dígitos correspondientes al mensaje a partir del diccionario y guárdalo en una lista\n",
    "cods= {'A':8,\n",
    "               'B':7,\n",
    "               'C':5,\n",
    "               'D':13,\n",
    "               'E':9,\n",
    "               'F':16,\n",
    "               'G':18,\n",
    "               'H':22,\n",
    "               'I':4,\n",
    "               'J':23,\n",
    "               'K':11,\n",
    "               'L':3,\n",
    "               'M':21,\n",
    "               'N':1,\n",
    "               'O':6,\n",
    "               'P':15,\n",
    "               'Q':12,\n",
    "               'R':19,\n",
    "               'S':2,\n",
    "               'T':14,\n",
    "               'U':17,\n",
    "               'V':20,\n",
    "               'W':25,\n",
    "               'X':24,\n",
    "               'Y':10,\n",
    "               'Z':26\n",
    "                }\n",
    "\n",
    "mensaje = \"MARCIANOS\"\n",
    "\n",
    "def codificar(msj):\n",
    "    msj = msj.upper()\n",
    "    lista = []\n",
    "    #recorremos cada letra del mensaje\n",
    "    for letra in msj:\n",
    "        lista.append(cods[letra]) #busca en el dcit la clave y la añadea la lista \n",
    "    #Crear la matriz A \n",
    "    A = np.array(lista).reshape(3,3)\n",
    "    #Crear matriz C \n",
    "    C = np.array([[2,0,1],\n",
    "                 [1,0,1],\n",
    "                 [0,1,0]])\n",
    "\n",
    "    #Matriz Z  dot product de matrices \n",
    "    Z = C.dot(A)\n",
    "    return Z"
   ]
  },
  {
   "cell_type": "code",
   "execution_count": 36,
   "metadata": {},
   "outputs": [
    {
     "name": "stdout",
     "output_type": "stream",
     "text": [
      "[[43 22 40]\n",
      " [22 14 21]\n",
      " [ 5  4  8]]\n"
     ]
    }
   ],
   "source": [
    "Z = codificar(\"MARCIANOS\")\n",
    "print(Z)"
   ]
  },
  {
   "cell_type": "code",
   "execution_count": 37,
   "metadata": {},
   "outputs": [],
   "source": [
    "\n",
    "\n",
    "#Decoder\n",
    "for key, values in cods.items():\n",
    "    #hay que invertir las claves y valores en el nuevo dict\n",
    "    dic2[values] = key\n",
    "    \n",
    "def decoder(Z):\n",
    "    dic2 = {}\n",
    "\n",
    "\n",
    "    \n",
    "    C = np.array([[2,0,1],\n",
    "                  [1,0,1],\n",
    "                  [0,1,0]])\n",
    "\n",
    "    A2 = np.linalg.inv(C).dot(Z) #A = C^-1 * Z \n",
    "    print(A2)\n",
    "    A2f = A2.flatten() # aplanar con flatten \n",
    "    print(A2f)\n",
    "    message = \"\"\n",
    "    for dig in A2f:\n",
    "        message += dic2[dig]\n",
    "        print(message)\n",
    "    return message"
   ]
  },
  {
   "cell_type": "code",
   "execution_count": 38,
   "metadata": {},
   "outputs": [
    {
     "name": "stdout",
     "output_type": "stream",
     "text": [
      "[[21.  8. 19.]\n",
      " [ 5.  4.  8.]\n",
      " [ 1.  6.  2.]]\n",
      "[21.  8. 19.  5.  4.  8.  1.  6.  2.]\n"
     ]
    },
    {
     "ename": "KeyError",
     "evalue": "21.0",
     "output_type": "error",
     "traceback": [
      "\u001b[0;31m---------------------------------------------------------------------------\u001b[0m",
      "\u001b[0;31mKeyError\u001b[0m                                  Traceback (most recent call last)",
      "\u001b[0;32m<ipython-input-38-74af28dd036a>\u001b[0m in \u001b[0;36m<module>\u001b[0;34m\u001b[0m\n\u001b[0;32m----> 1\u001b[0;31m \u001b[0mdecoder\u001b[0m\u001b[0;34m(\u001b[0m\u001b[0mZ\u001b[0m\u001b[0;34m)\u001b[0m\u001b[0;34m\u001b[0m\u001b[0;34m\u001b[0m\u001b[0m\n\u001b[0m",
      "\u001b[0;32m<ipython-input-37-5dce5d5b2687>\u001b[0m in \u001b[0;36mdecoder\u001b[0;34m(Z)\u001b[0m\n\u001b[1;32m     19\u001b[0m     \u001b[0mmessage\u001b[0m \u001b[0;34m=\u001b[0m \u001b[0;34m\"\"\u001b[0m\u001b[0;34m\u001b[0m\u001b[0;34m\u001b[0m\u001b[0m\n\u001b[1;32m     20\u001b[0m     \u001b[0;32mfor\u001b[0m \u001b[0mdig\u001b[0m \u001b[0;32min\u001b[0m \u001b[0mA2f\u001b[0m\u001b[0;34m:\u001b[0m\u001b[0;34m\u001b[0m\u001b[0;34m\u001b[0m\u001b[0m\n\u001b[0;32m---> 21\u001b[0;31m         \u001b[0mmessage\u001b[0m \u001b[0;34m+=\u001b[0m \u001b[0mdic2\u001b[0m\u001b[0;34m[\u001b[0m\u001b[0mdig\u001b[0m\u001b[0;34m]\u001b[0m\u001b[0;34m\u001b[0m\u001b[0;34m\u001b[0m\u001b[0m\n\u001b[0m\u001b[1;32m     22\u001b[0m         \u001b[0mprint\u001b[0m\u001b[0;34m(\u001b[0m\u001b[0mmessage\u001b[0m\u001b[0;34m)\u001b[0m\u001b[0;34m\u001b[0m\u001b[0;34m\u001b[0m\u001b[0m\n\u001b[1;32m     23\u001b[0m     \u001b[0;32mreturn\u001b[0m \u001b[0mmessage\u001b[0m\u001b[0;34m\u001b[0m\u001b[0;34m\u001b[0m\u001b[0m\n",
      "\u001b[0;31mKeyError\u001b[0m: 21.0"
     ]
    }
   ],
   "source": [
    "decoder(Z)"
   ]
  },
  {
   "cell_type": "markdown",
   "metadata": {},
   "source": [
    "# Ejercicio 3 "
   ]
  },
  {
   "cell_type": "markdown",
   "metadata": {},
   "source": [
    "En el álgebra de matrices, existen tres tipos de matrices de especial interés:\n",
    "\n",
    "1. **Matriz diagonal**: Todos los elementos son 0 excepto los de la diagonal\n",
    "<img src='./img/diagonal.png' width = 200>\n",
    "\n",
    "2. **Triangular superior**: Todos los elementos por encima de la diagonal son 0\n",
    "<img src='./img/upper.png' width = 200>\n",
    "\n",
    "3. **Triangular inferior**: Todos los elementos por debajo de la diagonal son 0\n",
    "<img src='./img/lower.png' width = 200>\n",
    "\n",
    "En numpy, las funciones `diag()`, `triu()` y `tril()` permiten hacer transformaciones de una matriz a cualquiera de las 3 anteriores\n",
    "\n",
    "**CASO DE USO**\n",
    "\n",
    "\n",
    "<img src='./img/bets.jpg' width=400>\n",
    "\n",
    "\n",
    "En LaLiga se generan matrices como la siguiente, que indican la probabilidad estimada de cada resultado en un determinado partido:  \n",
    "\n",
    "![SegmentLocal](./img/match_matrix.gif \"segment\")\n",
    "\n",
    "Por ejemplo, la probabilidad estimada de que acaben 1-2 es del 3.37%  \n",
    "La probabilidad de que acaben en empate sería la suma de la diagonal: $(0.0373+0.078+0.0409+0.0095+0.0012+0.0001)=16.7\\%$\n",
    "\n",
    "**SE PIDE**: \n",
    "\n",
    "1. Implementa una función que reciba una matriz cuadrada nxn y devuelva un diccionario con la probabilidad de empate, victoria local y victoria visitante. Asegúrate de que la suma de estas tres probabilidades es próxima a 1.\n",
    "\n",
    "2. Implementa otra función que transforme el diccionario con las probabilidades a un diccionario de cuotas redondeado a 2 decimales (la cuota la calculamos como la inversa de la probabilidad)\n",
    "\n",
    "Prueba con esta matriz\n",
    "$$ P=\\begin{bmatrix}0.0373 & 0.082 & 0.013 & 0.004\\\\ 0.1504 & 0.098 & 0.0337 & 0.0097 \\\\\n",
    "0.121 & 0.194 & 0.04 & 0.0118 \\\\ 0.088 &  0.076 & 0.032 & 0.0091\\end{bmatrix}$$"
   ]
  },
  {
   "cell_type": "code",
   "execution_count": 33,
   "metadata": {},
   "outputs": [
    {
     "name": "stdout",
     "output_type": "stream",
     "text": [
      "[0.0373 0.098  0.04   0.0091]\n",
      "\n",
      "\n",
      "[[0.     0.082  0.013  0.004 ]\n",
      " [0.     0.     0.0337 0.0097]\n",
      " [0.     0.     0.     0.0118]\n",
      " [0.     0.     0.     0.    ]]\n",
      "\n",
      "\n",
      "[[0.0373 0.082  0.     0.    ]\n",
      " [0.1504 0.098  0.0337 0.    ]\n",
      " [0.121  0.194  0.04   0.0118]\n",
      " [0.088  0.076  0.032  0.0091]]\n"
     ]
    }
   ],
   "source": [
    "probs = np.array([[0.0373, 0.082, 0.013, 0.004],\n",
    "                 [0.1504,0.098, 0.0337, 0.0097],\n",
    "                 [0.121, 0.194, 0.04, 0.0118],\n",
    "                 [0.088, 0.076, 0.032, 0.0091]])\n",
    "np.sum(probs)\n",
    "print(np.diag(probs))\n",
    "print(\"\\n\")\n",
    "\n",
    "print(np.triu(probs,k=1)) #victoria visitante\n",
    "\n",
    "print(\"\\n\")\n",
    "\n",
    "\n",
    "print(np.tril(probs, k=1))\n",
    "\n",
    "\n",
    "def prob1x2(matriz):\n",
    "    local = np.sum(np.tril(matriz, k=-1))\n",
    "    vis = np.sum(np.triu(matriz, k=1))\n",
    "    empate = np.sum(np.diag(matriz))\n",
    "    \n",
    "    return {\"1\": local, \"X\": empate, \"2\": vis}\n",
    "\n"
   ]
  },
  {
   "cell_type": "code",
   "execution_count": 34,
   "metadata": {},
   "outputs": [
    {
     "name": "stdout",
     "output_type": "stream",
     "text": [
      "1.0\n"
     ]
    }
   ],
   "source": [
    "output = prob1x2(probs)\n",
    "print(sum(output.values()))"
   ]
  },
  {
   "cell_type": "code",
   "execution_count": 39,
   "metadata": {},
   "outputs": [],
   "source": [
    "def prob2cuota(d):\n",
    "    cuota1 = round(1/d[\"1\"],2)\n",
    "    cuotaX = round(1/d[\"X\"],2)\n",
    "    cuota2 = round(1/d[\"2\"],2)\n",
    "    return {\"1\": cuota1, \"X\": cuotaX, \"2\": cuota2}\n"
   ]
  },
  {
   "cell_type": "code",
   "execution_count": 40,
   "metadata": {},
   "outputs": [
    {
     "data": {
      "text/plain": [
       "{'1': 1.51, 'X': 5.42, '2': 6.49}"
      ]
     },
     "execution_count": 40,
     "metadata": {},
     "output_type": "execute_result"
    }
   ],
   "source": [
    "prob2cuota(prob1x2(probs))"
   ]
  },
  {
   "cell_type": "code",
   "execution_count": null,
   "metadata": {},
   "outputs": [],
   "source": []
  }
 ],
 "metadata": {
  "kernelspec": {
   "display_name": "Python 3",
   "language": "python",
   "name": "python3"
  },
  "language_info": {
   "codemirror_mode": {
    "name": "ipython",
    "version": 3
   },
   "file_extension": ".py",
   "mimetype": "text/x-python",
   "name": "python",
   "nbconvert_exporter": "python",
   "pygments_lexer": "ipython3",
   "version": "3.8.3"
  }
 },
 "nbformat": 4,
 "nbformat_minor": 5
}
