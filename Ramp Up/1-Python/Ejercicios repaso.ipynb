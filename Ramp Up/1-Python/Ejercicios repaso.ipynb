{
 "cells": [
  {
   "cell_type": "markdown",
   "metadata": {},
   "source": [
    "# Ejercicios de repaso"
   ]
  },
  {
   "cell_type": "markdown",
   "metadata": {},
   "source": [
    "## Ejercicio 1 - Markdown\n",
    "1. Pon por pantalla una imagen\n",
    "2. Escribe en una lista ordenada 3 cosas que te llevarias a la montaña\n",
    "3. Escribe en una lista no ordenada tus tres colores favoritos\n",
    "4. Recplica la lista del apartado dos, pero esta vez que el primer elemento esté en negrita, el segundo en cursiva y el tercero en negrita y cursiva.\n",
    "5. Escribe en markdown, un bloque de código Python que sea print(\"Esto es markdown\"). Markdown reconoce que es Python ya que pone de color diferente las palabras reservadas.\n",
    "6. Escribe el nombre de una web que uses mucho y asocia al texto un enlace a la propia web."
   ]
  },
  {
   "cell_type": "markdown",
   "metadata": {},
   "source": [
    "1) ../../ con los dos puntos me puedo ir atras"
   ]
  },
  {
   "cell_type": "markdown",
   "metadata": {},
   "source": [
    "![image](./primera_celda-Copy1.png)"
   ]
  },
  {
   "cell_type": "markdown",
   "metadata": {},
   "source": [
    "2)"
   ]
  },
  {
   "cell_type": "markdown",
   "metadata": {},
   "source": [
    "1. Mochila\n",
    "2. Gafas de sol\n",
    "3. Guantes"
   ]
  },
  {
   "cell_type": "markdown",
   "metadata": {},
   "source": [
    "3)\n"
   ]
  },
  {
   "cell_type": "markdown",
   "metadata": {},
   "source": [
    "- Verde\n",
    "- Amarillo\n",
    "- Azul"
   ]
  },
  {
   "cell_type": "markdown",
   "metadata": {},
   "source": [
    "4)"
   ]
  },
  {
   "cell_type": "markdown",
   "metadata": {},
   "source": [
    "- **Verde**\n",
    "- *Amarillo*\n",
    "- ***Azul***"
   ]
  },
  {
   "cell_type": "markdown",
   "metadata": {},
   "source": [
    "5)"
   ]
  },
  {
   "cell_type": "markdown",
   "metadata": {},
   "source": [
    "```Python\n",
    "print(\"Esto es markdown\")\n",
    "````\n"
   ]
  },
  {
   "cell_type": "markdown",
   "metadata": {},
   "source": [
    "6)"
   ]
  },
  {
   "cell_type": "markdown",
   "metadata": {},
   "source": [
    "[Esta web la uso mucho](https://www.youtube.com/)"
   ]
  },
  {
   "cell_type": "markdown",
   "metadata": {},
   "source": [
    "## Ejercicio 2 - Python Basics\n",
    "1. ¿Qué tengo que poner para que me haga un salto de linea en un print? ¿Y para una tabulación?\n",
    "2. Realiza un conversor de dolares a euros. Tienes que usar `input`.\n",
    "3. Comenta el apartado 1 con un comentario de línea y el apartado 2 con uno multilínea\n",
    "4. Declara dos strings de dos maneras diferentes. Uno será tu nombre y el otro tu apellido. Declara en otra variable tu edad. Concatenalo todo en una frase (nueva variable), e imprimelo por pantalla.\n",
    "5. ¿Está bien si pongo números en los nombres de las variables?\n",
    "6. Comprueba los tipos de las variables del apartado 4\n",
    "7. Elimina todas las variables del apartado 4\n",
    "8. Crea un programa donde se recojan dos inputs del usuario, y el output del programa sea si esos inputs son iguales o no.\n",
    "9. Dada la lista [4,7,-3], calcula su maximo, minimo y suma\n",
    "10. Redondea 38.38276252728 a 5 decimales\n",
    "11. Pasa la frase \"Born to be wild\" a mayusculas, luego minusculas, dividela por los espacios, y por último, sustituye \"wild\" por \"Geek\"."
   ]
  },
  {
   "cell_type": "markdown",
   "metadata": {},
   "source": [
    "1)"
   ]
  },
  {
   "cell_type": "code",
   "execution_count": 13,
   "metadata": {},
   "outputs": [
    {
     "name": "stdout",
     "output_type": "stream",
     "text": [
      "Hello\n",
      "Hello\tHolahola\n"
     ]
    }
   ],
   "source": [
    "print(\"Hello\\nHello\\tHolahola\")"
   ]
  },
  {
   "cell_type": "markdown",
   "metadata": {},
   "source": [
    "2)"
   ]
  },
  {
   "cell_type": "code",
   "execution_count": 16,
   "metadata": {},
   "outputs": [
    {
     "name": "stdout",
     "output_type": "stream",
     "text": [
      "Introduce dolares34\n",
      "Tus 34 son  28.09917355371901 euros\n"
     ]
    }
   ],
   "source": [
    "dolar = input(\"Introduce dolares\")\n",
    "\n",
    "euro = float(dolar) /1.21\n",
    "\n",
    "print(\"Tus\", dolar , \"son \", euro, \"euros\")"
   ]
  },
  {
   "cell_type": "markdown",
   "metadata": {},
   "source": [
    "3)"
   ]
  },
  {
   "cell_type": "code",
   "execution_count": 13,
   "metadata": {},
   "outputs": [
    {
     "name": "stdout",
     "output_type": "stream",
     "text": [
      "Hello\n",
      "Hello\tHolahola\n"
     ]
    }
   ],
   "source": [
    "print(\"Hello\\nHello\\tHolahola\") # comentario de linea"
   ]
  },
  {
   "cell_type": "code",
   "execution_count": 114,
   "metadata": {},
   "outputs": [
    {
     "name": "stdout",
     "output_type": "stream",
     "text": [
      "Introduce dolares123\n",
      "Tus 123 son  102 euros\n"
     ]
    }
   ],
   "source": [
    "dolar = input(\"Introduce dolares\")\n",
    "\n",
    "euro = round(float(dolar) /1.21)\n",
    "\n",
    "\"\"\"\n",
    "comentario multilinea\n",
    "hola \n",
    "hola\"\"\"\n",
    "\n",
    "print(\"Tus\", dolar , \"son \", euro, \"euros\")"
   ]
  },
  {
   "cell_type": "markdown",
   "metadata": {},
   "source": [
    "4) Declara dos strings de dos maneras diferentes. Uno será tu nombre y el otro tu apellido. Declara en otra variable tu edad. Concatenalo todo en una frase (nueva variable), e imprimelo por pantalla.\n"
   ]
  },
  {
   "cell_type": "code",
   "execution_count": 1,
   "metadata": {},
   "outputs": [
    {
     "name": "stdout",
     "output_type": "stream",
     "text": [
      "Erika Kvalem 24\n"
     ]
    }
   ],
   "source": [
    "nombre = \"Erika\"\n",
    "apellido = \"Kvalem\"\n",
    "edad = '24'\n",
    "concat = nombre + \" \" + apellido + \" \" + edad \n",
    "print(concat)"
   ]
  },
  {
   "cell_type": "markdown",
   "metadata": {},
   "source": [
    "5)\n"
   ]
  },
  {
   "cell_type": "code",
   "execution_count": 2,
   "metadata": {},
   "outputs": [
    {
     "ename": "SyntaxError",
     "evalue": "cannot assign to literal (<ipython-input-2-3902095ace03>, line 1)",
     "output_type": "error",
     "traceback": [
      "\u001b[0;36m  File \u001b[0;32m\"<ipython-input-2-3902095ace03>\"\u001b[0;36m, line \u001b[0;32m1\u001b[0m\n\u001b[0;31m    5 = \"holaque tal está mal\"\u001b[0m\n\u001b[0m    ^\u001b[0m\n\u001b[0;31mSyntaxError\u001b[0m\u001b[0;31m:\u001b[0m cannot assign to literal\n"
     ]
    }
   ],
   "source": [
    "5 = \"holaque tal está mal\""
   ]
  },
  {
   "cell_type": "markdown",
   "metadata": {},
   "source": [
    "6)\n"
   ]
  },
  {
   "cell_type": "code",
   "execution_count": 4,
   "metadata": {},
   "outputs": [
    {
     "name": "stdout",
     "output_type": "stream",
     "text": [
      "<class 'str'>\n",
      "<class 'str'>\n",
      "<class 'str'>\n"
     ]
    }
   ],
   "source": [
    "print(type(nombre))\n",
    "print(type(apellido))\n",
    "print(type(edad))"
   ]
  },
  {
   "cell_type": "markdown",
   "metadata": {},
   "source": [
    "7)\n"
   ]
  },
  {
   "cell_type": "code",
   "execution_count": 7,
   "metadata": {},
   "outputs": [],
   "source": [
    "del(nombre)\n",
    "del(apellido)\n",
    "del(edad)"
   ]
  },
  {
   "cell_type": "markdown",
   "metadata": {},
   "source": [
    "8) Crea un programa donde se recojan dos inputs del usuario, y el output del programa sea si esos inputs son iguales o no.\n"
   ]
  },
  {
   "cell_type": "code",
   "execution_count": 8,
   "metadata": {},
   "outputs": [
    {
     "name": "stdout",
     "output_type": "stream",
     "text": [
      "Introduce input 1123123jkn\n",
      "Introduce input 2asdsaf\n",
      "no son iguales\n"
     ]
    }
   ],
   "source": [
    "n1 = input(\"Introduce input 1\")\n",
    "n2 = input(\"Introduce input 2\")\n",
    "\n",
    "if n1 == n2:\n",
    "    print(\"Son iguales\")\n",
    "else: \n",
    "    print(\"no son iguales\")"
   ]
  },
  {
   "cell_type": "markdown",
   "metadata": {},
   "source": [
    "9)\n"
   ]
  },
  {
   "cell_type": "code",
   "execution_count": 10,
   "metadata": {},
   "outputs": [
    {
     "name": "stdout",
     "output_type": "stream",
     "text": [
      "7\n",
      "-3\n",
      "8\n"
     ]
    }
   ],
   "source": [
    "lista = [4,7, -3]\n",
    "maximo = max(lista)\n",
    "minimo = min(lista)\n",
    "suma = sum(lista)\n",
    "print(maximo)\n",
    "print(minimo)\n",
    "print(suma)"
   ]
  },
  {
   "cell_type": "markdown",
   "metadata": {},
   "source": [
    "10)\n"
   ]
  },
  {
   "cell_type": "code",
   "execution_count": 11,
   "metadata": {},
   "outputs": [
    {
     "data": {
      "text/plain": [
       "38.38276"
      ]
     },
     "execution_count": 11,
     "metadata": {},
     "output_type": "execute_result"
    }
   ],
   "source": [
    "round(38.38276252728,5)"
   ]
  },
  {
   "cell_type": "markdown",
   "metadata": {},
   "source": [
    "11)"
   ]
  },
  {
   "cell_type": "code",
   "execution_count": 14,
   "metadata": {},
   "outputs": [
    {
     "name": "stdout",
     "output_type": "stream",
     "text": [
      "BORN TO BE WILD\n",
      "born to be wild\n",
      "['Born', 'to', 'be', 'wild']\n",
      "Born to be geek\n"
     ]
    }
   ],
   "source": [
    "frase = \"Born to be wild\"\n",
    "print(frase.upper())\n",
    "\n",
    "print(frase.lower())\n",
    "\n",
    "print(frase.split())\n",
    "\n",
    "print(frase.replace(\"wild\",\"geek\"))"
   ]
  },
  {
   "cell_type": "markdown",
   "metadata": {},
   "source": [
    "## Ejercicio 3 - If/else\n",
    "Crea un arbol de decisión mediante sentencias `if/else`, para determinar el precio de la entrada de cine. Si la edad del cliente está entre 5 y 15 años, ambos incluidos, el precio será de 5, si está jubilado y la peli es una de las `peliculas_disccount`, el precio es de 4. En cualquier otr caso, será de 7 euros."
   ]
  },
  {
   "cell_type": "code",
   "execution_count": 19,
   "metadata": {},
   "outputs": [],
   "source": [
    "def cine_precio(edad,pelicula):\n",
    "    if edad >=5 and edad <=15:\n",
    "        output = 5\n",
    "        return output\n",
    "    elif edad > 65 and pelicula == \"peliculas_disccount\":\n",
    "        output = 4\n",
    "        return output\n",
    "    else:\n",
    "        output = 7\n",
    "        return output\n",
    "    \n",
    "\n",
    "        "
   ]
  },
  {
   "cell_type": "code",
   "execution_count": 26,
   "metadata": {},
   "outputs": [
    {
     "data": {
      "text/plain": [
       "4"
      ]
     },
     "execution_count": 26,
     "metadata": {},
     "output_type": "execute_result"
    }
   ],
   "source": [
    "cine_precio(66,\"peliculas_disccount\")"
   ]
  },
  {
   "cell_type": "markdown",
   "metadata": {},
   "source": [
    "## Ejercicio 4 - bucle for\n",
    "Dadas dos listas de la misma longitud, crea una tercera lista que se componga de la suma de ambas, elementoa  elemento."
   ]
  },
  {
   "cell_type": "code",
   "execution_count": 38,
   "metadata": {},
   "outputs": [
    {
     "name": "stdout",
     "output_type": "stream",
     "text": [
      "1\n",
      "5\n",
      "4\n",
      "3\n",
      "5\n",
      "5\n",
      "2\n",
      "6\n",
      "[6, 7, 10, 8]\n"
     ]
    }
   ],
   "source": [
    "L1 = [1 ,4, 5, 2]\n",
    "L2 = [5, 3, 5, 6]\n",
    "L3 = []\n",
    "\n",
    "for i in range(len(L1)):\n",
    "    print(L1[i])\n",
    "    print(L2[i])\n",
    "    num = L1[i] + L2[i]\n",
    "    \n",
    "    L3.append(L1[i] + L2[i]) # la lista es mutable con el metodo modifica el objeto\n",
    "\n",
    "print(L3)\n",
    "\n"
   ]
  },
  {
   "cell_type": "markdown",
   "metadata": {},
   "source": [
    "## Ejercicio 5 - bucle for\n",
    "1. Imprime por pantalla los numeros entre el 0 y el 70 que se sean multiplos de 3 y de 5\n",
    "2. Imprime por pantalla la siguiente secuencia: [-10, -11, -12, -13, -14, -15]\n",
    "3. Utiliza un bucle for para mostrar los elementos en las posiciones impares de la siguiente lista `L = [10, 20, 30, 40, 50, 60, 70, 80, 90, 100]`"
   ]
  },
  {
   "cell_type": "markdown",
   "metadata": {},
   "source": [
    "1) "
   ]
  },
  {
   "cell_type": "code",
   "execution_count": 40,
   "metadata": {},
   "outputs": [
    {
     "name": "stdout",
     "output_type": "stream",
     "text": [
      "0\n",
      "15\n",
      "30\n",
      "45\n",
      "60\n"
     ]
    }
   ],
   "source": [
    "for i in range(0,71):\n",
    "    if i%3 == 0 and i%5 == 0:\n",
    "        print(i)\n",
    "    else:\n",
    "        pass"
   ]
  },
  {
   "cell_type": "markdown",
   "metadata": {},
   "source": [
    "2) [-10, -11, -12, -13, -14, -15]"
   ]
  },
  {
   "cell_type": "code",
   "execution_count": 47,
   "metadata": {},
   "outputs": [
    {
     "name": "stdout",
     "output_type": "stream",
     "text": [
      "-10\n",
      "-11\n",
      "-12\n",
      "-13\n",
      "-14\n",
      "-15\n"
     ]
    }
   ],
   "source": [
    "for i in range(-10,-16,-1):\n",
    "    print(i)"
   ]
  },
  {
   "cell_type": "markdown",
   "metadata": {},
   "source": [
    "3) Utiliza un bucle for para mostrar los elementos en las posiciones impares de la siguiente lista L = [10, 20, 30, 40, 50, 60, 70, 80, 90, 100]"
   ]
  },
  {
   "cell_type": "code",
   "execution_count": 152,
   "metadata": {},
   "outputs": [
    {
     "name": "stdout",
     "output_type": "stream",
     "text": [
      "20\n",
      "40\n",
      "60\n",
      "80\n",
      "100\n"
     ]
    }
   ],
   "source": [
    "L =  [10, 20, 30, 40, 50, 60, 70, 80, 90, 100]\n",
    "\n",
    "for i in range(len(L)):\n",
    "    if i%2 !=0:\n",
    "        print(L[i])"
   ]
  },
  {
   "cell_type": "markdown",
   "metadata": {},
   "source": [
    "## Ejercicio 6 - bucle for\n",
    "Imprime por pantalla el siguiente patrón\n",
    "```Python\n",
    "1\n",
    "22\n",
    "333\n",
    "4444\n",
    "55555\n",
    "666666\n",
    "7777777\n",
    "88888888\n",
    "999999999\n",
    "```"
   ]
  },
  {
   "cell_type": "code",
   "execution_count": 153,
   "metadata": {},
   "outputs": [
    {
     "name": "stdout",
     "output_type": "stream",
     "text": [
      "1\n",
      "22\n",
      "333\n",
      "4444\n",
      "55555\n",
      "666666\n",
      "7777777\n",
      "88888888\n",
      "999999999\n"
     ]
    }
   ],
   "source": [
    "for i in range(1,10):\n",
    "   \n",
    "    print(str(i) * i)"
   ]
  },
  {
   "cell_type": "markdown",
   "metadata": {},
   "source": [
    "## Ejercicio 7 - bucle while\n",
    "Escribe por pantalla un programa que vaya pidiendo numeros al usuario, hasta que el usuario introduce el 9999. En ese caso, el programa devuelve la concatenación de todos los números. Como si fuese un string."
   ]
  },
  {
   "cell_type": "code",
   "execution_count": 163,
   "metadata": {},
   "outputs": [
    {
     "name": "stdout",
     "output_type": "stream",
     "text": [
      "introduce un numero: 5\n",
      "introduce un numero: 8\n",
      "introduce un numero: 3\n",
      "introduce un numero: 9999\n",
      "5839999\n"
     ]
    }
   ],
   "source": [
    "num = 0\n",
    "L = []\n",
    "#num = input (\"introduce un numero\")\n",
    "while num != \"9999\":\n",
    "    num = (input(\"introduce un numero: \"))\n",
    "    L.append(num)\n",
    "\n",
    "print(\"\".join(L))"
   ]
  },
  {
   "cell_type": "code",
   "execution_count": null,
   "metadata": {},
   "outputs": [],
   "source": [
    "# SOLUCION RAFA\n",
    "entrada = input(\"introduce un numbero: \")\n",
    "\n",
    "output = \"\"\n",
    "\n",
    "while entrada != \"9999\":\n",
    "    output += entrada\n",
    "    entrada = input(\"introduce numero\")\n",
    "print(\"Concatenado\", output)"
   ]
  },
  {
   "cell_type": "markdown",
   "metadata": {},
   "source": [
    "## Ejercicio 8 - funcion con bucle while\n",
    "Escribe una funcion en el que se le pide al usuario el codigo pin reiteradamente hasta que acierte... Si lo introduce mal 3 veces, la funcion devuelve un \"Se ha bloqueado\", sino, un \"¡Acertaste el codigo!\"."
   ]
  },
  {
   "cell_type": "code",
   "execution_count": 176,
   "metadata": {},
   "outputs": [],
   "source": [
    "#SOLUCION RAFA\n",
    "pin = 455\n",
    "\n",
    "def codigo_pin(): # funcion sin argumento introduce el pin despues \n",
    "    intentos = 0\n",
    "    while intentos <3:\n",
    "        codigo = int(input(\"Introduce el codigo PIN: \"))\n",
    "        \n",
    "        if codigo == pin:\n",
    "            return \"Acceso correcto\"\n",
    "        else:\n",
    "            intentos += 1\n",
    "            \n",
    "    return \"se ha bloqueado\""
   ]
  },
  {
   "cell_type": "code",
   "execution_count": 177,
   "metadata": {},
   "outputs": [
    {
     "name": "stdout",
     "output_type": "stream",
     "text": [
      "Introduce el codigo PIN: 455\n"
     ]
    },
    {
     "data": {
      "text/plain": [
       "'Acceso correcto'"
      ]
     },
     "execution_count": 177,
     "metadata": {},
     "output_type": "execute_result"
    }
   ],
   "source": [
    "codigo_pin()"
   ]
  },
  {
   "cell_type": "code",
   "execution_count": 178,
   "metadata": {},
   "outputs": [],
   "source": [
    "# ME HE BLOQUEADO EN MI SOLUCION"
   ]
  },
  {
   "cell_type": "code",
   "execution_count": 106,
   "metadata": {},
   "outputs": [
    {
     "name": "stdout",
     "output_type": "stream",
     "text": [
      "Este es el pin:  32112\n"
     ]
    }
   ],
   "source": [
    "import random\n",
    "lista_random = []\n",
    "\n",
    "#Generando un pin random\n",
    "for i in range(1,6):\n",
    "    \n",
    "    j = str(random.randint(1,3))\n",
    "    lista_random.append(j)\n",
    "\n",
    "pin = \"\".join(lista_random)\n",
    "print(\"Este es el pin: \", pin)\n",
    "#funcion\n",
    "def pin(numero):\n",
    "    \n",
    "    intentos = 2\n",
    "    \n",
    "    \n",
    "    while intentos >0:\n",
    "        if numero == pin:\n",
    "            output = \"Acertaste\"\n",
    "            return output\n",
    "        \n",
    "        else:\n",
    "            print(\"Menos 1 intento\")\n",
    "            intentos = intentos - 1\n",
    "            numero = input(\"Introduce pin\")\n",
    "    if intentos == 0:\n",
    "        output = \"Se ha bloqueado\"\n",
    "        return output\n",
    "\n",
    "        "
   ]
  },
  {
   "cell_type": "code",
   "execution_count": 107,
   "metadata": {},
   "outputs": [
    {
     "name": "stdout",
     "output_type": "stream",
     "text": [
      "Menos 1 intento\n",
      "Introduce pin3\n",
      "Menos 1 intento\n",
      "Introduce pin1\n"
     ]
    },
    {
     "data": {
      "text/plain": [
       "'Se ha bloqueado'"
      ]
     },
     "execution_count": 107,
     "metadata": {},
     "output_type": "execute_result"
    }
   ],
   "source": [
    "pin(32112)"
   ]
  },
  {
   "cell_type": "markdown",
   "metadata": {},
   "source": [
    "## Ejercicio 9 - colecciones\n",
    "1. Crea una tupla con los elementos (10,2,27,8)\n",
    "2. Obtén el tamaño de la tupla\n",
    "3. Imprime por pantalla su tipo\n",
    "4. Declara una tupla con 4 caracteres y concatenalos todos, separados por espacios\n",
    "5. Declara una lista con los mismos elementos que en el apartado 1. Encuentra el elemento 27 de la lista, y sustituyelo por 37\n",
    "8. Elimina el 8 de la lista\n",
    "9. Convierte la lista de apartado anterior en una tupla.\n",
    "10. Compurba si el elemento 3 esta en la tupla del apartado anterior.\n",
    "11. Convierte la tupla del apartado 10 en un diccionario. Usa también los indices.\n",
    "12. Ordena la tupla de manera descendente\n",
    "13. Crea un diccionario con {\"val1\": 5, \"val2\": 8, \"val3\": 9}. Suma todos sus valores. \n",
    "14. Obtén una lista de tuplas con todos los items del diccionario anterior\n"
   ]
  },
  {
   "cell_type": "markdown",
   "metadata": {},
   "source": [
    "1)"
   ]
  },
  {
   "cell_type": "code",
   "execution_count": 108,
   "metadata": {},
   "outputs": [
    {
     "data": {
      "text/plain": [
       "tuple"
      ]
     },
     "execution_count": 108,
     "metadata": {},
     "output_type": "execute_result"
    }
   ],
   "source": [
    "tupla = (10,2,27,8)\n"
   ]
  },
  {
   "cell_type": "markdown",
   "metadata": {},
   "source": [
    "2)"
   ]
  },
  {
   "cell_type": "code",
   "execution_count": 109,
   "metadata": {},
   "outputs": [
    {
     "data": {
      "text/plain": [
       "4"
      ]
     },
     "execution_count": 109,
     "metadata": {},
     "output_type": "execute_result"
    }
   ],
   "source": [
    "len(tupla)"
   ]
  },
  {
   "cell_type": "markdown",
   "metadata": {},
   "source": [
    "3)"
   ]
  },
  {
   "cell_type": "code",
   "execution_count": 110,
   "metadata": {},
   "outputs": [
    {
     "data": {
      "text/plain": [
       "tuple"
      ]
     },
     "execution_count": 110,
     "metadata": {},
     "output_type": "execute_result"
    }
   ],
   "source": [
    "type(tupla)"
   ]
  },
  {
   "cell_type": "markdown",
   "metadata": {},
   "source": [
    "4)"
   ]
  },
  {
   "cell_type": "code",
   "execution_count": 111,
   "metadata": {},
   "outputs": [
    {
     "data": {
      "text/plain": [
       "'a b A B'"
      ]
     },
     "execution_count": 111,
     "metadata": {},
     "output_type": "execute_result"
    }
   ],
   "source": [
    "tupla2 = (\"a\", \"b\", \"A\", \"B\")\n",
    "\n",
    "\" \".join(tupla2)"
   ]
  },
  {
   "cell_type": "markdown",
   "metadata": {},
   "source": [
    "5) Declara una lista con los mismos elementos que en el apartado 1. Encuentra el elemento 27 de la lista, y sustituyelo por 37"
   ]
  },
  {
   "cell_type": "code",
   "execution_count": 122,
   "metadata": {},
   "outputs": [
    {
     "name": "stdout",
     "output_type": "stream",
     "text": [
      "[10, 2, 37, 8]\n"
     ]
    }
   ],
   "source": [
    "L = [10,2,27,8]\n",
    "\n",
    "indice = L.index(27)\n",
    "L[indice]= 37\n",
    "print(L)"
   ]
  },
  {
   "cell_type": "markdown",
   "metadata": {},
   "source": [
    "6)"
   ]
  },
  {
   "cell_type": "code",
   "execution_count": 123,
   "metadata": {},
   "outputs": [
    {
     "name": "stdout",
     "output_type": "stream",
     "text": [
      "[10, 2, 37]\n"
     ]
    }
   ],
   "source": [
    "L.remove(8)\n",
    "print(L)"
   ]
  },
  {
   "cell_type": "markdown",
   "metadata": {},
   "source": [
    "7)"
   ]
  },
  {
   "cell_type": "code",
   "execution_count": 125,
   "metadata": {},
   "outputs": [
    {
     "data": {
      "text/plain": [
       "(10, 2, 37)"
      ]
     },
     "execution_count": 125,
     "metadata": {},
     "output_type": "execute_result"
    }
   ],
   "source": [
    "L = tuple(L)\n",
    "L"
   ]
  },
  {
   "cell_type": "markdown",
   "metadata": {},
   "source": [
    "8)"
   ]
  },
  {
   "cell_type": "code",
   "execution_count": 179,
   "metadata": {},
   "outputs": [
    {
     "data": {
      "text/plain": [
       "True"
      ]
     },
     "execution_count": 179,
     "metadata": {},
     "output_type": "execute_result"
    }
   ],
   "source": [
    "3 in L\n",
    "\n",
    "3 not in L"
   ]
  },
  {
   "cell_type": "markdown",
   "metadata": {},
   "source": [
    "9)"
   ]
  },
  {
   "cell_type": "code",
   "execution_count": 132,
   "metadata": {},
   "outputs": [
    {
     "name": "stdout",
     "output_type": "stream",
     "text": [
      "{0: 10, 1: 2, 2: 37}\n"
     ]
    }
   ],
   "source": [
    "diccio = {}\n",
    "for i,j in enumerate(L):\n",
    "    \n",
    "    diccio[i] = j\n",
    "print(diccio) "
   ]
  },
  {
   "cell_type": "markdown",
   "metadata": {},
   "source": [
    "10)"
   ]
  },
  {
   "cell_type": "code",
   "execution_count": 180,
   "metadata": {},
   "outputs": [
    {
     "data": {
      "text/plain": [
       "['9999', '8', '5', '3']"
      ]
     },
     "execution_count": 180,
     "metadata": {},
     "output_type": "execute_result"
    }
   ],
   "source": [
    "L = tuple(L)\n",
    "sorted(L, reverse = True) # FUNCION NO ALTERA EL OBJETO"
   ]
  },
  {
   "cell_type": "markdown",
   "metadata": {},
   "source": [
    "11)"
   ]
  },
  {
   "cell_type": "code",
   "execution_count": 182,
   "metadata": {},
   "outputs": [
    {
     "ename": "TypeError",
     "evalue": "'list' object is not callable",
     "output_type": "error",
     "traceback": [
      "\u001b[0;31m---------------------------------------------------------------------------\u001b[0m",
      "\u001b[0;31mTypeError\u001b[0m                                 Traceback (most recent call last)",
      "\u001b[0;32m<ipython-input-182-1a45a0964d6b>\u001b[0m in \u001b[0;36m<module>\u001b[0;34m\u001b[0m\n\u001b[1;32m      2\u001b[0m \u001b[0;34m\u001b[0m\u001b[0m\n\u001b[1;32m      3\u001b[0m \u001b[0msum\u001b[0m\u001b[0;34m(\u001b[0m\u001b[0mD\u001b[0m\u001b[0;34m.\u001b[0m\u001b[0mvalues\u001b[0m\u001b[0;34m(\u001b[0m\u001b[0;34m)\u001b[0m\u001b[0;34m)\u001b[0m\u001b[0;34m\u001b[0m\u001b[0;34m\u001b[0m\u001b[0m\n\u001b[0;32m----> 4\u001b[0;31m \u001b[0mlist\u001b[0m\u001b[0;34m(\u001b[0m\u001b[0mD\u001b[0m\u001b[0;34m.\u001b[0m\u001b[0mitems\u001b[0m\u001b[0;34m(\u001b[0m\u001b[0;34m)\u001b[0m\u001b[0;34m)\u001b[0m\u001b[0;34m\u001b[0m\u001b[0;34m\u001b[0m\u001b[0m\n\u001b[0m",
      "\u001b[0;31mTypeError\u001b[0m: 'list' object is not callable"
     ]
    }
   ],
   "source": [
    "D = {\"val1\": 5, \"val2\": 8, \"val3\": 9}\n",
    "\n",
    "sum(D.values())"
   ]
  },
  {
   "cell_type": "markdown",
   "metadata": {},
   "source": [
    "12)"
   ]
  },
  {
   "cell_type": "code",
   "execution_count": 1,
   "metadata": {},
   "outputs": [
    {
     "data": {
      "text/plain": [
       "[('val1', 5), ('val2', 8), ('val3', 9)]"
      ]
     },
     "execution_count": 1,
     "metadata": {},
     "output_type": "execute_result"
    }
   ],
   "source": [
    "D = {\"val1\": 5, \"val2\": 8, \"val3\": 9}\n",
    "\n",
    "list(D.items())"
   ]
  },
  {
   "cell_type": "code",
   "execution_count": 140,
   "metadata": {},
   "outputs": [
    {
     "data": {
      "text/plain": [
       "[('val1', 5), ('val2', 8), ('val3', 9)]"
      ]
     },
     "execution_count": 140,
     "metadata": {},
     "output_type": "execute_result"
    }
   ],
   "source": [
    "lista = [(k, v) for k, v in D.items()] \n",
    "lista"
   ]
  },
  {
   "cell_type": "code",
   "execution_count": 145,
   "metadata": {},
   "outputs": [
    {
     "name": "stdout",
     "output_type": "stream",
     "text": [
      "[('val1', 5), ('val2', 8), ('val3', 9)]\n"
     ]
    }
   ],
   "source": [
    "\"\"\"\n",
    "lista = []\n",
    "for i,j in D.items():\n",
    "    print(i,j)\n",
    "    tupla = (i,j)\n",
    "    lista.append(tupla)\n",
    "print(lista)\n",
    "\"\"\"\n",
    "\n",
    "\n",
    "lista = [ (i,j) for i,j in D.items()]\n",
    "print(lista)"
   ]
  },
  {
   "cell_type": "markdown",
   "metadata": {},
   "source": [
    "## Ejercicio 10 - funciones\n",
    "\n",
    "1. Implementa una función llamada `calculo` que reciba dos argumentos de entrada y devuelva en una lista la suma y la resta de ambas variables\n",
    "2. Implementa una función que reciba dos listas de igual tamaño y devuelva un diccionario cuyas claves correspondan a los valores de la primera lista y cuyos valores correspondan a los de la segunda lista\n",
    "3. Implementa una función que reciba una lista y devuelva `True` en caso de que el número 0 esté en la lista, y `False` en caso contrario\n",
    "4. Implementa una función que reciba un número como argumento y devuelva `True` en caso de ser un número primo y `False` en caso contrario\n",
    "5. Implementa una función que reciba una lista como argumento y devuelva la misma lista acotada a los valores [-10, 10] (todo valor menor que -10 lo sustituirá por -10 y todo valor mayor que 10 lo sustituirá por 10)\n",
    "6. Implementa una función que reciba un diccionario y devuelva el mismo diccionario pero con sus claves en letras mayúsculas\n",
    "7. Implementa una función que reciba una lista de números enteros y devuelva dos listas ordenadas. La primera lista contendrá los números pares y la segunda los números impares"
   ]
  },
  {
   "cell_type": "markdown",
   "metadata": {},
   "source": [
    "1) Implementa una función llamada calculo que reciba dos argumentos de entrada y devuelva en una lista la suma y la resta de ambas variables"
   ]
  },
  {
   "cell_type": "code",
   "execution_count": 147,
   "metadata": {},
   "outputs": [],
   "source": [
    "def calculo(a,b):\n",
    "    \n",
    "    \n",
    "    \n",
    "    suma = a+b\n",
    "    resta = a-b\n",
    "    lista = [suma, resta ]\n",
    "    return lista"
   ]
  },
  {
   "cell_type": "code",
   "execution_count": 148,
   "metadata": {},
   "outputs": [
    {
     "data": {
      "text/plain": [
       "[9, -1]"
      ]
     },
     "execution_count": 148,
     "metadata": {},
     "output_type": "execute_result"
    }
   ],
   "source": [
    "calculo(4,5)\n"
   ]
  },
  {
   "cell_type": "markdown",
   "metadata": {},
   "source": [
    "2) Implementa una función que reciba dos listas de igual tamaño y devuelva un diccionario cuyas claves correspondan a los valores de la primera lista y cuyos valores correspondan a los de la segunda lista"
   ]
  },
  {
   "cell_type": "code",
   "execution_count": 5,
   "metadata": {},
   "outputs": [],
   "source": [
    "def diccionario(list1,list2):\n",
    "    if len(list1) != len(list2):\n",
    "        return False\n",
    "    \n",
    "    dic ={}\n",
    "    \n",
    "    for i in range(len(list1)):\n",
    "        dic[list1[i]] = list2[i]\n",
    "    return dic\n"
   ]
  },
  {
   "cell_type": "code",
   "execution_count": 6,
   "metadata": {},
   "outputs": [
    {
     "data": {
      "text/plain": [
       "{'key1': 5, 'key2': 6, 'key3': 7, 'key4': 8}"
      ]
     },
     "execution_count": 6,
     "metadata": {},
     "output_type": "execute_result"
    }
   ],
   "source": [
    "L1 = [\"key1\",\"key2\", \"key3\", \"key4\"]\n",
    "L2 = [5, 6, 7, 8]\n",
    "diccionario(L1,L2)"
   ]
  },
  {
   "cell_type": "markdown",
   "metadata": {},
   "source": [
    "3) Implementa una función que reciba una lista y devuelva True en caso de que el número 0 esté en la lista, y False en caso contrario"
   ]
  },
  {
   "cell_type": "code",
   "execution_count": 7,
   "metadata": {},
   "outputs": [],
   "source": [
    "def lista_finder(L):\n",
    "    if 0 in L:\n",
    "        return True\n",
    "    else:\n",
    "        return False"
   ]
  },
  {
   "cell_type": "code",
   "execution_count": 8,
   "metadata": {},
   "outputs": [
    {
     "data": {
      "text/plain": [
       "True"
      ]
     },
     "execution_count": 8,
     "metadata": {},
     "output_type": "execute_result"
    }
   ],
   "source": [
    "L = [4, 0, 6, 7]\n",
    "\n",
    "lista_finder(L)"
   ]
  },
  {
   "cell_type": "markdown",
   "metadata": {},
   "source": [
    "4) Implementa una función que reciba un número como argumento y devuelva True en caso de ser un número primo y False en caso contrario"
   ]
  },
  {
   "cell_type": "code",
   "execution_count": 9,
   "metadata": {},
   "outputs": [],
   "source": [
    "#EASY WAY\n",
    "def num_primo(n):\n",
    "    from sympy import isprime\n",
    "    \n",
    "\n",
    "    if isprime(n):\n",
    "        return True\n",
    "    else:\n",
    "        return False"
   ]
  },
  {
   "cell_type": "code",
   "execution_count": 10,
   "metadata": {},
   "outputs": [
    {
     "data": {
      "text/plain": [
       "True"
      ]
     },
     "execution_count": 10,
     "metadata": {},
     "output_type": "execute_result"
    }
   ],
   "source": [
    "num_primo(13)"
   ]
  },
  {
   "cell_type": "code",
   "execution_count": 21,
   "metadata": {},
   "outputs": [],
   "source": [
    " #solucion rafa zambrano\n",
    "    \n",
    "def isPrimo(num):\n",
    "    if num == 2:\n",
    "        return True\n",
    "    if num in [0,1]:\n",
    "        return False\n",
    "    \n",
    "    for i in range(2,num):\n",
    "        if num%i == 0:\n",
    "            return False\n",
    "       \n",
    "    return True"
   ]
  },
  {
   "cell_type": "code",
   "execution_count": 22,
   "metadata": {},
   "outputs": [
    {
     "data": {
      "text/plain": [
       "False"
      ]
     },
     "execution_count": 22,
     "metadata": {},
     "output_type": "execute_result"
    }
   ],
   "source": [
    "isPrimo(18)"
   ]
  },
  {
   "cell_type": "markdown",
   "metadata": {},
   "source": [
    "5) Implementa una función que reciba una lista como argumento y devuelva la misma lista acotada a los valores [-10, 10] (todo valor menor que -10 lo sustituirá por -10 y todo valor mayor que 10 lo sustituirá por 10)"
   ]
  },
  {
   "cell_type": "code",
   "execution_count": 75,
   "metadata": {},
   "outputs": [
    {
     "data": {
      "text/plain": [
       "[1, 5, 2, 10, 10, -10]"
      ]
     },
     "execution_count": 75,
     "metadata": {},
     "output_type": "execute_result"
    }
   ],
   "source": [
    "#solucion rafa zambrano\n",
    "def lista_acotada(lista):\n",
    "    for i in range(len(lista)):\n",
    "        if lista[i] < -10:\n",
    "            lista[i] = -10\n",
    "        elif lista[i] > 10:\n",
    "            lista[i] = 10\n",
    "    return lista\n",
    "lista_acotada([1,5,2,23243,12,-10])"
   ]
  },
  {
   "cell_type": "code",
   "execution_count": 26,
   "metadata": {},
   "outputs": [],
   "source": [
    "def acotar(lista):\n",
    "    lista2 = []\n",
    "    for i in lista:\n",
    "        if i < -10:\n",
    "            lista2.append(-10)\n",
    "        elif i > 10:\n",
    "            lista2.append(10)\n",
    "        else:\n",
    "            lista2.append(i)\n",
    "\n",
    "    return lista2\n"
   ]
  },
  {
   "cell_type": "code",
   "execution_count": 27,
   "metadata": {},
   "outputs": [
    {
     "data": {
      "text/plain": [
       "[-10, -10, 10, 5, 6]"
      ]
     },
     "execution_count": 27,
     "metadata": {},
     "output_type": "execute_result"
    }
   ],
   "source": [
    "acotar([-11,-34,56,5,6])"
   ]
  },
  {
   "cell_type": "markdown",
   "metadata": {},
   "source": [
    "6) Implementa una función que reciba un diccionario y devuelva el mismo diccionario pero con sus claves en letras mayúsculas"
   ]
  },
  {
   "cell_type": "code",
   "execution_count": 76,
   "metadata": {},
   "outputs": [],
   "source": [
    "#solucion rafa zambrano\n",
    "\n",
    "def diccionario(dic):\n",
    "    \n",
    "    d2 = {}\n",
    "    \n",
    "    for clave,valor in dic.items():\n",
    "        d2[str(clave).upper()] = valor\n",
    "    return d2\n",
    "    "
   ]
  },
  {
   "cell_type": "code",
   "execution_count": 78,
   "metadata": {},
   "outputs": [
    {
     "data": {
      "text/plain": [
       "{'A': 5, 'ASDA': 5, 'B': 565}"
      ]
     },
     "execution_count": 78,
     "metadata": {},
     "output_type": "execute_result"
    }
   ],
   "source": [
    "diccionario({\"a\":5, \"asda\":5, \"b\":565})"
   ]
  },
  {
   "cell_type": "markdown",
   "metadata": {},
   "source": [
    "7) Implementa una función que reciba una lista de números enteros y devuelva dos listas ordenadas. La primera lista contendrá los números pares y la segunda los números impares"
   ]
  },
  {
   "cell_type": "code",
   "execution_count": 81,
   "metadata": {},
   "outputs": [],
   "source": [
    "def pares_impares(L1):\n",
    "    \n",
    "    Lpares =[]\n",
    "    Limpares = []\n",
    "    for i in L1:\n",
    "        if i%2 == 0:\n",
    "            \n",
    "            Lpares.append(i)\n",
    "            \n",
    "        else:\n",
    "            Limpares.append(i)\n",
    "    return {\"Pares\":Lpares, # es mas facil devolver un diccionario   cuando tenemos que devolver\n",
    "            \"Impares\":Limpares} # dos cosas en el return\n",
    "    \n",
    "            "
   ]
  },
  {
   "cell_type": "code",
   "execution_count": 82,
   "metadata": {},
   "outputs": [
    {
     "data": {
      "text/plain": [
       "{'Pares': [6, 4, 2], 'Imapres': [5, 3, 7, 9]}"
      ]
     },
     "execution_count": 82,
     "metadata": {},
     "output_type": "execute_result"
    }
   ],
   "source": [
    "pares_impares([5,6,4,2,3,7,9])"
   ]
  },
  {
   "cell_type": "code",
   "execution_count": null,
   "metadata": {},
   "outputs": [],
   "source": []
  }
 ],
 "metadata": {
  "kernelspec": {
   "display_name": "Python 3",
   "language": "python",
   "name": "python3"
  },
  "language_info": {
   "codemirror_mode": {
    "name": "ipython",
    "version": 3
   },
   "file_extension": ".py",
   "mimetype": "text/x-python",
   "name": "python",
   "nbconvert_exporter": "python",
   "pygments_lexer": "ipython3",
   "version": "3.8.3"
  }
 },
 "nbformat": 4,
 "nbformat_minor": 4
}
