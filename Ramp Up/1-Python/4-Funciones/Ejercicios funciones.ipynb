{
 "cells": [
  {
   "cell_type": "markdown",
   "metadata": {},
   "source": [
    "# Ejercicios funciones\n",
    "## Ejercicio 1\n",
    "Escribe una función que convierta números del 1 al 7 en nombres de los dias de la semana. La función constará de un único argumento numérico y una salida de tipo string"
   ]
  },
  {
   "cell_type": "code",
   "execution_count": 18,
   "metadata": {},
   "outputs": [],
   "source": [
    "def conversion(num):\n",
    "    if num ==1:\n",
    "        output =\"Lunes\"\n",
    "    elif num ==2:\n",
    "        output = \"Martes\"\n",
    "    elif num ==3:\n",
    "        output =\"Miercoles\"\n",
    "    elif num ==4:\n",
    "        output =\"Jueves\"\n",
    "    elif num ==5:\n",
    "        output =\"Viernes\"\n",
    "    elif num ==6:\n",
    "        output =\"Sabado\"\n",
    "    elif num == 7:\n",
    "        output =\"Domingo\"\n",
    "    elif num > 7 or num<1:\n",
    "        output = \"No es un dia de la semana\"\n",
    "    return output"
   ]
  },
  {
   "cell_type": "code",
   "execution_count": 40,
   "metadata": {},
   "outputs": [
    {
     "name": "stdout",
     "output_type": "stream",
     "text": [
      "no es un dia\n"
     ]
    }
   ],
   "source": [
    "def dia_semana(numdia):\n",
    "    dias = [\"Lunes\", \"martes\", \"miercoles\", \"jueves\", \"viernes\", \"sabado\", \"domingo\"]\n",
    "    try:\n",
    "        output=dias[numdia-1]\n",
    "    except:\n",
    "        output = \"no es un dia\"\n",
    "    return output\n",
    "\n",
    "print(dia_semana(55))"
   ]
  },
  {
   "cell_type": "code",
   "execution_count": 19,
   "metadata": {},
   "outputs": [
    {
     "data": {
      "text/plain": [
       "'Sabado'"
      ]
     },
     "execution_count": 19,
     "metadata": {},
     "output_type": "execute_result"
    }
   ],
   "source": [
    "conversion(6)"
   ]
  },
  {
   "cell_type": "markdown",
   "metadata": {},
   "source": [
    "## Ejercicio 2\n",
    "Implementa una función que imprima una pirámide como la siguiente\n",
    "\n",
    "5 4 3 2 1  \n",
    "4 3 2 1  \n",
    "3 2 1  \n",
    "2 1  \n",
    "1  \n",
    "\n",
    "de altura variable según el argumento de entrada que indiquemos (en el ejemplo la altura sería 5)"
   ]
  },
  {
   "cell_type": "code",
   "execution_count": 15,
   "metadata": {},
   "outputs": [
    {
     "data": {
      "text/plain": [
       "[1, 2, 3, 4, 5]"
      ]
     },
     "execution_count": 15,
     "metadata": {},
     "output_type": "execute_result"
    }
   ],
   "source": [
    "lista3= list(range(1,6))\n",
    "lista3\n"
   ]
  },
  {
   "cell_type": "code",
   "execution_count": 16,
   "metadata": {},
   "outputs": [],
   "source": [
    "#NO LO ESTOY GUARDANDO EN NINGUN OUTPUT\n",
    "def ej2(num):\n",
    "    \n",
    "    lista = list(range(1,num+1))\n",
    "    lista.reverse()\n",
    "    \n",
    "    while len(lista)>0:\n",
    "        txt = \"\"\n",
    "        for ele in lista:\n",
    "            txt = txt + str(ele) + \" \"\n",
    "        out = print(txt)\n",
    "        lista.remove(lista[0])\n",
    "    \n",
    "\n",
    "                 "
   ]
  },
  {
   "cell_type": "code",
   "execution_count": 29,
   "metadata": {},
   "outputs": [],
   "source": [
    "#Guardandolo en un string\n",
    "def ej2(num):\n",
    "    \n",
    "    lista = list(range(1,num+1))\n",
    "    lista.reverse()\n",
    "    output = \"\"\n",
    "    while len(lista)>0:\n",
    "        \n",
    "        txt = \"\"\n",
    "        for ele in lista:\n",
    "            txt = txt + str(ele) + \" \"\n",
    "        print(txt)\n",
    "        output += txt+ \"\\n\"\n",
    "        lista.remove(lista[0])\n",
    "    return output\n"
   ]
  },
  {
   "cell_type": "code",
   "execution_count": 30,
   "metadata": {},
   "outputs": [
    {
     "name": "stdout",
     "output_type": "stream",
     "text": [
      "9 8 7 6 5 4 3 2 1 \n",
      "8 7 6 5 4 3 2 1 \n",
      "7 6 5 4 3 2 1 \n",
      "6 5 4 3 2 1 \n",
      "5 4 3 2 1 \n",
      "4 3 2 1 \n",
      "3 2 1 \n",
      "2 1 \n",
      "1 \n",
      "9 8 7 6 5 4 3 2 1 \n",
      "8 7 6 5 4 3 2 1 \n",
      "7 6 5 4 3 2 1 \n",
      "6 5 4 3 2 1 \n",
      "5 4 3 2 1 \n",
      "4 3 2 1 \n",
      "3 2 1 \n",
      "2 1 \n",
      "1 \n",
      "\n"
     ]
    }
   ],
   "source": [
    "ej2_1 = ej2(9)\n",
    "print(ej2_1)"
   ]
  },
  {
   "cell_type": "markdown",
   "metadata": {},
   "source": [
    "## Ejercicio 3\n",
    "Escibe una función que compare dos números. La función tiene dos argumentos y hay tres salidas posibles: que sean iguales, que el primero se  mayor que el segundo, o que el segundo sea mayor que el primero"
   ]
  },
  {
   "cell_type": "code",
   "execution_count": 11,
   "metadata": {},
   "outputs": [],
   "source": [
    "def comp(num1,num2):\n",
    "    output = None\n",
    "    try:\n",
    "        if num1 == num2:\n",
    "            output = \"Son iguales\"\n",
    "            print(type(output))\n",
    "        elif num1 > num2:\n",
    "            output = str(num1) +\" mayor que \" +str(num2)\n",
    "            print(type(output))\n",
    "        elif num1 > num2:\n",
    "            output = str(num1)+ \" menor que \" + str(num2)\n",
    "            print(type(output))\n",
    "    except:\n",
    "        print(\"Introduce dos elementos comparables\")\n",
    "    return output\n",
    "\n",
    "        "
   ]
  },
  {
   "cell_type": "code",
   "execution_count": 9,
   "metadata": {},
   "outputs": [
    {
     "name": "stdout",
     "output_type": "stream",
     "text": [
      "Introduce dos elementos comparables\n",
      "None\n"
     ]
    }
   ],
   "source": [
    "e = comp(3,[4,5])\n",
    "print(e)"
   ]
  },
  {
   "cell_type": "markdown",
   "metadata": {},
   "source": [
    "## Ejercicio 4\n",
    "Escribe una función que sea un contador de letras. En el primer argumento tienes que introducir un texto, y el segundo que sea la letra a contar. La función tiene que devolver un entero con el número de veces que aparece esa letra, tanto mayuscula, como minúscula"
   ]
  },
  {
   "cell_type": "code",
   "execution_count": 40,
   "metadata": {},
   "outputs": [
    {
     "data": {
      "text/plain": [
       "3"
      ]
     },
     "execution_count": 40,
     "metadata": {},
     "output_type": "execute_result"
    }
   ],
   "source": [
    "t = \"Hola amigoO\".lower()\n",
    "\n",
    "t.count(\"o\")"
   ]
  },
  {
   "cell_type": "code",
   "execution_count": 12,
   "metadata": {},
   "outputs": [],
   "source": [
    "def contador(texto,letra):\n",
    "    texto.lower()\n",
    "    output = texto.count(letra)\n",
    "    \n",
    "    return \"Hay \" + str(output) + \" \" + str(letra) + \" \" +  \"en '\" +texto +\"'\" \n",
    "    \n",
    "    \n",
    "    "
   ]
  },
  {
   "cell_type": "code",
   "execution_count": 13,
   "metadata": {},
   "outputs": [
    {
     "data": {
      "text/plain": [
       "\"Hay 2 o en 'hola amigo'\""
      ]
     },
     "execution_count": 13,
     "metadata": {},
     "output_type": "execute_result"
    }
   ],
   "source": [
    "contador(\"hola amigo\",\"o\")\n"
   ]
  },
  {
   "cell_type": "markdown",
   "metadata": {},
   "source": [
    "## Ejercicio 5\n",
    "Escribe una función que tenga un único argumento, un string. La salida de la función tiene que ser un diccionario con el contador de todas las letras de ese string."
   ]
  },
  {
   "cell_type": "code",
   "execution_count": 152,
   "metadata": {},
   "outputs": [],
   "source": [
    "#ESTE NO ME QUEDA CLARO REPASAR"
   ]
  },
  {
   "cell_type": "code",
   "execution_count": 153,
   "metadata": {},
   "outputs": [
    {
     "name": "stdout",
     "output_type": "stream",
     "text": [
      "1\n",
      "2\n",
      "1\n",
      "1\n",
      "1\n",
      "1\n",
      "1\n",
      "1\n",
      "1\n",
      "2\n"
     ]
    }
   ],
   "source": [
    "palabras = \"holA amigo\"\n",
    "palabras.lower()\n",
    "for i in palabras:\n",
    "    c = palabras.count(i)\n",
    "    print(c)\n",
    "    "
   ]
  },
  {
   "cell_type": "code",
   "execution_count": 143,
   "metadata": {},
   "outputs": [],
   "source": [
    "def ej5(cadena):\n",
    "    dicc = {}\n",
    "\n",
    "    cadena.lower()\n",
    "    print(cadena)\n",
    "    for i in cadena:\n",
    "        c = cadena.count(i)\n",
    "        dicc[i] = c\n",
    "        print(dicc)\n",
    "        output = dicc\n",
    "\n",
    "        return output\n",
    "    "
   ]
  },
  {
   "cell_type": "code",
   "execution_count": 150,
   "metadata": {},
   "outputs": [
    {
     "data": {
      "text/plain": [
       "{'h': 1, 'o': 3, 'l': 1, 'a': 2, ' ': 2, 't': 1, 'd': 1, 's': 1}"
      ]
     },
     "execution_count": 150,
     "metadata": {},
     "output_type": "execute_result"
    }
   ],
   "source": [
    "def contador_string(texto):\n",
    "    contador = {}\n",
    "    for letra in texto:\n",
    "        #contador.get(keyname, value)\n",
    "        contador[letra] = contador.get(letra,0) + 1\n",
    "    return contador\n",
    "contador_string(\"hola a todos\")"
   ]
  },
  {
   "cell_type": "code",
   "execution_count": 156,
   "metadata": {},
   "outputs": [
    {
     "data": {
      "text/plain": [
       "9"
      ]
     },
     "execution_count": 156,
     "metadata": {},
     "output_type": "execute_result"
    }
   ],
   "source": [
    "#PRACTICANDO CON GET\n",
    "# SOBRE TODO PARA DICCIONARIOS \n",
    "my_dict = {\"Antonio\" : 9,\"Erika\": 8, \"Dani\":9}\n",
    "\n",
    "my_dict.get(\"Dani\")\n",
    "\n",
    "my_dict.get(\"Adri\", 0) #intenta darme la nota de adri (VALUE ) y si no está le pones un 0 \n",
    "my_dict.[\"Adri\"]"
   ]
  },
  {
   "cell_type": "code",
   "execution_count": 148,
   "metadata": {},
   "outputs": [
    {
     "name": "stdout",
     "output_type": "stream",
     "text": [
      "alohamaja\n",
      "4\n",
      "1\n",
      "1\n",
      "1\n",
      "4\n",
      "1\n",
      "4\n",
      "1\n",
      "4\n"
     ]
    }
   ],
   "source": [
    "cadena = \"alohamaja\"\n",
    "cadena.lower()\n",
    "print(cadena)\n",
    "for i in cadena:\n",
    "        c = cadena.count(i)\n",
    "        print(c)"
   ]
  },
  {
   "cell_type": "markdown",
   "metadata": {},
   "source": [
    "## Ejercicio 6\n",
    "Escribir una función que añada o elimine elementos en una lista. La función necesita los siguientes argumentos:\n",
    "* lista: la lista donde se añadirán o eliminarán los elementos\n",
    "* comando: \"add\" o \"remove\"\n",
    "* elemento: Por defecto es None."
   ]
  },
  {
   "cell_type": "code",
   "execution_count": 16,
   "metadata": {},
   "outputs": [],
   "source": [
    "def ej6(lista,comando,elem = None):\n",
    "    output = \"\"\n",
    "    if elem == None:\n",
    "        print(\"No has introducido el elemento\")\n",
    "    elif comando == \"remove\" and (elem in lista) == False: #not in \n",
    "        print(\"El elemento no está en la lista\")\n",
    "    elif comando == \"add\":\n",
    "        lista.append(elem)\n",
    "        output = lista\n",
    "    elif comando == \"remove\" and elem in lista:\n",
    "        lista.remove(elem)\n",
    "        output = lista\n",
    "    else:\n",
    "        print(\"Introduciste un comando erroneo\")\n",
    "    return output"
   ]
  },
  {
   "cell_type": "code",
   "execution_count": 17,
   "metadata": {},
   "outputs": [
    {
     "name": "stdout",
     "output_type": "stream",
     "text": [
      "[4, 5]\n"
     ]
    }
   ],
   "source": [
    "out = ej6([3,4,5],\"remove\",3)\n",
    "\n",
    "print(out)"
   ]
  },
  {
   "cell_type": "markdown",
   "metadata": {},
   "source": [
    "## Ejercicio 7\n",
    "Crea una función que reciba un número arbitrario de palabras, y devuelva una frase completa, separando las palabras con espacios."
   ]
  },
  {
   "cell_type": "code",
   "execution_count": 128,
   "metadata": {},
   "outputs": [
    {
     "data": {
      "text/plain": [
       "str"
      ]
     },
     "execution_count": 128,
     "metadata": {},
     "output_type": "execute_result"
    }
   ],
   "source": [
    "arg = (\"hola\", \"ere\", \"rrrr\")\n",
    "type(arg[1])"
   ]
  },
  {
   "cell_type": "code",
   "execution_count": 138,
   "metadata": {},
   "outputs": [],
   "source": [
    "\n",
    "def ej7(*args):\n",
    "    txt = \"\"\n",
    "    for i in args:\n",
    "        \n",
    "        txt += i + \" \"\n",
    "    output = txt\n",
    "    return output    \n",
    "\n"
   ]
  },
  {
   "cell_type": "code",
   "execution_count": 139,
   "metadata": {},
   "outputs": [
    {
     "data": {
      "text/plain": [
       "'hola te quiero '"
      ]
     },
     "execution_count": 139,
     "metadata": {},
     "output_type": "execute_result"
    }
   ],
   "source": [
    "ej7(\"hola\",\"te\",\"quiero\")"
   ]
  },
  {
   "cell_type": "code",
   "execution_count": 22,
   "metadata": {},
   "outputs": [],
   "source": [
    "#otra forma de hacerlo \n",
    "def une_palabras(*palabras):\n",
    "    try:\n",
    "        output = \" \".join(palabras)\n",
    "        \n",
    "    except: \n",
    "        output = \"introduce valores tipo string\"\n",
    "    return output\n",
    "\n"
   ]
  },
  {
   "cell_type": "code",
   "execution_count": 23,
   "metadata": {},
   "outputs": [
    {
     "data": {
      "text/plain": [
       "'hola que tal'"
      ]
     },
     "execution_count": 23,
     "metadata": {},
     "output_type": "execute_result"
    }
   ],
   "source": [
    "une_palabras(\"hola\", \"que\", \"tal\")"
   ]
  },
  {
   "cell_type": "markdown",
   "metadata": {},
   "source": [
    "## Ejercicio 8\n",
    "Escribe un programa que obtenga el n-ésimo número de la [serie de Fibonacci](https://es.wikipedia.org/wiki/Sucesi%C3%B3n_de_Fibonacci). Tienes que crear una función recursiva con un único argumento.\n",
    "\n",
    "```Python\n",
    "fibonacci(2) = 1\n",
    "fibonacci(4) = 3\n",
    "fibonacci(5) = 5\n",
    "fibonacci(8) = 21\n",
    "```"
   ]
  },
  {
   "cell_type": "code",
   "execution_count": 25,
   "metadata": {},
   "outputs": [
    {
     "name": "stdout",
     "output_type": "stream",
     "text": [
      "Fibonacci sequence:\n",
      "0\n",
      "1\n",
      "1\n",
      "2\n",
      "3\n",
      "5\n",
      "8\n",
      "13\n",
      "21\n",
      "34\n"
     ]
    }
   ],
   "source": [
    "#SOLUTION FROM INTERNET\n",
    "# Python program to display the Fibonacci sequence\n",
    "\n",
    "def recur_fibo(n):\n",
    "   if n <= 1:\n",
    "       return n\n",
    "   else:\n",
    "       return(recur_fibo(n-1) + recur_fibo(n-2))\n",
    "\n",
    "nterms = 10\n",
    "\n",
    "# check if the number of terms is valid\n",
    "if nterms <= 0:\n",
    "   print(\"Plese enter a positive integer\")\n",
    "else:\n",
    "   print(\"Fibonacci sequence:\")\n",
    "   for i in range(nterms):\n",
    "       print(recur_fibo(i))"
   ]
  },
  {
   "cell_type": "code",
   "execution_count": 26,
   "metadata": {},
   "outputs": [
    {
     "data": {
      "text/plain": [
       "5"
      ]
     },
     "execution_count": 26,
     "metadata": {},
     "output_type": "execute_result"
    }
   ],
   "source": [
    "recur_fibo(5)"
   ]
  },
  {
   "cell_type": "code",
   "execution_count": 29,
   "metadata": {},
   "outputs": [],
   "source": [
    "# solucion rafa zambrano \n",
    "def fibonacci(n):\n",
    "    if n==1 or n==2:\n",
    "        return 1\n",
    "    elif n==0:\n",
    "        return 0\n",
    "    else:\n",
    "        return(fibonacci(n-1) + fibonacci(n-2))"
   ]
  },
  {
   "cell_type": "code",
   "execution_count": 30,
   "metadata": {},
   "outputs": [
    {
     "name": "stdout",
     "output_type": "stream",
     "text": [
      "1\n",
      "2\n",
      "3\n",
      "5\n",
      "8\n",
      "13\n",
      "21\n"
     ]
    }
   ],
   "source": [
    "print(fibonacci(2))\n",
    "print(fibonacci(3))\n",
    "print(fibonacci(4))\n",
    "print(fibonacci(5))\n",
    "print(fibonacci(6))\n",
    "print(fibonacci(7))\n",
    "print(fibonacci(8))"
   ]
  },
  {
   "cell_type": "markdown",
   "metadata": {},
   "source": [
    "## Ejercicio 9\n",
    "Define en una única celda las siguientes funciones:\n",
    "* Función que calcule el área de un cuadrado\n",
    "* Función que calcule el area de un triángulo\n",
    "* Función que calcule el área de un círculo\n",
    "\n",
    "En otra celda, calcular el area de:\n",
    "* Dos círculos de radio 10 + un triángulo de base 3 y altura 7\n",
    "* Un cuadrado de lado = 10 + 3 círculos (uno de radio = 4 y los otros dos de radio = 6) + 5 triángulos de base = 2 + altura = 4"
   ]
  },
  {
   "cell_type": "code",
   "execution_count": 1,
   "metadata": {},
   "outputs": [],
   "source": [
    "#Calculando el area cuadrado\n",
    "def cuadrado(lado):\n",
    "    area = lado**2\n",
    "    return area_cu\n",
    "#Calculando el area triangulo\n",
    "def triangulo(base,altura):\n",
    "    area = (base * altura)/2\n",
    "    return area_tri\n",
    "\n",
    "#Calculando el area circulo\n",
    "import math\n",
    "def circulo(radio):\n",
    "    area = math.pi*radio**2\n",
    "    return area_cir"
   ]
  },
  {
   "cell_type": "code",
   "execution_count": 10,
   "metadata": {},
   "outputs": [
    {
     "data": {
      "text/plain": [
       "638.8185307179587"
      ]
     },
     "execution_count": 10,
     "metadata": {},
     "output_type": "execute_result"
    }
   ],
   "source": [
    "circulo(10)*2 + triangulo(3,7)"
   ]
  },
  {
   "cell_type": "code",
   "execution_count": 11,
   "metadata": {},
   "outputs": [
    {
     "data": {
      "text/plain": [
       "396.46015351590177"
      ]
     },
     "execution_count": 11,
     "metadata": {},
     "output_type": "execute_result"
    }
   ],
   "source": [
    "cuadrado(10) + circulo(4)+circulo(6)*2+ triangulo(2,4)*5"
   ]
  },
  {
   "cell_type": "markdown",
   "metadata": {},
   "source": [
    "## Ejercicio 10\n",
    "Solicitar al usuario que ingrese su dirección email. Imprimir un mensaje indicando si la dirección es válida o no, valiéndose de una función para decidirlo. Una dirección se considerará válida si contiene el símbolo \"@\"."
   ]
  },
  {
   "cell_type": "code",
   "execution_count": 42,
   "metadata": {},
   "outputs": [],
   "source": [
    "def adress(email):\n",
    "    try:\n",
    "        if \"@\" in email:\n",
    "            output= True\n",
    "            print(\"OK\")\n",
    "        else:\n",
    "            output= False\n",
    "            print(\"Not valid adress\")\n",
    "    except:\n",
    "        output= False\n",
    "        print(\"not a valid input\")\n",
    "    return output"
   ]
  },
  {
   "cell_type": "code",
   "execution_count": 43,
   "metadata": {},
   "outputs": [
    {
     "name": "stdout",
     "output_type": "stream",
     "text": [
      "OK\n",
      "OK\n",
      "Not valid adress\n"
     ]
    },
    {
     "data": {
      "text/plain": [
       "[True, True, False]"
      ]
     },
     "execution_count": 43,
     "metadata": {},
     "output_type": "execute_result"
    }
   ],
   "source": [
    "emails = [\"erika@gmail\", \"eks@eksasdad\", \"asdasdasdsadad.es\"]\n",
    "\n",
    "[adress(email) for email in emails]"
   ]
  },
  {
   "cell_type": "code",
   "execution_count": 38,
   "metadata": {},
   "outputs": [
    {
     "name": "stdout",
     "output_type": "stream",
     "text": [
      "OK\n"
     ]
    }
   ],
   "source": [
    "adress(\"hola@\")"
   ]
  },
  {
   "cell_type": "markdown",
   "metadata": {},
   "source": [
    "## Ejercicio 11\n",
    "Escribe una función que compruebe si un DNI es válido, devolviendo `True` en caso afirmativo.  \n",
    "En primer lugar, el DNI debe tener entre 7 y 8 dígitos numéricos.  \n",
    "Para saber si la letra del DNI es correcta puedes utilizar el siguiente fragmento de código:\n",
    ">```Python\n",
    ">DNI= 55555555\n",
    ">palabra='TRWAGMYFPDXBNJZSQVHLCKE'\n",
    ">print('La letra del DNI es: ', palabra[DNI%23])\n",
    ">````\n"
   ]
  },
  {
   "cell_type": "code",
   "execution_count": 51,
   "metadata": {},
   "outputs": [],
   "source": [
    "def prueba_dni(dni):\n",
    "    letra = dni[-1]\n",
    "    num = dni[:-1]\n",
    "    palabra='TRWAGMYFPDXBNJZSQVHLCKE'\n",
    "    letraOK = palabra [int(num)%23]\n",
    "    \n",
    "    if letraOK == letra and len(dni) >=8 and len(dni)<=9:\n",
    "        return True\n",
    "    else:\n",
    "        return False\n",
    "    \n",
    "        \n",
    "    "
   ]
  },
  {
   "cell_type": "code",
   "execution_count": 52,
   "metadata": {},
   "outputs": [
    {
     "data": {
      "text/plain": [
       "True"
      ]
     },
     "execution_count": 52,
     "metadata": {},
     "output_type": "execute_result"
    }
   ],
   "source": [
    "prueba_dni(\"34048643H\")"
   ]
  },
  {
   "cell_type": "code",
   "execution_count": null,
   "metadata": {},
   "outputs": [],
   "source": []
  }
 ],
 "metadata": {
  "kernelspec": {
   "display_name": "Python 3",
   "language": "python",
   "name": "python3"
  },
  "language_info": {
   "codemirror_mode": {
    "name": "ipython",
    "version": 3
   },
   "file_extension": ".py",
   "mimetype": "text/x-python",
   "name": "python",
   "nbconvert_exporter": "python",
   "pygments_lexer": "ipython3",
   "version": "3.8.3"
  }
 },
 "nbformat": 4,
 "nbformat_minor": 4
}
