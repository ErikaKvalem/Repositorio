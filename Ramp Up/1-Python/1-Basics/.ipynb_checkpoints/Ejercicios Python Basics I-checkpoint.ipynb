{
 "cells": [
  {
   "cell_type": "markdown",
   "metadata": {},
   "source": [
    "# Ejercicios Python Basics I"
   ]
  },
  {
   "cell_type": "markdown",
   "metadata": {},
   "source": [
    "## Ejercicio 1\n",
    "Imprime por pantalla esta cita con el siguiente formato\n",
    "\n",
    "![imagen](./img/frase_Einstein.PNG)"
   ]
  },
  {
   "cell_type": "code",
   "execution_count": 25,
   "metadata": {},
   "outputs": [
    {
     "name": "stdout",
     "output_type": "stream",
     "text": [
      "¿Por qué esta magnifica tecnología cientifica\n",
      "\tque ahorra trabajo y nos hace la vida mas facil\n",
      "\t\tnos aporta tan poca felicidad?\t\n",
      "\n"
     ]
    }
   ],
   "source": [
    "print(\"¿Por qué esta magnifica tecnología cientifica\\n\\t\"+\n",
    "      \"que ahorra trabajo y nos hace la vida mas facil\\n\\t\\t\" + \n",
    "      \"nos aporta tan poca felicidad?\\t\\n\")"
   ]
  },
  {
   "cell_type": "markdown",
   "metadata": {},
   "source": [
    "## Ejercicio 2\n",
    "1. Escribe el nombre de la calle de tu domicilio\n",
    "2. Escribe el numero de la calle en otra\n",
    "3. Población en una tercera\n",
    "4. Codigo postal en la cuarta variable\n",
    "5. Crea una quinta variable que concatene todas ellas\n",
    "6. Imprimela por pantalla"
   ]
  },
  {
   "cell_type": "code",
   "execution_count": 30,
   "metadata": {},
   "outputs": [
    {
     "name": "stdout",
     "output_type": "stream",
     "text": [
      "Calle Medea 18 Getafe 28905\n"
     ]
    }
   ],
   "source": [
    "calle = \"Calle Medea\"\n",
    "numero_calle = \"18\"\n",
    "poblacion = \"Getafe\"\n",
    "cpostal = \"28905\"\n",
    "\n",
    "direccion = calle + \" \" + numero_calle +\" \"+ poblacion + \" \"+ cpostal\n",
    "print(direccion)"
   ]
  },
  {
   "cell_type": "markdown",
   "metadata": {},
   "source": [
    "## Ejercicio 3\n",
    "Replica el output del ejercicio dos, pero está vez sin usar una variable intermedia que concatene todas las demas. Realiza este ejercicio en una línea, con un  único `print`"
   ]
  },
  {
   "cell_type": "code",
   "execution_count": 31,
   "metadata": {},
   "outputs": [
    {
     "name": "stdout",
     "output_type": "stream",
     "text": [
      "Calle Medea 18 Getafe 28905\n"
     ]
    }
   ],
   "source": [
    "calle = \"Calle Medea\"\n",
    "numero_calle = \"18\"\n",
    "poblacion = \"Getafe\"\n",
    "cpostal = \"28905\"\n",
    "\n",
    "print(calle + \" \" + numero_calle +\" \"+ poblacion + \" \"+ cpostal)"
   ]
  },
  {
   "cell_type": "markdown",
   "metadata": {},
   "source": [
    "## Ejercicio 4\n",
    "¿Qué variables están mal escritas y por qué? Realiza primero tu hipótesis y luego ejecuta las variables para comprobarlo. En ese orden :)\n",
    "\n",
    "\n",
    "1. mi_variable = \"Economía\"\n",
    "2. otra_var = \"Ejercicio\n",
    "3. True = \"Ejercicio\"\n",
    "4. mi variab1e = \"Alpha\"\n",
    "5. exec = True\n",
    "6. import = 40\n",
    "7. 81mi_variable = \"Agua\"\n",
    "8. mi_variable10 = 6"
   ]
  },
  {
   "cell_type": "code",
   "execution_count": 41,
   "metadata": {},
   "outputs": [],
   "source": [
    "mi_variable = \"Economia\"\n",
    "otra_var = \"Ejercicio\"\n",
    "Otra_true =\"Ejercicio\"\n",
    "mivariable = \"Alpha\"\n",
    "Otra_exec = True\n",
    "Otra_import = 40 \n",
    "mi_variable81 = \"Agua\"\n",
    "mi_variable10 = 6 "
   ]
  },
  {
   "cell_type": "markdown",
   "metadata": {},
   "source": [
    "1. ok\n",
    "2. \"Ejercicio\"\n",
    "3. True no puede ser nombre de var\n",
    "4. mivariable sin espacios\n",
    "5. ok * exec es una funcion no puede ser var ?¿ \n",
    "6. import no puede ser var\n",
    "7. no puede empezar por numero\n",
    "8. ok"
   ]
  },
  {
   "cell_type": "markdown",
   "metadata": {},
   "source": [
    "## Ejercicio 5\n",
    "Realiza un conversor de grados Celsius a Fahrenheit. El conversor tiene que recibir el input del usuario y devolver la conversión.\n",
    "\n",
    "La conversión de grados sigue la siguiente fórmula: F = (C × 9 / 5) + 32 "
   ]
  },
  {
   "cell_type": "code",
   "execution_count": 48,
   "metadata": {},
   "outputs": [
    {
     "name": "stdout",
     "output_type": "stream",
     "text": [
      "Introduce la temperatura en Celsius 786\n",
      "Esta es temperatura en Fahrenheit: 1446.8 F\n"
     ]
    }
   ],
   "source": [
    "temp_celsius = input(\"Introduce la temperatura en Celsius \") #Pedimos que introduzca la temp \n",
    "\n",
    "\"\"\"Esto simplemente es un comentario multlinea \n",
    "para practicar \"\"\"\n",
    "\n",
    "temp_celsius=float(temp_celsius)\n",
    "\n",
    "\"\"\"El usuario no deberia introducir dato tipo str. \n",
    "El input se guarda automaticamente tipo str\"\"\"\n",
    "\n",
    "temp_f = (temp_celsius * 9/5) + 32\n",
    "\n",
    "print(\"Esta es temperatura en Fahrenheit:\", temp_f, \"F\")"
   ]
  },
  {
   "cell_type": "markdown",
   "metadata": {},
   "source": [
    "## Ejercicio 6\n",
    "Comenta en la medida de lo posible el Ejercicio 5. Será suficiente con poner al menos un comentario de línea, y otro multilínea"
   ]
  },
  {
   "cell_type": "code",
   "execution_count": null,
   "metadata": {},
   "outputs": [],
   "source": []
  }
 ],
 "metadata": {
  "kernelspec": {
   "display_name": "Python 3",
   "language": "python",
   "name": "python3"
  },
  "language_info": {
   "codemirror_mode": {
    "name": "ipython",
    "version": 3
   },
   "file_extension": ".py",
   "mimetype": "text/x-python",
   "name": "python",
   "nbconvert_exporter": "python",
   "pygments_lexer": "ipython3",
   "version": "3.8.3"
  }
 },
 "nbformat": 4,
 "nbformat_minor": 4
}
