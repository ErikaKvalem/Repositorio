{
 "cells": [
  {
   "cell_type": "markdown",
   "metadata": {},
   "source": [
    "# Ejercicios Python Basics II"
   ]
  },
  {
   "cell_type": "markdown",
   "metadata": {},
   "source": [
    "## Ejercicio 1\n",
    "* Crea dos variables numericas: un `int` y un `float`\n",
    "* Comprueba sus tipos\n",
    "* Sumalas en otra nueva\n",
    "* ¿De qué tipo es la nueva variable?\n",
    "* Elimina las dos primeras variables creadas"
   ]
  },
  {
   "cell_type": "code",
   "execution_count": 8,
   "metadata": {},
   "outputs": [
    {
     "name": "stdout",
     "output_type": "stream",
     "text": [
      "<class 'int'>\n",
      "<class 'float'>\n",
      "90.78\n",
      "<class 'float'>\n"
     ]
    },
    {
     "ename": "NameError",
     "evalue": "name 'var1' is not defined",
     "output_type": "error",
     "traceback": [
      "\u001b[0;31m---------------------------------------------------------------------------\u001b[0m",
      "\u001b[0;31mNameError\u001b[0m                                 Traceback (most recent call last)",
      "\u001b[0;32m<ipython-input-8-a318557b9790>\u001b[0m in \u001b[0;36m<module>\u001b[0;34m\u001b[0m\n\u001b[1;32m     19\u001b[0m \u001b[0;34m\u001b[0m\u001b[0m\n\u001b[1;32m     20\u001b[0m \u001b[0;34m\u001b[0m\u001b[0m\n\u001b[0;32m---> 21\u001b[0;31m \u001b[0mvar1\u001b[0m\u001b[0;34m\u001b[0m\u001b[0;34m\u001b[0m\u001b[0m\n\u001b[0m",
      "\u001b[0;31mNameError\u001b[0m: name 'var1' is not defined"
     ]
    }
   ],
   "source": [
    "#Variables numericas\n",
    "var1 = 56\n",
    "var2 = 34.78\n",
    "\n",
    "#Comprobamos el tipo de variable\n",
    "print(type(var1))\n",
    "print(type(var2))\n",
    "\n",
    "#Suma\n",
    "sum= var1 + var2\n",
    "\n",
    "print(sum)\n",
    "\n",
    "#Tipo de var de la suma\n",
    "print(type(sum))\n",
    "\n",
    "\n",
    "#Eliminamos las variables con del\n",
    "del(var1)\n",
    "del(var2)\n",
    "\n",
    "\n"
   ]
  },
  {
   "cell_type": "markdown",
   "metadata": {},
   "source": [
    "## Ejercicio 2\n",
    "Escribe un programa para pasar de grados a radianes. Hay que usar `input`. Recuerda que la conversión se realiza mediante\n",
    "\n",
    "radianes = grados*(pi/180)"
   ]
  },
  {
   "cell_type": "code",
   "execution_count": 20,
   "metadata": {},
   "outputs": [
    {
     "name": "stdout",
     "output_type": "stream",
     "text": [
      "Introduce los grados 76\n",
      "Esta es la traslacion a radianes 1.3264502315156905 rad\n"
     ]
    }
   ],
   "source": [
    "\n",
    "\n",
    "import math\n",
    "grados = input(\"Introduce los grados \")\n",
    "grados = float(grados)\n",
    "radianes = grados * (math.pi/180)\n",
    "\n",
    "print(\"Esta es la traslacion a radianes\", radianes, \"rad\")\n",
    "\n",
    "\n",
    "\n"
   ]
  },
  {
   "cell_type": "markdown",
   "metadata": {},
   "source": [
    "## Ejercicio 3\n",
    "Escribe un programa que calcule el area de un paralelogramo (base x altura). También con `input`"
   ]
  },
  {
   "cell_type": "code",
   "execution_count": 31,
   "metadata": {},
   "outputs": [
    {
     "name": "stdout",
     "output_type": "stream",
     "text": [
      "Introduce la base del paralelogramo34\n",
      "Introduce la altura del paralelogramo12\n",
      "El area del paralelogramo es: 408.0 cm²\n",
      "El area del paralelogramo es: 408.0 cm²\n"
     ]
    }
   ],
   "source": [
    "base = input(\"Introduce la base del paralelogramo\")\n",
    "altura = input(\"Introduce la altura del paralelogramo\")\n",
    "\n",
    "area = float(base) * float(altura) \n",
    "\n",
    "print(\"El area del paralelogramo es:\", area, \"cm\\N{SUPERSCRIPT TWO}\")\n",
    "\n",
    "#usando unicode \n",
    "\n",
    "#print(\"El area del paralelogramo es:\", area, \"cm\\u00b2\")"
   ]
  },
  {
   "cell_type": "markdown",
   "metadata": {},
   "source": [
    "## Ejercicio 4\n",
    "Tenemos las siguientes variables:\n",
    "\n",
    "```Python\n",
    "A = 4\n",
    "B = \"Text\"\n",
    "C = 4.1\n",
    "```\n",
    "\n",
    "Comprueba:\n",
    "1. Si A y B son equivalentes\n",
    "2. Si A y C NO son equivalentes\n",
    "3. Si A es mayor que C \n",
    "4. Si C es menor o igual que A\n",
    "5. Si B NO es equivalente a C"
   ]
  },
  {
   "cell_type": "code",
   "execution_count": 28,
   "metadata": {},
   "outputs": [
    {
     "name": "stdout",
     "output_type": "stream",
     "text": [
      "False\n",
      "True\n",
      "False\n",
      "False\n",
      "True\n"
     ]
    }
   ],
   "source": [
    "A = 4\n",
    "B = \"Text\"\n",
    "C = 4.1\n",
    "\n",
    "print(A == B)\n",
    "\n",
    "print(A != C)\n",
    "\n",
    "print(A > C)\n",
    "\n",
    "print(C < A)\n",
    "\n",
    "print (B != C)"
   ]
  },
  {
   "cell_type": "markdown",
   "metadata": {},
   "source": [
    "## Ejercicio 5\n",
    "Crea un programa donde se recojan dos inputs del usuario, y el output del programa sea si esos inputs son iguales o no"
   ]
  },
  {
   "cell_type": "code",
   "execution_count": 34,
   "metadata": {},
   "outputs": [
    {
     "name": "stdout",
     "output_type": "stream",
     "text": [
      "Introduce tu peso 12\n",
      "Introduce tu altura 123\n",
      "Tu peso y altura son iguales ?¿  False\n"
     ]
    }
   ],
   "source": [
    "peso = input(\"Introduce tu peso \")\n",
    "\n",
    "altura = input(\"Introduce tu altura \")\n",
    "\n",
    "comp = (peso == altura)\n",
    "\n",
    "print(\"Tu peso y altura son iguales ?¿ \", comp)"
   ]
  },
  {
   "cell_type": "markdown",
   "metadata": {},
   "source": [
    "## Ejercicio 6\n",
    "Mismo programa que en 5, pero en esta ocasión tienen que ser tres inputs y dos salidas. Una de las salidas que nos indique si todos son iguales, y la otra si al menos dos inputs sí que lo son"
   ]
  },
  {
   "cell_type": "code",
   "execution_count": 37,
   "metadata": {},
   "outputs": [
    {
     "name": "stdout",
     "output_type": "stream",
     "text": [
      "Introduce tu peso 76\n",
      "Introduce tu altura 87\n",
      "Introduce lo que mide tu cadera76\n",
      "Tu peso, altura y cintura son iguales ?¿  False\n",
      "Al menos dos de ellos son iguales ?¿  True\n"
     ]
    }
   ],
   "source": [
    "peso = input(\"Introduce tu peso \")\n",
    "\n",
    "altura = input(\"Introduce tu altura \")\n",
    "\n",
    "cintura = input(\"Introduce lo que mide tu cadera\")\n",
    "\n",
    "comp = (peso == altura) and (peso == cintura) and (altura == cintura)\n",
    "\n",
    "comp2 = (peso == altura) or (peso == cintura) or (altura == cintura)\n",
    "\n",
    "print(\"Tu peso, altura y cintura son iguales ?¿ \", comp)\n",
    "print(\"Al menos dos de ellos son iguales ?¿ \", comp2)"
   ]
  },
  {
   "cell_type": "markdown",
   "metadata": {},
   "source": [
    "## Ejercicio 7\n",
    "Crea un programa que recoja dos inputs. Tiene que comprobar si su suma es igual, superior o inferior a 10"
   ]
  },
  {
   "cell_type": "code",
   "execution_count": 4,
   "metadata": {},
   "outputs": [
    {
     "name": "stdout",
     "output_type": "stream",
     "text": [
      "Introduce el primer numero: 2\n",
      "Introduce el segundo numero: 3\n",
      "El resultado es igual a 10:  False\n",
      "El resultado es menor a 10:  True\n",
      "El resultado es mayor a 10:  False\n"
     ]
    }
   ],
   "source": [
    "a = input(\"Introduce el primer numero: \")\n",
    "b = input(\"Introduce el segundo numero: \")\n",
    "\n",
    "suma = float(a) + float(b) \n",
    "resultado_igual = (suma == 10)\n",
    "resultado_inf = (suma < 10)\n",
    "resultado_sup = (suma > 10)\n",
    "\n",
    "print(\"El resultado es igual a 10: \", resultado_igual)\n",
    "print(\"El resultado es menor a 10: \", resultado_inf)\n",
    "print(\"El resultado es mayor a 10: \", resultado_sup)\n"
   ]
  },
  {
   "cell_type": "markdown",
   "metadata": {},
   "source": [
    "## Ejercicio 8\n",
    "Razona sin ejecutar código el output que obtendremos de las siguientes sentencias\n",
    "1. True and True and False\n",
    "2. not ((True or False) and (True or False))\n",
    "3. (False or False or False or True) and False\n",
    "4. not False and True and not True"
   ]
  },
  {
   "cell_type": "markdown",
   "metadata": {},
   "source": [
    "1. False\n",
    "2. false\n",
    "3. false\n",
    "4. false"
   ]
  },
  {
   "cell_type": "markdown",
   "metadata": {},
   "source": [
    "## Ejercicio 9\n",
    "Para este ejercicio vamos a poner en práctica [las funciones built in](https://docs.python.org/3/library/functions.html).\n",
    "\n",
    "1. Calcula el máximo de la lista: [4, 6, 8, -1]\n",
    "2. Suma todos los elementos de la lista anterior\n",
    "3. Redondea este float a 3 dígitos decimales: 63.451256965\n",
    "4. Valor absoluto de: -74"
   ]
  },
  {
   "cell_type": "code",
   "execution_count": 13,
   "metadata": {},
   "outputs": [
    {
     "name": "stdout",
     "output_type": "stream",
     "text": [
      "8\n",
      "12\n",
      "63.451\n",
      "74\n"
     ]
    }
   ],
   "source": [
    "print(max([1,4,8,-1]))\n",
    "print(sum([1,4,8,-1]))\n",
    "print(round(63.451256965,3))\n",
    "print(abs(-74))"
   ]
  },
  {
   "cell_type": "markdown",
   "metadata": {},
   "source": [
    "## Ejercicio 10\n",
    "Para el siguiente string se pide imprimir por pantalla los siguientes casos\n",
    "\n",
    "    \"A quien madruga, dios le ayuda\"\n",
    "\n",
    "1. Pasarlo todo a mayusculas\n",
    "2. Pasarlo todo a minusculas\n",
    "3. Solo las iniciales de las palabras\n",
    "4. Crea una lista dividiendolo por sus espacios\n",
    "5. Sustituye las comas `,` por puntos y comas `;`\n",
    "6. Elimina las `a` minusculas"
   ]
  },
  {
   "cell_type": "code",
   "execution_count": 27,
   "metadata": {},
   "outputs": [
    {
     "name": "stdout",
     "output_type": "stream",
     "text": [
      "A QUIEN MADRUGA, DIOS LE AYUDA\n",
      "a quien madruga, dios le ayuda\n",
      "A Quien Madruga, Dios Le Ayuda\n",
      "['A', 'quien', 'madruga,', 'dios', 'le', 'ayuda']\n",
      "A quien madruga; dios le ayuda\n",
      "A quien mdrug, dios le yud\n"
     ]
    }
   ],
   "source": [
    "string = \"A quien madruga, dios le ayuda\"\n",
    "print(string.upper()) #IMPORTANTE EL PARENTESIS eEN UPPER()\n",
    "print(string.lower())\n",
    "print(string.title())\n",
    "print(string.split(\" \"))\n",
    "print(string.replace(\",\",\";\"))\n",
    "print(string.replace(\"a\",\"\"))\n",
    "\n",
    "\n",
    "\n"
   ]
  },
  {
   "cell_type": "markdown",
   "metadata": {},
   "source": [
    "## Ejercicio 11\n",
    "1. Crea una lista con 3 elementos numéricos\n",
    "2. Añade un cuarto elemento\n",
    "3. Calcula la suma de todos\n",
    "4. Elimina el segundo elemento de la lista\n",
    "5. Añade otro elemento en la posicion 3 de la lista\n",
    "6. Crea otra lista con 4 elementos y concaténala a la que ya tenías."
   ]
  },
  {
   "cell_type": "code",
   "execution_count": 11,
   "metadata": {},
   "outputs": [
    {
     "name": "stdout",
     "output_type": "stream",
     "text": [
      "[3, 5, 6, 4]\n",
      "[3, 6, 4]\n",
      "[3, 6, 5, 4]\n",
      "[3, 6, 5, 4, 4, 2, 7]\n"
     ]
    }
   ],
   "source": [
    "lista = [3,5,6]\n",
    "\n",
    "lista.append(4)\n",
    "print(lista)\n",
    "\n",
    "sum(lista)\n",
    "\n",
    "lista.pop(1)\n",
    "print(lista)\n",
    "\n",
    "lista.insert(2,5)\n",
    "print(lista)\n",
    "\n",
    "lista2 = [4 ,2 ,7]\n",
    "\n",
    "print(lista + lista2)\n",
    "\n",
    "\n",
    "\n"
   ]
  },
  {
   "cell_type": "code",
   "execution_count": null,
   "metadata": {},
   "outputs": [],
   "source": []
  }
 ],
 "metadata": {
  "kernelspec": {
   "display_name": "Python 3",
   "language": "python",
   "name": "python3"
  },
  "language_info": {
   "codemirror_mode": {
    "name": "ipython",
    "version": 3
   },
   "file_extension": ".py",
   "mimetype": "text/x-python",
   "name": "python",
   "nbconvert_exporter": "python",
   "pygments_lexer": "ipython3",
   "version": "3.8.3"
  }
 },
 "nbformat": 4,
 "nbformat_minor": 4
}
