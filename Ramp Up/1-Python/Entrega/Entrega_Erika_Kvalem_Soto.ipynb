{
 "cells": [
  {
   "cell_type": "markdown",
   "metadata": {},
   "source": [
    "# Entrega Ramp Up\n"
   ]
  },
  {
   "cell_type": "markdown",
   "metadata": {},
   "source": [
    "## Ejercicio 1\n",
    "#### Crear un programa que calcule la cuota de una hipoteca\n",
    "\n",
    "Las cuotas hipotecarias se calculan utilizando la fórmula del interés frances. El objetivo del ejercicio es crear un programa que solicite al usuario los datos de su hipoteca (cantidad, intereses, y plazo en años) y le devuelva la cuota mensual a pagar\n",
    "\n",
    "La formula del interés frances es la siguiente:\n",
    "\\begin{align*}\n",
    "C=V \\frac{(1+i)^n i}{(1+i)^n -1}\n",
    "\\end{align*}\n",
    "\n",
    "\n",
    "    C = Cuota a pagar\n",
    "    V = Cantidad del préstamo hipotecario\n",
    "    i = tipo de interés del período (tipo de interes de la hipoteca por mes)\n",
    "    n = número de cuotas (en meses)\n",
    "\n",
    "V = 300.000\n",
    "\n",
    "i = 2 %\n",
    "\n",
    "n = 20*12\n",
    "\n",
    "output: 1517"
   ]
  },
  {
   "cell_type": "markdown",
   "metadata": {},
   "source": [
    "<font color='blue'>**RESULTADO**</font>"
   ]
  },
  {
   "cell_type": "code",
   "execution_count": 2,
   "metadata": {},
   "outputs": [
    {
     "name": "stdout",
     "output_type": "stream",
     "text": [
      "Introduce la cantidad del prestamo hipotecario 300\n",
      "Introduce el tipo de interes 23\n",
      "Introduce el numero de cuota en años 1\n",
      "La cuota a pagar es:  28.22 €\n"
     ]
    }
   ],
   "source": [
    "v = input(\"Introduce la cantidad del prestamo hipotecario \")\n",
    "i = input(\"Introduce el tipo de interes \")\n",
    "n = input(\"Introduce el numero de cuota en años \")\n",
    "n = int(n)*12\n",
    "i = (float(i)/12)/100\n",
    "\n",
    "v =float(v)\n",
    "\n",
    "\n",
    "# controlar que no introduzca intereses 0-1 \n",
    "\n",
    "numerator = ((1 + i)**n) * i \n",
    "denominator = ((1 + i)**n) -1 \n",
    "cuota = v * (numerator / denominator)\n",
    "\n",
    "print(\"La cuota a pagar es: \", round(cuota,2), \"€\")\n"
   ]
  },
  {
   "cell_type": "markdown",
   "metadata": {},
   "source": [
    "# Ejercicio 2\n",
    "#### Crear un programa que calcule el plan de amortización\n",
    "\n",
    "El objetivo del ejercicio es crear un programa que solicite al usuario los datos de su hipoteca (cantidad, intereses, y plazo en años) y le devuelva el plan de amortización.\n",
    "\n",
    "En cada cuota se pagan intereses por el capital restante, y se devuelve capital hasta la cuota mensual. El capital restante ha de ser actualizado restandole el capital devuelto.\n",
    "\n",
    "Salida ejemplo:\n",
    "\n",
    "mes  cuota  intereses  principal  pendiente   \n",
    "\n",
    "0  758.89   450.00   308.89   179691.11 \n",
    "\n",
    "**NOTA**: Tienes que partir de tipo de interes por periodo calculado en el apartado anterior, y del total de la hipoteca. Para cada mes calcular:\n",
    "\n",
    "1. cuota (apartado anterior)\n",
    "2. intereses a pagar del mes (lo que quede por pagar * interes por periodo del apartado anterior)\n",
    "3. principal (cuota - interes)\n",
    "4. pendiente (lo que quede por pagar - principal)"
   ]
  },
  {
   "cell_type": "markdown",
   "metadata": {},
   "source": [
    "<font color='blue'>**RESULTADO**</font>"
   ]
  },
  {
   "cell_type": "code",
   "execution_count": 5,
   "metadata": {},
   "outputs": [
    {
     "name": "stdout",
     "output_type": "stream",
     "text": [
      "Introduce la cantidad del prestamo hipotecario 312\n",
      "Introduce el tipo de interes 12\n",
      "Introduce el numero de cuota en años 2\n",
      "[24, 14.12, 0.14, 13.98, 0.07]\n"
     ]
    }
   ],
   "source": [
    "cantidad = input(\"Introduce la cantidad del prestamo hipotecario \")\n",
    "cantidad =float(v) \n",
    "\n",
    "interes = input(\"Introduce el tipo de interes \")\n",
    "interes = (float(interes)/12)/100 # convertimos el interes por año a por mes\n",
    "\n",
    "plazo= input(\"Introduce el numero de cuota en años \")\n",
    "plazo = int(plazo)*12 # Convertimos los años en meses\n",
    "\n",
    "pendiente = cantidad\n",
    "\n",
    "lista_imonto = [interes]\n",
    "lista_principal = []\n",
    "lista_pendiente = []\n",
    "meses = 1\n",
    "\n",
    "numerator = ((1 + interes)**plazo) * interes \n",
    "denominator = ((1 + interes)**plazo) -1 \n",
    "cuota = cantidad * (numerator / denominator)\n",
    "#print(round(cuota,2))\n",
    "\n",
    "#lista = [mes, round(cuota,2), round(interes_monto,2), round(principal,2),round(pendiente,2)]\n",
    "while meses <= plazo:\n",
    "\n",
    "    interes_monto = round(pendiente*interes,2)\n",
    "    lista_imonto.append(interes_monto)\n",
    "    #print(\"lista_imonto\")\n",
    "    #print(interes_monto)\n",
    "    #print(lista_imonto)\n",
    "\n",
    "    principal = round(cuota - interes_monto,2)\n",
    "    lista_principal.append(principal)\n",
    "    #print(\"lista_principal\")\n",
    "    #print(principal)\n",
    "    #print(lista_principal)\n",
    "    pendiente = round(pendiente - principal,2)\n",
    "    if pendiente< 0:\n",
    "        break\n",
    "    else:\n",
    "        lista_pendiente.append(pendiente)\n",
    "    #print(\"lista_pendiente\")\n",
    "    #print(pendiente)\n",
    "    #print(lista_pendiente)\n",
    "        lista = [meses, round(cuota,2), round(interes_monto,2), round(principal,2),round(pendiente,2)]\n",
    "        meses += 1\n",
    "print(lista)"
   ]
  },
  {
   "cell_type": "markdown",
   "metadata": {},
   "source": [
    "## Ejercicio 3\n",
    "#### Crear un programa que resuelva una ecuacción de segundo grado\n",
    "\n",
    "El objetivo del programa es resolver la ecuacción de sgundo grado \n",
    "\n",
    "\\begin{align*}\n",
    "ax^2+bx+c = 0\n",
    "\\end{align*}\n",
    "\n",
    "Pasando como parámetros los coeficientes de la ecuacción. La resolución de la ecuacción es la siguiente:\n",
    "\n",
    "\\begin{align*}\n",
    "x=\\frac{-b \\pm \\sqrt{b^2-4ac}}{2a}\n",
    "\\end{align*}\n",
    "\n",
    "Para realizar este programa tienes que utilizar el metodo sqrt() para calcular la raiz cuadrada. Para ello tienes que importar el módulo math. Así que tu programa debería empezar con ```ìmport math```\n"
   ]
  },
  {
   "cell_type": "markdown",
   "metadata": {},
   "source": [
    "<font color='blue'>**RESULTADO**</font>\n",
    "\n",
    "He creado dos soluciones. Una que usa el modulo cmath y otra que usa math. \n",
    "La primera funciona en el dominio de los numeros complejos, la segunda no. "
   ]
  },
  {
   "cell_type": "code",
   "execution_count": 87,
   "metadata": {},
   "outputs": [
    {
     "name": "stdout",
     "output_type": "stream",
     "text": [
      "Introduce a2\n",
      "Introduce b1\n",
      "Introduce c2\n",
      "(-1+3.872983346207417j)\n",
      "(1+3.872983346207417j)\n"
     ]
    }
   ],
   "source": [
    "import cmath # allows the use of complex numbers \n",
    "import math #only works in the domain of real numbers\n",
    "\n",
    "\n",
    "a = input(\"Introduce a\")\n",
    "b = input(\"Introduce b\")\n",
    "c = input (\"Introduce c\")\n",
    "\n",
    "try:\n",
    "    a = float(a)\n",
    "    b = float(b)\n",
    "    c = float(c)\n",
    "    \n",
    "    x1 = (-b + cmath.sqrt(b**2 - 4*a*c))/ 2*a\n",
    "    print(x1)\n",
    "    x2 = (+b + cmath.sqrt(b**2 - 4*a*c))/ 2*a\n",
    "    print(x2)\n",
    "    \n",
    "except Exception as ex:\n",
    "    \n",
    "    print(ex)\n",
    "\n",
    "    \n",
    "\n",
    "    \n",
    "    "
   ]
  },
  {
   "cell_type": "code",
   "execution_count": 90,
   "metadata": {},
   "outputs": [
    {
     "name": "stdout",
     "output_type": "stream",
     "text": [
      "Introduce a4\n",
      "Introduce b3\n",
      "Introduce c1\n",
      "This program is only in the real domain. Introduce other input\n"
     ]
    }
   ],
   "source": [
    "import math #only works in the domain of real numbers\n",
    "\n",
    "\n",
    "a = input(\"Introduce a\")\n",
    "b = input(\"Introduce b\")\n",
    "c = input (\"Introduce c\")\n",
    "\n",
    "try:\n",
    "    a = float(a)\n",
    "    b = float(b)\n",
    "    c = float(c)\n",
    "    if b**2 - 4*a*c <= -1:\n",
    "        print(\"This program is only in the real domain. Introduce other input\")\n",
    "    else:\n",
    "        x1 = (-b + math.sqrt(b**2 - 4*a*c))/ 2*a\n",
    "        print(x1)\n",
    "        x2 = (+b + math.sqrt(b**2 - 4*a*c))/ 2*a\n",
    "        print(x2)\n",
    "    \n",
    "except Exception as ex:\n",
    "    \n",
    "    print(ex)\n",
    "\n",
    "    "
   ]
  },
  {
   "cell_type": "markdown",
   "metadata": {},
   "source": [
    "## Ejercicio 4\n",
    "#### Crear un programa que calcule el average\n",
    "\n",
    "El programa pedirá al usuario que introduzca numeros. En primer lugar le pedirá que indique cuantos números se quieren introducir, y enseñara un prompt para incluirlos, y calculará el average.\n",
    "\n",
    "> ¿Cuántos números vas a introducir?: 3  \n",
    "> Introduzca número: 10  \n",
    "> Introduzca número: 20  \n",
    "> Introduzca número: 30  \n",
    "> La media es de 20  "
   ]
  },
  {
   "cell_type": "markdown",
   "metadata": {},
   "source": [
    "<font color='blue'>**RESULTADO**</font>\n",
    "\n",
    "He desarrollado dos soluciones. Una aplicando la lógica de la operación para la media. Otra usando la libreria statistics"
   ]
  },
  {
   "cell_type": "code",
   "execution_count": 126,
   "metadata": {},
   "outputs": [
    {
     "name": "stdout",
     "output_type": "stream",
     "text": [
      "Cuanto numeros quieres introducir? 4\n",
      "Introduce un numero 2\n",
      "Introduce un numero 5\n",
      "Introduce un numero 1\n",
      "Introduce un numero 7\n",
      "La media es:  3.75\n"
     ]
    }
   ],
   "source": [
    "\n",
    "n =int(input(\"Cuanto numeros quieres introducir? \"))\n",
    "suma = 0\n",
    "for i in range(n):\n",
    "    number = input(\"Introduce un numero \")\n",
    "    \n",
    "    try:\n",
    "        number = float(number)\n",
    "        suma = number + suma\n",
    "        \n",
    "    except Exception as ex:\n",
    "        print(ex)\n",
    "#print(numeros)    \n",
    "print(\"La media es: \", round(suma/n, 3))\n",
    "\n",
    "        \n",
    "        "
   ]
  },
  {
   "cell_type": "code",
   "execution_count": 125,
   "metadata": {},
   "outputs": [
    {
     "name": "stdout",
     "output_type": "stream",
     "text": [
      "Cuanto numeros quieres introducir? 2\n",
      "Introduce un numero 1\n",
      "Introduce un numero 2\n",
      "La media es:  1.5\n"
     ]
    }
   ],
   "source": [
    "# Importando el modulo statistics\n",
    "import statistics \n",
    "n =int(input(\"Cuanto numeros quieres introducir? \"))\n",
    "numeros = []\n",
    "for i in range(n):\n",
    "    number = input(\"Introduce un numero \")\n",
    "    \n",
    "    try:\n",
    "        number = float(number)\n",
    "        numeros.append(number)\n",
    "        \n",
    "    except Exception as ex:\n",
    "        print(ex)\n",
    "#print(numeros)    \n",
    "print(\"La media es: \", round(statistics.mean(numeros), 3))\n",
    "\n",
    "        \n",
    "        "
   ]
  },
  {
   "cell_type": "markdown",
   "metadata": {},
   "source": [
    "## Ejercicio 5\n",
    "#### Crear un programa que calcule el average II\n",
    "\n",
    "El programa pedirá que se diga cuantos números se quieren introducir, y enseñara un prompt para incluir número a número en una lista, y calcule después el average.\n"
   ]
  },
  {
   "cell_type": "markdown",
   "metadata": {},
   "source": [
    "<font color='blue'>**RESULTADO**</font>\n",
    "\n",
    "He desarrollado dos soluciones. Una aplicando la lógica de la operación para el average. Otra usando la libreria statistics"
   ]
  },
  {
   "cell_type": "code",
   "execution_count": 18,
   "metadata": {},
   "outputs": [
    {
     "name": "stdout",
     "output_type": "stream",
     "text": [
      "Cuanto numeros quieres introducir? 4\n",
      "Introduce una numero1\n",
      "Introduce una numero2\n",
      "Introduce una numero3\n",
      "Introduce una numero4\n",
      "2.5\n"
     ]
    }
   ],
   "source": [
    "# Importando el modulo statistics\n",
    "import statistics \n",
    "n =int(input(\"Cuanto numeros quieres introducir? \"))\n",
    "numeros = []\n",
    "for i in range(n):\n",
    "    num = input(\"Introduce una numero\")\n",
    "    \n",
    "    try: \n",
    "        num = float(num)\n",
    "        numeros.append(num)\n",
    "    \n",
    "    except:\n",
    "        print(\"No introdujiste un numero\")\n",
    "        \n",
    "average = sum(numeros)/len(numeros)\n",
    "average = round(average,4)\n",
    "print(average)    \n"
   ]
  },
  {
   "cell_type": "code",
   "execution_count": 24,
   "metadata": {},
   "outputs": [
    {
     "name": "stdout",
     "output_type": "stream",
     "text": [
      "Cuanto numeros quieres introducir? 4\n",
      "Introduce un numero 1\n",
      "Introduce un numero 3\n",
      "Introduce un numero 6\n",
      "Introduce un numero 2\n",
      "3.0\n"
     ]
    }
   ],
   "source": [
    "# Importando el modulo statistics\n",
    "import statistics \n",
    "n =int(input(\"Cuanto numeros quieres introducir? \"))\n",
    "numeros = []\n",
    "for i in range(n):\n",
    "    num = input(\"Introduce un numero \")\n",
    "    \n",
    "    try: \n",
    "        num = float(num)\n",
    "        numeros.append(num)\n",
    "    \n",
    "    except:\n",
    "        print(\"No introdujiste un numero\")\n",
    "        \n",
    "\n",
    "\n",
    "av = round(statistics.mean(numeros),3)\n",
    "print(av) "
   ]
  },
  {
   "cell_type": "markdown",
   "metadata": {},
   "source": [
    "### Ejercicio 6\n",
    "#### Escribe un programa para convertir una lista a un string \n",
    "\n",
    "Ejemplo de lista : ['a','b','c','d']\n",
    "\n",
    "Salida esperada : abcd"
   ]
  },
  {
   "cell_type": "markdown",
   "metadata": {},
   "source": [
    "<font color='blue'>**RESULTADO**</font>\n"
   ]
  },
  {
   "cell_type": "code",
   "execution_count": 25,
   "metadata": {},
   "outputs": [
    {
     "name": "stdout",
     "output_type": "stream",
     "text": [
      "abcd\n",
      "<class 'str'>\n"
     ]
    }
   ],
   "source": [
    "milista = [\"a\", \"b\", \"c\",\"d\"]\n",
    "x = \"\".join(milista)\n",
    "\n",
    "print(x)\n",
    "print(type(x))"
   ]
  },
  {
   "cell_type": "markdown",
   "metadata": {},
   "source": [
    "## Ejercicio 7\n",
    "#### Función de varios tipos\n",
    "Define una función que reciba como argumentos un número entero y una lista, y devuelva los elementos de la lista multiplicados por el entero en formato lista.  \n",
    "\n",
    "Ejecuta la función con los siguientes argumentos:\n",
    "```Python\n",
    "L = [1,2,3]\n",
    "n = 5\n",
    "```\n",
    "\n",
    "Output esperado: \n",
    "```Python\n",
    "[5, 10, 15]\n",
    "```\n"
   ]
  },
  {
   "cell_type": "code",
   "execution_count": 23,
   "metadata": {},
   "outputs": [],
   "source": [
    "def multiplica(numero,lista):\n",
    "    \n",
    "    nueva_lista = []\n",
    "    for i in range(len(lista)):\n",
    "        \n",
    "        \n",
    "        nueva_lista.append(lista[i]*numero)\n",
    "    return nueva_lista\n",
    "\n",
    "    "
   ]
  },
  {
   "cell_type": "code",
   "execution_count": 24,
   "metadata": {},
   "outputs": [
    {
     "data": {
      "text/plain": [
       "[18, 24, 54]"
      ]
     },
     "execution_count": 24,
     "metadata": {},
     "output_type": "execute_result"
    }
   ],
   "source": [
    "multiplica(6,[3,4,9])"
   ]
  },
  {
   "cell_type": "markdown",
   "metadata": {},
   "source": [
    "## Ejercicio 8\n",
    "#### Interactuando con listas\n",
    "\n",
    "Dada la lista \n",
    "\n",
    "gadgets = [\"Mobile\", \"Laptop\", 100, \"Camera\", 310.28, \"Speakers\", 27.00,\n",
    "\"Television\", 1000, \"Laptop Case\", \"Camera Lens\"]\n",
    "\n",
    "a) Crea listas separadas de strings y números   \n",
    "\n",
    "b) Ordena la lista de strings de forma ascendente   \n",
    "\n",
    "c) Ordena la lista de strings de forma descendente   \n",
    "\n",
    "d) Ordena la lista de números de menor a mayor  \n",
    "\n",
    "e) Ordena la lista de números de mayor a menor"
   ]
  },
  {
   "cell_type": "code",
   "execution_count": 18,
   "metadata": {},
   "outputs": [
    {
     "name": "stdout",
     "output_type": "stream",
     "text": [
      "['Mobile', 'Laptop', 'Camera', 'Speakers', 'Television', 'Laptop Case', 'Camera Lens']\n",
      "[100, 310.28, 27.0, 1000]\n",
      "['Camera', 'Camera Lens', 'Laptop', 'Laptop Case', 'Mobile', 'Speakers', 'Television']\n",
      "['Television', 'Speakers', 'Mobile', 'Laptop Case', 'Laptop', 'Camera Lens', 'Camera']\n",
      "[27.0, 100, 310.28, 1000]\n",
      "[1000, 310.28, 100, 27.0]\n"
     ]
    }
   ],
   "source": [
    "#a)\n",
    "\n",
    "gadgets = [\"Mobile\", \"Laptop\", 100, \"Camera\", 310.28, \"Speakers\", 27.00,\n",
    "\"Television\", 1000, \"Laptop Case\", \"Camera Lens\"]\n",
    "\n",
    "palabras = []\n",
    "numeros = []\n",
    "for i in gadgets:\n",
    "    if type(i) == str:\n",
    "        \n",
    "        palabras.append(i)\n",
    "    elif (type(i) == int) or (type(i) == float):\n",
    "        numeros.append(i)\n",
    "    else:\n",
    "        print(\"Es un tipo de dato que no estamos considerando\")\n",
    "print(palabras)\n",
    "print(numeros)\n",
    "\n",
    "#b) \n",
    "\n",
    "print(sorted(palabras))\n",
    "\n",
    "#c) \n",
    "\n",
    "print(sorted(palabras, reverse = True))\n",
    "\n",
    "#d)\n",
    "\n",
    "print(sorted(numeros))\n",
    "\n",
    "#e) \n",
    "print(sorted(numeros, reverse = True))"
   ]
  },
  {
   "cell_type": "markdown",
   "metadata": {},
   "source": [
    "## Ejercicio 9\n",
    "#### Obtener los dos mayores valores de la lista\n",
    "\n",
    "L = [84,84,86,86,85,85,85,83,23,45,84,1,2,0]\n",
    "\n",
    "La salida debe ser 86 y 85"
   ]
  },
  {
   "cell_type": "code",
   "execution_count": 11,
   "metadata": {},
   "outputs": [
    {
     "name": "stdout",
     "output_type": "stream",
     "text": [
      "El valor maximo en la lista es: 86\n",
      "[84, 84, 85, 85, 85, 83, 23, 45, 84, 1, 2, 0]\n",
      "El valor submaximo en la lista es: 85\n"
     ]
    }
   ],
   "source": [
    "L = [84,84,86,86,85,85,85,83,23,45,84,1,2,0]\n",
    "valor_max = max(L)\n",
    "print(\"El valor maximo en la lista es:\",valor_max)\n",
    "\n",
    "contador = L.count(valor_max)\n",
    "\n",
    "\n",
    "for i in range(contador):\n",
    "    L.remove(valor_max)\n",
    "print(L) \n",
    "\n",
    "valor_submax = max(L)\n",
    "print(\"El valor submaximo en la lista es:\",valor_submax)\n"
   ]
  },
  {
   "cell_type": "markdown",
   "metadata": {},
   "source": [
    "## Ejercicio 10\n",
    "#### Detectar si un string es un palíndromo\n",
    "Solicita al usuario que introduzca una cadena de texto y comprueba si es un palíndromo (un palíndromo se lee igual de izquierda a derecha que de derecha a izquierda)\n",
    "\n",
    "Ejemplo de palíndromo: *amad a la dama*"
   ]
  },
  {
   "cell_type": "markdown",
   "metadata": {},
   "source": [
    "<font color='blue'>**RESULTADO**</font>"
   ]
  },
  {
   "cell_type": "code",
   "execution_count": 7,
   "metadata": {},
   "outputs": [],
   "source": [
    "\n",
    "def palindromo(cadena):\n",
    "    cadena = cadena.replace(\" \",\"\")\n",
    "    #print(cadena)\n",
    "    rev_cadena = \"\".join(reversed(cadena))#not sure how this works\n",
    "    #print(rev_cadena)\n",
    "    \n",
    "    if cadena == rev_cadena:\n",
    "        return True\n",
    "        \n",
    "    else: \n",
    "        \n",
    "        return False\n"
   ]
  },
  {
   "cell_type": "code",
   "execution_count": 10,
   "metadata": {},
   "outputs": [
    {
     "name": "stdout",
     "output_type": "stream",
     "text": [
      "Es un palindromo\n"
     ]
    }
   ],
   "source": [
    "out = palindromo(\"121\")\n",
    "\n",
    "if out ==True:\n",
    "    print(\"Es un palindromo\")\n",
    "elif out == False:\n",
    "    print(\"No es un paindromo\")"
   ]
  },
  {
   "cell_type": "markdown",
   "metadata": {},
   "source": [
    "## (Bonus) Ejercicio 11\n",
    "#### Desarrolla el juego del ahorcado\n",
    "El juego del ahorcado consiste en adivinar una palabra, probando letra a letra. El jugador tiene permitidos 6 fallos, al 7º fallo pierde. \n",
    "\n",
    "* Habrá que imprimir por pantalla una cantidad de guiones igual al numero de letras e ir sustituyéndolos con los aciertos.\n",
    "* Necesitarás usar un bucle while con un input para modelar las jugadas del ahoracado. En cada ejecución del while comprueba las vidas del jugador, y los aciertos."
   ]
  },
  {
   "cell_type": "markdown",
   "metadata": {},
   "source": [
    "<font color='blue'>**RESULTADO**</font>\n",
    "\n",
    "- El programa funciona como el clasico juego del ahorcado. \n",
    "- La palabra a adivinar está definida previamente.\n",
    "- El programa no avisa si introduce un numero, asume que estas introduciendo letras\n",
    "- El programa no avisa si repites una letra ya usada\n",
    "- El programa no avisa si introduces mas de una letra\n",
    "- El programa no avisa si introduces un string vacío\n"
   ]
  },
  {
   "cell_type": "code",
   "execution_count": 1,
   "metadata": {},
   "outputs": [
    {
     "name": "stdout",
     "output_type": "stream",
     "text": [
      "Introduce una letra: g\n",
      "Letras usadas: ['g']\n",
      "['_', '_', '_', '_', '_', '_', '_', '_']\n",
      "\n",
      "  ----\n",
      " |    |\n",
      " |     \n",
      " |     \n",
      "---    \n",
      "Menos 1 vida. Tienes  6 vidas\n",
      "Introduce una letra: s\n",
      "Letras usadas: ['g', 's']\n",
      "['_', '_', '_', '_', '_', '_', '_', '_']\n",
      "\n",
      "  ----\n",
      " |    |\n",
      " |    o\n",
      " |     \n",
      "---    \n",
      "Menos 1 vida. Tienes  5 vidas\n",
      "Introduce una letra: a\n",
      "\n",
      "  ----\n",
      " |    |\n",
      " |    o\n",
      " |     \n",
      "---    \n",
      "Letras usadas: ['g', 's', 'a']\n",
      "['_', 'a', '_', 'a', '_', 'a', '_', 'a']\n",
      "Introduce una letra: s\n",
      "Letras usadas: ['g', 's', 'a', 's']\n",
      "['_', 'a', '_', 'a', '_', 'a', '_', 'a']\n",
      "\n",
      "  ----\n",
      " |    |\n",
      " |    o\n",
      " |    |\n",
      "---    \n",
      "Menos 1 vida. Tienes  4 vidas\n",
      "Introduce una letra: c\n",
      "\n",
      "  ----\n",
      " |    |\n",
      " |    o\n",
      " |    |\n",
      "---    \n",
      "Letras usadas: ['g', 's', 'a', 's', 'c']\n",
      "['c', 'a', '_', 'a', '_', 'a', '_', 'a']\n",
      "Introduce una letra: a\n",
      "\n",
      "  ----\n",
      " |    |\n",
      " |    o\n",
      " |    |\n",
      "---    \n",
      "Letras usadas: ['g', 's', 'a', 's', 'c', 'a']\n",
      "['c', 'a', '_', 'a', '_', 'a', '_', 'a']\n",
      "Introduce una letra: s\n",
      "Letras usadas: ['g', 's', 'a', 's', 'c', 'a', 's']\n",
      "['c', 'a', '_', 'a', '_', 'a', '_', 'a']\n",
      "\n",
      "  ----\n",
      " |    |\n",
      " |    o\n",
      " |    |\n",
      "---    `\n",
      "Menos 1 vida. Tienes  3 vidas\n",
      "Introduce una letra: c\n",
      "\n",
      "  ----\n",
      " |    |\n",
      " |    o\n",
      " |    |\n",
      "---    `\n",
      "Letras usadas: ['g', 's', 'a', 's', 'c', 'a', 's', 'c']\n",
      "['c', 'a', '_', 'a', '_', 'a', '_', 'a']\n",
      "Introduce una letra: c\n",
      "\n",
      "  ----\n",
      " |    |\n",
      " |    o\n",
      " |    |\n",
      "---    `\n",
      "Letras usadas: ['g', 's', 'a', 's', 'c', 'a', 's', 'c', 'c']\n",
      "['c', 'a', '_', 'a', '_', 'a', '_', 'a']\n",
      "Introduce una letra: a\n",
      "\n",
      "  ----\n",
      " |    |\n",
      " |    o\n",
      " |    |\n",
      "---    `\n",
      "Letras usadas: ['g', 's', 'a', 's', 'c', 'a', 's', 'c', 'c', 'a']\n",
      "['c', 'a', '_', 'a', '_', 'a', '_', 'a']\n",
      "Introduce una letra: c\n",
      "\n",
      "  ----\n",
      " |    |\n",
      " |    o\n",
      " |    |\n",
      "---    `\n",
      "Letras usadas: ['g', 's', 'a', 's', 'c', 'a', 's', 'c', 'c', 'a', 'c']\n",
      "['c', 'a', '_', 'a', '_', 'a', '_', 'a']\n",
      "Introduce una letra: c\n",
      "\n",
      "  ----\n",
      " |    |\n",
      " |    o\n",
      " |    |\n",
      "---    `\n",
      "Letras usadas: ['g', 's', 'a', 's', 'c', 'a', 's', 'c', 'c', 'a', 'c', 'c']\n",
      "['c', 'a', '_', 'a', '_', 'a', '_', 'a']\n",
      "Introduce una letra: e\n",
      "Letras usadas: ['g', 's', 'a', 's', 'c', 'a', 's', 'c', 'c', 'a', 'c', 'c', 'e']\n",
      "['c', 'a', '_', 'a', '_', 'a', '_', 'a']\n",
      "\n",
      "  ----\n",
      " |    |\n",
      " |    o\n",
      " |    |\n",
      "---  ´ `\n",
      "Menos 1 vida. Tienes  2 vidas\n",
      "Introduce una letra: q\n",
      "Letras usadas: ['g', 's', 'a', 's', 'c', 'a', 's', 'c', 'c', 'a', 'c', 'c', 'e', 'q']\n",
      "['c', 'a', '_', 'a', '_', 'a', '_', 'a']\n",
      "\n",
      "  ----\n",
      " |    |\n",
      " |    o\n",
      " |   -|\n",
      "---  ´ `\n",
      "Menos 1 vida. Tienes  1 vidas\n",
      "Introduce una letra: k\n",
      "Letras usadas: ['g', 's', 'a', 's', 'c', 'a', 's', 'c', 'c', 'a', 'c', 'c', 'e', 'q', 'k']\n",
      "['c', 'a', '_', 'a', '_', 'a', '_', 'a']\n",
      "\n",
      "  ----\n",
      " |    |\n",
      " |    o\n",
      " |   -|\n",
      "---  ´ `\n",
      "Has perdido\n"
     ]
    }
   ],
   "source": [
    "palabra = \"caravana\" #La palabra a adivinar está definida previamente.\n",
    "lista_palabra = list(palabra) #Lista donde guardo las letras de la palabra. \n",
    "\n",
    "#Generando los guiones la primera vez\n",
    "lista_guiones = [] #Lista donde guardo los guiones e irán apareciendo letras\n",
    "letras_usadas = [] #Lista donde guardo las letras que el usuario ha usado\n",
    "\n",
    "for i in palabra:\n",
    "    #print(\"_ \", end = \" \")\n",
    "    lista_guiones.append(\"_\")\n",
    "\n",
    "#El usuario tiene 7 vidas\n",
    "vidas = 7\n",
    "\n",
    "# La iteracion termina si se acaban las vidas\n",
    "#o la lista con guiones es igual a la lista con las letras de la palabra\n",
    "while vidas !=0 or lista_guiones != lista_palabra: \n",
    "    \n",
    "    letra = input(\"Introduce una letra: \").lower() # El usuario introduce una letra\n",
    "    \n",
    "    letras_usadas.append(letra)\n",
    "    \n",
    "    \n",
    "    #Lista de posiciones donde esta la letra introducida \n",
    "    lista_posiciones =[posicion for posicion, char in enumerate(palabra) if char == letra]\n",
    "\n",
    "    #Imprime los guiones menos donde estan las letras\n",
    "\n",
    "    for j in lista_posiciones:\n",
    "        lista_guiones.pop(j)\n",
    "        lista_guiones.insert(j,palabra[j])\n",
    "        \n",
    "    # CONDICION 1   \n",
    "    # Si la lista con las letras de la palabra y la de guiones coincide ha adivinado la palabra\n",
    "    if lista_palabra == lista_guiones:\n",
    "        print(\"Has ganado\")\n",
    "        vidas =0\n",
    "        \n",
    "        \n",
    "    #CONDICION 2\n",
    "    #Si la letra está en la palabra y tiene 7 vidas todavía\n",
    "    elif letra in palabra and vidas == 7:\n",
    "    \n",
    "        #Imprime la lista con las letras y guiones de la anterior ejeccuon\n",
    "        print(lista_guiones)\n",
    "        \n",
    "        \n",
    "    #CONDICION 3\n",
    "    #Si la letra está en la palabra y tiene menos de 7 vidas\n",
    "    elif letra in palabra and vidas<7:\n",
    "    \n",
    "    #PRINT Dibujo de anterior ejecucion\n",
    "\n",
    "        if vidas==6:\n",
    "\n",
    "            print()\n",
    "            print(\"  ----\")\n",
    "            print(\" |    |\")\n",
    "            print(\" |     \")\n",
    "            print(\" |     \")\n",
    "            print(\"---    \")\n",
    "\n",
    "        elif vidas==5:\n",
    "\n",
    "            print()\n",
    "            print(\"  ----\")\n",
    "            print(\" |    |\")\n",
    "            print(\" |    o\")\n",
    "            print(\" |     \")\n",
    "            print(\"---    \")\n",
    "\n",
    "        elif vidas==4:\n",
    "            print()\n",
    "            print(\"  ----\")\n",
    "            print(\" |    |\")\n",
    "            print(\" |    o\")\n",
    "            print(\" |    |\")\n",
    "            print(\"---    \")\n",
    "\n",
    "        elif vidas==3:\n",
    "            print()\n",
    "            print(\"  ----\")\n",
    "            print(\" |    |\")\n",
    "            print(\" |    o\")\n",
    "            print(\" |    |\")\n",
    "            print(\"---    `\")\n",
    "\n",
    "        elif vidas==2:\n",
    "            print()\n",
    "            print(\"  ----\")\n",
    "            print(\" |    |\")\n",
    "            print(\" |    o\")\n",
    "            print(\" |    |\")\n",
    "            print(\"---  ´ `\")   \n",
    "        elif vidas==1:\n",
    "            print()\n",
    "            print(\"  ----\")\n",
    "            print(\" |    |\")\n",
    "            print(\" |    o\")\n",
    "            print(\" |   -|\")\n",
    "            print(\"---  ´ `\")   \n",
    "        elif vidas==1:\n",
    "            print()\n",
    "            print(\"  ----\")\n",
    "            print(\" |    |\")\n",
    "            print(\" |    o\")\n",
    "            print(\" |   -|\")\n",
    "            print(\"---  ´ `\")   \n",
    "        elif vidas==0:\n",
    "            print()\n",
    "            print(\"  ----\")\n",
    "            print(\" |    |\")\n",
    "            print(\" |    o\")\n",
    "            print(\" |   -|\")\n",
    "            print(\"---  ´ `\")  \n",
    "    \n",
    "    #PRINT has usado estas letras\n",
    "        print(\"Letras usadas:\", letras_usadas)\n",
    "    \n",
    "    #PRINT lista de posiciones donde esta la letra introducida \n",
    "        print(lista_guiones)\n",
    "    \n",
    "    \n",
    "    #CONDICION 4\n",
    "    #La letra introducida no esta en la palabra.\n",
    "    else:\n",
    "        print(\"Letras usadas:\", letras_usadas)\n",
    "        print(lista_guiones)\n",
    "        #Pierde una vida\n",
    "        vidas -= 1\n",
    "        if vidas==6:\n",
    "\n",
    "            print()\n",
    "            print(\"  ----\")\n",
    "            print(\" |    |\")\n",
    "            print(\" |     \")\n",
    "            print(\" |     \")\n",
    "            print(\"---    \")\n",
    "            print(\"Menos 1 vida. Tienes \", vidas, \"vidas\")\n",
    "        elif vidas==5:\n",
    "\n",
    "            print()\n",
    "            print(\"  ----\")\n",
    "            print(\" |    |\")\n",
    "            print(\" |    o\")\n",
    "            print(\" |     \")\n",
    "            print(\"---    \")\n",
    "            print(\"Menos 1 vida. Tienes \", vidas, \"vidas\")\n",
    "        elif vidas==4:\n",
    "            print()\n",
    "            print(\"  ----\")\n",
    "            print(\" |    |\")\n",
    "            print(\" |    o\")\n",
    "            print(\" |    |\")\n",
    "            print(\"---    \")\n",
    "            print(\"Menos 1 vida. Tienes \", vidas, \"vidas\")\n",
    "        elif vidas==3:\n",
    "            print()\n",
    "            print(\"  ----\")\n",
    "            print(\" |    |\")\n",
    "            print(\" |    o\")\n",
    "            print(\" |    |\")\n",
    "            print(\"---    `\")\n",
    "            print(\"Menos 1 vida. Tienes \", vidas, \"vidas\")\n",
    "        elif vidas==2:\n",
    "            print()\n",
    "            print(\"  ----\")\n",
    "            print(\" |    |\")\n",
    "            print(\" |    o\")\n",
    "            print(\" |    |\")\n",
    "            print(\"---  ´ `\")\n",
    "            print(\"Menos 1 vida. Tienes \", vidas, \"vidas\")\n",
    "        elif vidas==1:\n",
    "            print()\n",
    "            print(\"  ----\")\n",
    "            print(\" |    |\")\n",
    "            print(\" |    o\")\n",
    "            print(\" |   -|\")\n",
    "            print(\"---  ´ `\") \n",
    "            print(\"Menos 1 vida. Tienes \", vidas, \"vidas\")\n",
    "        \n",
    "        elif vidas==1:\n",
    "            print()\n",
    "            print(\"  ----\")\n",
    "            print(\" |    |\")\n",
    "            print(\" |    o\")\n",
    "            print(\" |   -|\")\n",
    "            print(\"---  ´ `\")  \n",
    "            print(\"Menos 1 vida. Tienes \", vidas, \"vidas\")\n",
    "        elif vidas==0:\n",
    "            print()\n",
    "            print(\"  ----\")\n",
    "            print(\" |    |\")\n",
    "            print(\" |    o\")\n",
    "            print(\" |   -|\")\n",
    "            print(\"---  ´ `\")\n",
    "            print(\"Has perdido\")\n",
    "            break\n",
    "    "
   ]
  },
  {
   "cell_type": "code",
   "execution_count": null,
   "metadata": {},
   "outputs": [],
   "source": []
  }
 ],
 "metadata": {
  "kernelspec": {
   "display_name": "Python 3",
   "language": "python",
   "name": "python3"
  },
  "language_info": {
   "codemirror_mode": {
    "name": "ipython",
    "version": 3
   },
   "file_extension": ".py",
   "mimetype": "text/x-python",
   "name": "python",
   "nbconvert_exporter": "python",
   "pygments_lexer": "ipython3",
   "version": "3.8.3"
  }
 },
 "nbformat": 4,
 "nbformat_minor": 4
}
