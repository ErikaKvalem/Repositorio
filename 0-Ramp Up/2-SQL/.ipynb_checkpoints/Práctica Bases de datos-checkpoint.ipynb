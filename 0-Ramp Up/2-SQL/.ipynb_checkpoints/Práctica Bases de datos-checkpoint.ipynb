{
 "cells": [
  {
   "cell_type": "markdown",
   "metadata": {},
   "source": [
    "# Práctica Bases de Datos"
   ]
  },
  {
   "cell_type": "markdown",
   "metadata": {},
   "source": [
    "## Parte I: SQL Scape Room \n",
    "Por parejas, resuelve el misterio del asesinato en http://mystery.knightlab.com/"
   ]
  },
  {
   "cell_type": "markdown",
   "metadata": {},
   "source": [
    "## Parte II: Modelo Relacional"
   ]
  },
  {
   "cell_type": "markdown",
   "metadata": {},
   "source": [
    "La empresa de venta de coches **KARLS** quiere crear un modelo de bases de datos. Para ello, nos ha compartido el fichero `ventas.csv`, que contiene sus ventas más recientes, con los siguientes campos:\n",
    "\n",
    "*\tno_orden: número de la orden\n",
    "*\tcodigo_producto: código del producto comprado\n",
    "*\tcantidad_orden: cantidad comprada\n",
    "*\tprecio_cada: precio de venta por unidad \n",
    "*\tnombre_producto: nombre del producto\n",
    "*\tlinea_productos: línea de productos\n",
    "*\tdescr: descripción de la línea de productos\n",
    "*\tprecio_compra: precio de compra de cada producto al proveedor\n",
    "*\tfecha_orden: fecha de la compra\n",
    "*\tno_cliente: número del cliente\n",
    "*\tnombre_cliente: nombre del cliente\n",
    "*\ttlf: teléfono del cliente\n",
    "*\tdireccion: dirección del cliente\n",
    "*\tciudad: ciudad del cliente\n",
    "*\testado: estado o provincia del cliente\n",
    "*\tcodigo_postal: código postal del cliente\n",
    "*\tpais: país del cliente\n",
    "\n",
    "Por otro lado, KARLS quiere conocer el idioma de cada cliente para poder realizar campañas de marketing personalizadas en diversos idiomas. Para conocer el idioma oficial de cada país, disponemos del acceso a una base de datos con los siguientes parámetros:\n",
    "\n",
    "*\tServidor: relational.fit.cvut.cz\n",
    "*\tUsuario: guest\n",
    "*\tContraseña: relational\n",
    "*\tNombre de la base de datos: world\n",
    "\n",
    "![imagen](https://relational.fit.cvut.cz/assets/img/datasets-generated/world.svg)\n"
   ]
  },
  {
   "cell_type": "code",
   "execution_count": null,
   "metadata": {},
   "outputs": [],
   "source": [
    "import sqlite3\n",
    "import pymysql\n",
    "import pandas as pd"
   ]
  },
  {
   "cell_type": "code",
   "execution_count": null,
   "metadata": {
    "scrolled": true
   },
   "outputs": [],
   "source": [
    "# Mostramos los datos del .csv en pandas\n",
    "datos = pd.read_csv('ventas.csv')\n",
    "datos"
   ]
  },
  {
   "cell_type": "markdown",
   "metadata": {},
   "source": [
    "Hay que pensar en las tablas de DIMENSIÓN y HECHOS"
   ]
  },
  {
   "cell_type": "code",
   "execution_count": null,
   "metadata": {
    "scrolled": true
   },
   "outputs": [],
   "source": []
  },
  {
   "cell_type": "code",
   "execution_count": null,
   "metadata": {},
   "outputs": [],
   "source": []
  },
  {
   "cell_type": "code",
   "execution_count": null,
   "metadata": {},
   "outputs": [],
   "source": []
  },
  {
   "cell_type": "markdown",
   "metadata": {},
   "source": [
    "Creamos una base de datos inicialmente vacía"
   ]
  },
  {
   "cell_type": "code",
   "execution_count": null,
   "metadata": {},
   "outputs": [],
   "source": []
  },
  {
   "cell_type": "markdown",
   "metadata": {},
   "source": [
    "Guardamos nuestras tablas en la base de datos"
   ]
  },
  {
   "cell_type": "code",
   "execution_count": null,
   "metadata": {},
   "outputs": [],
   "source": []
  },
  {
   "cell_type": "code",
   "execution_count": null,
   "metadata": {},
   "outputs": [],
   "source": []
  },
  {
   "cell_type": "code",
   "execution_count": null,
   "metadata": {},
   "outputs": [],
   "source": []
  },
  {
   "cell_type": "code",
   "execution_count": null,
   "metadata": {},
   "outputs": [],
   "source": []
  },
  {
   "cell_type": "markdown",
   "metadata": {},
   "source": [
    "Nos conectamos a la base de datos world y añadimos la tabla que relacione cada cliente con su idioma"
   ]
  },
  {
   "cell_type": "code",
   "execution_count": null,
   "metadata": {},
   "outputs": [],
   "source": []
  },
  {
   "cell_type": "code",
   "execution_count": null,
   "metadata": {
    "scrolled": true
   },
   "outputs": [],
   "source": []
  },
  {
   "cell_type": "code",
   "execution_count": null,
   "metadata": {},
   "outputs": [],
   "source": []
  },
  {
   "cell_type": "code",
   "execution_count": null,
   "metadata": {},
   "outputs": [],
   "source": []
  },
  {
   "cell_type": "code",
   "execution_count": null,
   "metadata": {},
   "outputs": [],
   "source": []
  },
  {
   "cell_type": "code",
   "execution_count": null,
   "metadata": {},
   "outputs": [],
   "source": []
  },
  {
   "cell_type": "code",
   "execution_count": null,
   "metadata": {
    "scrolled": true
   },
   "outputs": [],
   "source": []
  },
  {
   "cell_type": "code",
   "execution_count": null,
   "metadata": {},
   "outputs": [],
   "source": []
  },
  {
   "cell_type": "code",
   "execution_count": null,
   "metadata": {},
   "outputs": [],
   "source": []
  },
  {
   "cell_type": "code",
   "execution_count": null,
   "metadata": {},
   "outputs": [],
   "source": []
  },
  {
   "cell_type": "code",
   "execution_count": null,
   "metadata": {
    "scrolled": true
   },
   "outputs": [],
   "source": []
  },
  {
   "cell_type": "markdown",
   "metadata": {},
   "source": [
    " Puedes generar el diagrama de la base de datos en https://dbdiagram.io/d\n",
    " <img src=\"https://i.ibb.co/4PXndfB/Ejercicio2.png\">"
   ]
  },
  {
   "cell_type": "markdown",
   "metadata": {},
   "source": [
    "¿Cuál es el producto que aporta más beneficios?"
   ]
  },
  {
   "cell_type": "code",
   "execution_count": null,
   "metadata": {},
   "outputs": [],
   "source": []
  }
 ],
 "metadata": {
  "kernelspec": {
   "display_name": "Python 3",
   "language": "python",
   "name": "python3"
  },
  "language_info": {
   "codemirror_mode": {
    "name": "ipython",
    "version": 3
   },
   "file_extension": ".py",
   "mimetype": "text/x-python",
   "name": "python",
   "nbconvert_exporter": "python",
   "pygments_lexer": "ipython3",
   "version": "3.8.3"
  }
 },
 "nbformat": 4,
 "nbformat_minor": 4
}
