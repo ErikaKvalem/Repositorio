{
 "cells": [
  {
   "cell_type": "markdown",
   "metadata": {},
   "source": [
    "## Ejercicio 1\n",
    "\n",
    "Dada la siguiente lista\n",
    "> ejer_1 = [\"VW\", \"Audi\", \"Renault\", \"VW\", \"BMW\"]\n",
    "\n"
   ]
  },
  {
   "cell_type": "markdown",
   "metadata": {},
   "source": [
    "1. Elimina todos los VW de la siguiente lista. Crea una lista nueva para ello."
   ]
  },
  {
   "cell_type": "code",
   "execution_count": 34,
   "metadata": {},
   "outputs": [
    {
     "name": "stdout",
     "output_type": "stream",
     "text": [
      "['Audi', 'Renault', 'BMW']\n"
     ]
    }
   ],
   "source": [
    "ejer_1 = [\"VW\", \"Audi\", \"Renault\", \"VW\", \"BMW\"]\n",
    "\n",
    "for i in ejer_1:\n",
    "    if i == \"VW\":\n",
    "        ejer_1.remove(\"VW\")\n",
    "ejer_2=ejer_1\n",
    "print(ejer_2)"
   ]
  },
  {
   "cell_type": "markdown",
   "metadata": {},
   "source": [
    "2. Hazlo de otra manera. Crea una lista nueva, y ve añadiendo todos los que no sean VW"
   ]
  },
  {
   "cell_type": "code",
   "execution_count": null,
   "metadata": {},
   "outputs": [],
   "source": [
    "# DUDA ¿ COMANDO PARA CLEAR AL VAR? "
   ]
  },
  {
   "cell_type": "code",
   "execution_count": 60,
   "metadata": {},
   "outputs": [
    {
     "name": "stdout",
     "output_type": "stream",
     "text": [
      "[]\n",
      "[]\n",
      "[]\n"
     ]
    }
   ],
   "source": [
    "ejer_1.clear()\n",
    "ejer_2.clear()\n",
    "ejer_3.clear()\n",
    "print(ejer_1)\n",
    "print(ejer_2)\n",
    "print(ejer_3)"
   ]
  },
  {
   "cell_type": "code",
   "execution_count": 61,
   "metadata": {},
   "outputs": [
    {
     "name": "stdout",
     "output_type": "stream",
     "text": [
      "['Audi', 'Renault', 'BMW']\n"
     ]
    }
   ],
   "source": [
    "ejer_1 = [\"VW\", \"Audi\", \"Renault\", \"VW\", \"BMW\"]\n",
    "\n",
    "for i in ejer_1:\n",
    "    if i != \"VW\":\n",
    "        ejer_2.append(i)\n",
    "print(ejer_2)\n",
    "    \n"
   ]
  },
  {
   "cell_type": "markdown",
   "metadata": {},
   "source": [
    "3. En vez de `for`, usa un bucle `while`"
   ]
  },
  {
   "cell_type": "code",
   "execution_count": 62,
   "metadata": {},
   "outputs": [
    {
     "name": "stdout",
     "output_type": "stream",
     "text": [
      "[]\n",
      "[]\n",
      "[]\n"
     ]
    }
   ],
   "source": [
    "ejer_1.clear()\n",
    "ejer_2.clear()\n",
    "ejer_3.clear()\n",
    "print(ejer_1)\n",
    "print(ejer_2)\n",
    "print(ejer_3)"
   ]
  },
  {
   "cell_type": "code",
   "execution_count": 63,
   "metadata": {},
   "outputs": [
    {
     "name": "stdout",
     "output_type": "stream",
     "text": [
      "0\n",
      "['Audi', 'Renault', 'BMW']\n"
     ]
    }
   ],
   "source": [
    "\n",
    "ejer_1 = [\"VW\", \"Audi\", \"Renault\", \"VW\", \"BMW\"]\n",
    "ejer_3=[]\n",
    "i = 0\n",
    "print(i)\n",
    "while i<len(ejer_1):\n",
    "    \n",
    "    if ejer_1[i] != \"VW\":\n",
    "        ejer_3.append(ejer_1[i])\n",
    "    i=i+1\n",
    "print(ejer_3)"
   ]
  },
  {
   "cell_type": "markdown",
   "metadata": {},
   "source": [
    "## Ejercicio 2\n",
    "Imprime por pantalla la siguiente secuencia: 10, 9, 8.... -8, -9, -10"
   ]
  },
  {
   "cell_type": "code",
   "execution_count": 66,
   "metadata": {},
   "outputs": [
    {
     "name": "stdout",
     "output_type": "stream",
     "text": [
      "10\n",
      "9\n",
      "8\n",
      "7\n",
      "6\n",
      "5\n",
      "4\n",
      "3\n",
      "2\n",
      "1\n",
      "0\n",
      "-1\n",
      "-2\n",
      "-3\n",
      "-4\n",
      "-5\n",
      "-6\n",
      "-7\n",
      "-8\n",
      "-9\n",
      "-10\n"
     ]
    }
   ],
   "source": [
    "for i in reversed(range(-10,11)):\n",
    "    print(i)"
   ]
  },
  {
   "cell_type": "markdown",
   "metadata": {},
   "source": [
    "## Ejercicio 3\n",
    "1. Escribe un programa que vaya pidiendo numeros al usuario. Cuando el usuario introduzca el 0, el programa tiene que imprimir por pantalla el sumatorio de todos los numeros positivos introducidos"
   ]
  },
  {
   "cell_type": "code",
   "execution_count": 70,
   "metadata": {},
   "outputs": [
    {
     "name": "stdout",
     "output_type": "stream",
     "text": [
      "Introduce un numero: 3\n",
      "Introduce un numero: 1\n",
      "Introduce un numero: 0\n",
      "Esta es la suma 4.0\n"
     ]
    }
   ],
   "source": [
    "\n",
    "num = input(\"Introduce un numero: \")\n",
    "num = float(num)\n",
    "suma = 0;\n",
    "\n",
    "while num != 0:\n",
    "    suma = num + suma \n",
    "    num = input(\"Introduce un numero: \")\n",
    "    num = float(num)\n",
    "print(\"Esta es la suma\", suma)\n",
    "    "
   ]
  },
  {
   "cell_type": "markdown",
   "metadata": {},
   "source": [
    "2. Además de la suma, queremos que imprima también una lista con todos los números."
   ]
  },
  {
   "cell_type": "code",
   "execution_count": 77,
   "metadata": {},
   "outputs": [
    {
     "name": "stdout",
     "output_type": "stream",
     "text": [
      "Introduce un numero: 4\n",
      "Introduce un numero: 2\n",
      "Introduce un numero: 0\n",
      "Esta es la suma 6.0\n",
      "[4.0, 2.0]\n"
     ]
    }
   ],
   "source": [
    "\n",
    "num = input(\"Introduce un numero: \")\n",
    "num = float(num)\n",
    "suma = 0\n",
    "lista = []\n",
    "\n",
    "while num != 0:\n",
    "    suma = num + suma \n",
    "    lista.append(num)\n",
    "    num = input(\"Introduce un numero: \")\n",
    "    num = float(num)\n",
    "    \n",
    "print(\"Esta es la suma\", suma)\n",
    "print(lista)\n",
    "    "
   ]
  },
  {
   "cell_type": "markdown",
   "metadata": {},
   "source": [
    "## Ejercicio 4\n",
    "Escribe un programa que calcule la cantidad de veces que está la letra \"m\" o \"M\" en la frase:\n",
    "> \"En un lugar de La Mancha, de cuyo nombre no quiero acordarme\""
   ]
  },
  {
   "cell_type": "code",
   "execution_count": 84,
   "metadata": {},
   "outputs": [
    {
     "name": "stdout",
     "output_type": "stream",
     "text": [
      "['En', 'un', 'lugar', 'de', 'La', 'Mancha,', 'de', 'cuyo', 'nombre', 'no', 'quiero', 'acordarme']\n",
      "0\n",
      "0\n",
      "0\n",
      "0\n",
      "0\n",
      "0\n",
      "0\n",
      "0\n",
      "1\n",
      "0\n",
      "0\n",
      "1\n"
     ]
    }
   ],
   "source": [
    "string = \"En un lugar de La Mancha, de cuyo nombre no quiero acordarme\"\n",
    "\n",
    "lista = string.split()\n",
    "print(lista)\n",
    "\n",
    "for i in lista:\n",
    "    print(i.count(\"m\"))"
   ]
  },
  {
   "cell_type": "code",
   "execution_count": 89,
   "metadata": {},
   "outputs": [
    {
     "name": "stdout",
     "output_type": "stream",
     "text": [
      "['En', 'un', 'lugar', 'de', 'La', 'Mancha,', 'de', 'cuyo', 'nombre', 'no', 'quiero', 'acordarme']\n",
      "Hay 2 'm' en la frase\n",
      "Hay 1 'M' en la frase\n"
     ]
    }
   ],
   "source": [
    "string = \"En un lugar de La Mancha, de cuyo nombre no quiero acordarme\"\n",
    "\n",
    "lista = string.split()\n",
    "print(lista)\n",
    "counter = 0\n",
    "COUNTER = 0\n",
    "for i in lista:\n",
    "    if i.count(\"m\") == 1:\n",
    "        counter = counter +1\n",
    "    elif i.count(\"M\") == 1:\n",
    "        COUNTER = COUNTER + 1\n",
    "print(\"Hay\",counter, \"'m' en la frase\")\n",
    "print(\"Hay\",COUNTER, \"'M' en la frase\")"
   ]
  },
  {
   "cell_type": "markdown",
   "metadata": {},
   "source": [
    "## Ejercicio 5\n",
    "Imprime toda la secuencia de numeros del 1 al 10, excepto el 3, 4 y 9. Impleméntalo de dos maneras diferentes"
   ]
  },
  {
   "cell_type": "code",
   "execution_count": 92,
   "metadata": {},
   "outputs": [
    {
     "name": "stdout",
     "output_type": "stream",
     "text": [
      "1\n",
      "2\n",
      "5\n",
      "6\n",
      "7\n",
      "8\n",
      "10\n"
     ]
    }
   ],
   "source": [
    "c = 1\n",
    "while c<=10:\n",
    "    if c != 3 and c!=4 and c!= 9:\n",
    "        print(c)\n",
    "    c=c+1\n",
    "\n",
    "        "
   ]
  },
  {
   "cell_type": "code",
   "execution_count": 1,
   "metadata": {},
   "outputs": [
    {
     "name": "stdout",
     "output_type": "stream",
     "text": [
      "1\n",
      "2\n",
      "5\n",
      "6\n",
      "7\n",
      "8\n",
      "10\n"
     ]
    }
   ],
   "source": [
    "for i in range(1,11):\n",
    "    if i != 3 and i != 4 and i!=9:\n",
    "        print(i)\n",
    "        "
   ]
  },
  {
   "cell_type": "markdown",
   "metadata": {},
   "source": [
    "## Ejercicio 6\n",
    "Suponiendo que siempre se cumple que las dos listas del ejercicio son iguales de tamaño, implementa un programa que calcule el ratio ingreso/gasto de cada elemento, y lo guarde en una nueva lista. Si hubiese algún problema con los datos, hay que almacenar un mensaje de error en la lista del resultado. Usa `try/except`\n",
    "> ingresos = [100, 200, 500, 100, 600]\n",
    ">\n",
    "> gastos = [50, 20, 70, 0, 25]"
   ]
  },
  {
   "cell_type": "code",
   "execution_count": 7,
   "metadata": {},
   "outputs": [
    {
     "name": "stdout",
     "output_type": "stream",
     "text": [
      "2.0\n",
      "10.0\n",
      "7.142857142857143\n",
      "Error occurred\n",
      "24.0\n"
     ]
    }
   ],
   "source": [
    "ingresos = [100 , 200, 500, 100, 600]\n",
    "gastos = [50, 20, 70, 0, 25]\n",
    "\n",
    "for i in range(0,len(ingresos)):\n",
    "    try:\n",
    "        ratio =ingresos[i]/gastos[i]\n",
    "        print(ratio)\n",
    "    except: \n",
    "        print(\"Error occurred\")"
   ]
  }
 ],
 "metadata": {
  "kernelspec": {
   "display_name": "Python 3",
   "language": "python",
   "name": "python3"
  },
  "language_info": {
   "codemirror_mode": {
    "name": "ipython",
    "version": 3
   },
   "file_extension": ".py",
   "mimetype": "text/x-python",
   "name": "python",
   "nbconvert_exporter": "python",
   "pygments_lexer": "ipython3",
   "version": "3.8.3"
  }
 },
 "nbformat": 4,
 "nbformat_minor": 4
}
