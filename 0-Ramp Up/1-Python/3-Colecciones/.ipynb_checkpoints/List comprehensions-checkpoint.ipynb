{
 "cells": [
  {
   "cell_type": "markdown",
   "metadata": {},
   "source": [
    "# Comprensión de listas\n"
   ]
  },
  {
   "cell_type": "markdown",
   "metadata": {},
   "source": [
    "La comprensión de listas, del inglés **list comprehensions**, es una funcionalidad que nos permite crear listas avanzadas en una misma línea de código."
   ]
  },
  {
   "cell_type": "markdown",
   "metadata": {},
   "source": [
    "![imagen](./img/list-comprehension.png)"
   ]
  },
  {
   "cell_type": "markdown",
   "metadata": {},
   "source": [
    "Esto se ve mucho mejor en la práctica, así que a lo largo de esta vamos a trabajar distintos ejemplos."
   ]
  },
  {
   "cell_type": "markdown",
   "metadata": {},
   "source": [
    "### Ejemplo 1  \n",
    "Crear una lista con las letras de una palabra"
   ]
  },
  {
   "cell_type": "code",
   "execution_count": 1,
   "metadata": {},
   "outputs": [
    {
     "name": "stdout",
     "output_type": "stream",
     "text": [
      "['c', 'a', 's', 'a']\n"
     ]
    }
   ],
   "source": [
    "# Método tradicional\n",
    "palabra = \"casa\"\n",
    "\n",
    "lista = []\n",
    "\n",
    "for letra in palabra:\n",
    "    lista.append(letra)\n",
    "    \n",
    "print(lista)"
   ]
  },
  {
   "cell_type": "code",
   "execution_count": 7,
   "metadata": {},
   "outputs": [
    {
     "name": "stdout",
     "output_type": "stream",
     "text": [
      "['c', 'a', 's', 'a']\n"
     ]
    }
   ],
   "source": [
    "# Con comprensión de lista\n",
    "#output = n for n in reference sequence\n",
    "lista = [letra for letra in palabra]\n",
    "print(lista)"
   ]
  },
  {
   "cell_type": "code",
   "execution_count": 6,
   "metadata": {},
   "outputs": [
    {
     "name": "stdout",
     "output_type": "stream",
     "text": [
      "['a', 'a']\n"
     ]
    }
   ],
   "source": [
    "# Con comprensión de lista\n",
    "#output = n for n in reference sequence\n",
    "# IF OPCIONAL AL FINAL\n",
    "lista = [letra for letra in palabra if letra ==\"a\"]\n",
    "print(lista)"
   ]
  },
  {
   "cell_type": "markdown",
   "metadata": {},
   "source": [
    "### Ejemplo 2  \n",
    "Crear una lista con las potencias de 2 de los primeros 10 números"
   ]
  },
  {
   "cell_type": "code",
   "execution_count": 10,
   "metadata": {},
   "outputs": [
    {
     "data": {
      "text/plain": [
       "[0, 1, 4, 9, 16, 25, 36, 49, 64, 81, 100]"
      ]
     },
     "execution_count": 10,
     "metadata": {},
     "output_type": "execute_result"
    }
   ],
   "source": [
    "# Método tradicional\n",
    "lista2 = []\n",
    "\n",
    "for num in range(0,11):\n",
    "    lista2.append(num**2)\n",
    "\n",
    "lista2"
   ]
  },
  {
   "cell_type": "code",
   "execution_count": 11,
   "metadata": {},
   "outputs": [
    {
     "data": {
      "text/plain": [
       "[0, 1, 2, 3, 4, 5, 6, 7, 8, 9, 10]"
      ]
     },
     "execution_count": 11,
     "metadata": {},
     "output_type": "execute_result"
    }
   ],
   "source": [
    "# Con comprensión de listas\n",
    "#output = operaciones que quiero que me devuelva for var in ref sequence\n",
    "lista3= [num**2 for num in range(0,11)]\n",
    "\n",
    "lista3"
   ]
  },
  {
   "cell_type": "markdown",
   "metadata": {},
   "source": [
    "### Ejemplo 3 \n",
    "Crear una lista con los todos los múltiples de 2 entre 0 y 10"
   ]
  },
  {
   "cell_type": "code",
   "execution_count": 12,
   "metadata": {},
   "outputs": [
    {
     "data": {
      "text/plain": [
       "[0, 2, 4, 6, 8, 10]"
      ]
     },
     "execution_count": 12,
     "metadata": {},
     "output_type": "execute_result"
    }
   ],
   "source": [
    "# Método tradicional\n",
    "lista4 = []\n",
    "\n",
    "for num in range(0,11):\n",
    "    if num%2 == 0:\n",
    "        lista4.append(num)\n",
    "lista4"
   ]
  },
  {
   "cell_type": "code",
   "execution_count": 14,
   "metadata": {},
   "outputs": [
    {
     "data": {
      "text/plain": [
       "[0, 2, 4, 6, 8, 10]"
      ]
     },
     "execution_count": 14,
     "metadata": {},
     "output_type": "execute_result"
    }
   ],
   "source": [
    "# Con comprensión de listas\n",
    "#if al final \n",
    "lista4 = [num for num in range(0,11) if num%2 == 0]\n",
    "lista4"
   ]
  },
  {
   "cell_type": "markdown",
   "metadata": {},
   "source": [
    "### Ejemplo 4\n",
    "Crear una lista eliminando un elemento que puede estar repetido en otra lista"
   ]
  },
  {
   "cell_type": "code",
   "execution_count": 15,
   "metadata": {},
   "outputs": [
    {
     "name": "stdout",
     "output_type": "stream",
     "text": [
      "['B', 'C', 'C', 'D']\n"
     ]
    }
   ],
   "source": [
    "L = ['A','B','A','A','C','C','D']\n",
    "\n",
    "# Método tradicional\n",
    "#quiero que desaparezca la a\n",
    "lista5 = []\n",
    "\n",
    "for letra in L:\n",
    "    if letra != \"A\":\n",
    "        lista5.append(letra)\n",
    "print(lista5)\n"
   ]
  },
  {
   "cell_type": "code",
   "execution_count": 20,
   "metadata": {},
   "outputs": [
    {
     "data": {
      "text/plain": [
       "['B', 'C', 'C', 'D']"
      ]
     },
     "execution_count": 20,
     "metadata": {},
     "output_type": "execute_result"
    }
   ],
   "source": [
    "# Con comprensión de listas\n",
    "L = ['A','B','A','A','C','C','D']\n",
    "lista5 =[]\n",
    "lista5 = [letra for letra in L if letra != \"A\"]\n",
    "lista5 "
   ]
  },
  {
   "cell_type": "markdown",
   "metadata": {},
   "source": [
    "### Ejemplo 5 \n",
    "Dividir entre 100 los elementos positivos de una lista"
   ]
  },
  {
   "cell_type": "code",
   "execution_count": 21,
   "metadata": {},
   "outputs": [
    {
     "name": "stdout",
     "output_type": "stream",
     "text": [
      "[0.1, 0.05, 0.2, 0.3]\n"
     ]
    }
   ],
   "source": [
    "L = [10, 5, -1, 20, 30, -100, 0]\n",
    "lista6 = []\n",
    "# Método tradicional\n",
    "for i in L:\n",
    "    if i>0:\n",
    "        lista6.append(i/100)\n",
    "print(lista6)"
   ]
  },
  {
   "cell_type": "code",
   "execution_count": 23,
   "metadata": {},
   "outputs": [
    {
     "data": {
      "text/plain": [
       "[0.1, 0.05, 0.2, 0.3]"
      ]
     },
     "execution_count": 23,
     "metadata": {},
     "output_type": "execute_result"
    }
   ],
   "source": [
    "# Con comprensión de listas\n",
    "L = [10, 5, -1, 20, 30, -100, 0]\n",
    "lista6 = []\n",
    "\n",
    "lista6 = [ i/100 for i in L if i>0]\n",
    "lista6\n"
   ]
  },
  {
   "cell_type": "markdown",
   "metadata": {},
   "source": [
    "### Ejemplo 5 \n",
    "Dividir entre 100 los elementos positivos menores de 25 de una lista"
   ]
  },
  {
   "cell_type": "code",
   "execution_count": 24,
   "metadata": {},
   "outputs": [
    {
     "name": "stdout",
     "output_type": "stream",
     "text": [
      "[0.1, 0.05, 0.2]\n"
     ]
    }
   ],
   "source": [
    "L = [10, 5, -1, 20, 30, -100, 0]\n",
    "lista7 = []\n",
    "# Método tradicional\n",
    "for i in L:\n",
    "    if i>0 and i<25:\n",
    "        lista7.append(i/100)\n",
    "print(lista7)\n",
    "\n"
   ]
  },
  {
   "cell_type": "code",
   "execution_count": 26,
   "metadata": {},
   "outputs": [
    {
     "data": {
      "text/plain": [
       "[0.1, 0.05, 0.2]"
      ]
     },
     "execution_count": 26,
     "metadata": {},
     "output_type": "execute_result"
    }
   ],
   "source": [
    "# Con comprensión de listas\n",
    "\n",
    "L = [10, 5, -1, 20, 30, -100, 0]\n",
    "lista7 = []\n",
    "\n",
    "lista7 = [ i/100 for i in L if i>0 and i<25]\n",
    "lista7"
   ]
  },
  {
   "cell_type": "markdown",
   "metadata": {},
   "source": [
    "### Ejemplo 6 \n",
    "Dividir entre 100 los elementos positivos menores de 25 de una lista. El resto se dejan igual"
   ]
  },
  {
   "cell_type": "code",
   "execution_count": 33,
   "metadata": {},
   "outputs": [
    {
     "name": "stdout",
     "output_type": "stream",
     "text": [
      "[0.1, 0.05, -1, 0.2, 30, -100, 0]\n"
     ]
    }
   ],
   "source": [
    "# Método tradicional\n",
    "L = [10, 5, -1, 20, 30, -100, 0]\n",
    "lista7 = []\n",
    "# Método tradicional\n",
    "for i in L:\n",
    "    \n",
    "    if i>0 and i<25:\n",
    "        lista7.append(i/100)\n",
    "    else:\n",
    "        lista7.append(i)\n",
    "print(lista7)"
   ]
  },
  {
   "cell_type": "code",
   "execution_count": 31,
   "metadata": {},
   "outputs": [
    {
     "data": {
      "text/plain": [
       "[0.1, 0.05, -1, 0.2, 30, -100, 0]"
      ]
     },
     "execution_count": 31,
     "metadata": {},
     "output_type": "execute_result"
    }
   ],
   "source": [
    "# Con comprensión de listas\n",
    "L = [10, 5, -1, 20, 30, -100, 0]\n",
    "lista7 = [ i/100 if i>0 and i<25 else i for i in L]\n",
    "lista7"
   ]
  },
  {
   "cell_type": "markdown",
   "metadata": {},
   "source": [
    "La definición de listas por comprensión es muy cómoda, compacta y expresiva. No obstante, no debemos abusar de ella; si la expresión que escribimos es muy compleja se puede volver muy difícil de leer. En ese caso sería preferible la definición \"tradicional\" de la lista."
   ]
  },
  {
   "cell_type": "markdown",
   "metadata": {},
   "source": [
    "<table align=\"left\">\n",
    " <tr><td width=\"80\"><img src=\"./img/ejercicio.png\" style=\"width:auto;height:auto\"></td>\n",
    "     <td style=\"text-align:left\">\n",
    "         <h3>Ejercicio list comprehension 1</h3>\n",
    "\n",
    "Prueba a definir una lista temperaturas_menores, a partir de la lista temperaturas, con las temperaturas menores que 27 grados.\n",
    "         \n",
    "         temperaturas = [25.2, 24.9, 25.2, 26.7, 28.6, 29.5, 29.7]\n",
    "         \n",
    " </td></tr>\n",
    "</table>"
   ]
  },
  {
   "cell_type": "code",
   "execution_count": 38,
   "metadata": {},
   "outputs": [
    {
     "data": {
      "text/plain": [
       "[25.2, 24.9, 25.2, 26.7]"
      ]
     },
     "execution_count": 38,
     "metadata": {},
     "output_type": "execute_result"
    }
   ],
   "source": [
    "temperaturas_menores =[]\n",
    "temperaturas = [25.2, 24.9, 25.2, 26.7, 28.6, 29.5, 29.7]\n",
    "\n",
    "temperaturas_menores = [i for i in temperaturas if i<27]\n",
    "temperaturas_menores"
   ]
  },
  {
   "cell_type": "markdown",
   "metadata": {},
   "source": [
    "<table align=\"left\">\n",
    " <tr><td width=\"80\"><img src=\"./img/ejercicio.png\" style=\"width:auto;height:auto\"></td>\n",
    "     <td style=\"text-align:left\">\n",
    "         <h3>Ejercicio list comprehension 2</h3>\n",
    "\n",
    "Supongamos una lista de edades de la que queremos obtener una nueva lista, mayores_edad con las que sean mayores o iguales a 21\n",
    "   \n",
    "         edades = [19, 20, 18, 21, 20, 19, 19, 18, 21]      \n",
    " </td></tr>\n",
    "</table>"
   ]
  },
  {
   "cell_type": "code",
   "execution_count": 40,
   "metadata": {},
   "outputs": [
    {
     "data": {
      "text/plain": [
       "[21, 21]"
      ]
     },
     "execution_count": 40,
     "metadata": {},
     "output_type": "execute_result"
    }
   ],
   "source": [
    "mayores_edad = []\n",
    "\n",
    "edades = [19, 20, 18, 21, 20, 19, 19, 18, 21] \n",
    "\n",
    "mayores_edad = [ i for i in edades if i>=21]\n",
    "    \n",
    "mayores_edad"
   ]
  }
 ],
 "metadata": {
  "kernelspec": {
   "display_name": "Python 3",
   "language": "python",
   "name": "python3"
  },
  "language_info": {
   "codemirror_mode": {
    "name": "ipython",
    "version": 3
   },
   "file_extension": ".py",
   "mimetype": "text/x-python",
   "name": "python",
   "nbconvert_exporter": "python",
   "pygments_lexer": "ipython3",
   "version": "3.8.3"
  }
 },
 "nbformat": 4,
 "nbformat_minor": 4
}
