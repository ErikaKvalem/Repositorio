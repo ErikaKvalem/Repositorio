{
 "cells": [
  {
   "cell_type": "markdown",
   "metadata": {},
   "source": [
    "## Ejercicio 1\n",
    "Dada la siguiente lista:\n",
    "> ```ejer_1 = [1,2,3,4,5]```\n",
    "\n",
    "Inviértela para que quede de la siguiente manera\n",
    "> ```ejer_1 = [5,4,3,2,1]```"
   ]
  },
  {
   "cell_type": "code",
   "execution_count": 6,
   "metadata": {},
   "outputs": [
    {
     "name": "stdout",
     "output_type": "stream",
     "text": [
      "[5, 4, 3, 2, 1]\n"
     ]
    }
   ],
   "source": [
    "ejer_1 = [1,2,3,4,5]\n",
    "\n",
    "ejer_1.reverse()\n",
    "\n",
    "print(ejer_1)"
   ]
  },
  {
   "cell_type": "markdown",
   "metadata": {},
   "source": [
    "## Ejercicio 2\n",
    "Eleva todos los elementos de la lista al cuadrado\n",
    "> ```ejer_2 = [1,2,3,4,5]```"
   ]
  },
  {
   "cell_type": "code",
   "execution_count": 8,
   "metadata": {},
   "outputs": [
    {
     "name": "stdout",
     "output_type": "stream",
     "text": [
      "1\n",
      "4\n",
      "9\n",
      "16\n",
      "25\n"
     ]
    }
   ],
   "source": [
    "ejer_2 =[1,2,3,4,5]\n",
    "\n",
    "for i in ejer_2:\n",
    "    print(i*i)"
   ]
  },
  {
   "cell_type": "markdown",
   "metadata": {},
   "source": [
    "## Ejercicio 3\n",
    "Crea una lista nueva con todas las combinaciones de las siguientes dos listas:\n",
    "> ```ejer_3_1 = [\"Hola\", \"amigo\"]```\n",
    ">\n",
    "> ```ejer_3_2 = [\"Que\", \"tal\"]```\n",
    "\n",
    "Obten el siguiente output:\n",
    "\n",
    "['Hola Que', 'Hola tal', 'amigo Que', 'amigo tal']"
   ]
  },
  {
   "cell_type": "code",
   "execution_count": 6,
   "metadata": {},
   "outputs": [
    {
     "name": "stdout",
     "output_type": "stream",
     "text": [
      "Hola Que\n",
      "Hola tal\n",
      "amigo Que\n",
      "amigo tal\n",
      "['Hola Que', 'Hola tal', 'amigo Que', 'amigo tal']\n"
     ]
    }
   ],
   "source": [
    "ejer_3_1 =[\"Hola\", \"amigo\"]\n",
    "\n",
    "ejer_3_2 = [\"Que\", \"tal\"]\n",
    "listanueva = []\n",
    "\n",
    "for i in range(len(ejer_3_1)):\n",
    "    for j in range(len(ejer_3_2)):\n",
    "        print(ejer_3_1[i] + \" \" + ejer_3_2[j])\n",
    "        listanueva.append(ejer_3_1[i] + \" \" + ejer_3_2[j])\n",
    "        \n",
    "print(listanueva)"
   ]
  },
  {
   "cell_type": "markdown",
   "metadata": {},
   "source": [
    "## Ejercicio 4\n",
    "Dada la siguiente lista, encuentra el índice del valor 45 y sustitúyelo por el 0\n",
    "> ```ejer_4 = [20, 47, 19, 29, 45, 67, 78, 90]```"
   ]
  },
  {
   "cell_type": "code",
   "execution_count": 8,
   "metadata": {},
   "outputs": [
    {
     "data": {
      "text/plain": [
       "[20, 47, 19, 29, 0, 67, 78, 90]"
      ]
     },
     "execution_count": 8,
     "metadata": {},
     "output_type": "execute_result"
    }
   ],
   "source": [
    "ejer_4 = [20, 47, 19, 29, 45, 67, 78,90]\n",
    "\n",
    "indice = ejer_4.index(45)\n",
    "ejer_4[indice] = 0\n",
    "ejer_4"
   ]
  },
  {
   "cell_type": "markdown",
   "metadata": {},
   "source": [
    "## Ejercicio 5\n",
    "Dada la siguiente lista, elimina todos los valores iguales a 3\n",
    "> ```ejer_5 = [3, 20, 3, 47, 19, 3, 29, 45, 67, 78, 90, 3, 3]```\n",
    "\n",
    "TIP: No intentes eliminar elementos sobre la lista que estás iterando. Haz una copia con `ejer_5.copy()`."
   ]
  },
  {
   "cell_type": "code",
   "execution_count": 13,
   "metadata": {},
   "outputs": [
    {
     "name": "stdout",
     "output_type": "stream",
     "text": [
      "[20, 47, 19, 29, 45, 67, 78, 90]\n"
     ]
    }
   ],
   "source": [
    "ejer_5 = [3 ,20, 3, 47, 19, 3, 29, 45, 67, 78, 90, 3, 3]\n",
    "\n",
    "ejer_5copia = ejer_5.copy()\n",
    "\n",
    "for i in ejer_5:\n",
    "    if i == 3:\n",
    "        ejer_5copia.remove(i)\n",
    "    \n",
    "print(ejer_5copia)"
   ]
  },
  {
   "cell_type": "markdown",
   "metadata": {},
   "source": [
    "## Ejercicio 6\n",
    "1. Crea una tupla con 3 elementos\n",
    "2. Crea otra tupla con un elemento y comprueba su tipo\n",
    "3. Crea una tupla con elementos de diferentes tipos\n",
    "4. Imprime por pantalla el primer y ultimo elemento de la tupla del apartado 3. Usa `len` para el ultimo\n",
    "5. Añade un elemento a la tupla del apartado 3.\n",
    "6. Eliminar un elemento de la tupla del apartado 5, que se encuentre más o menos en la mitad.\n",
    "7. Convierte la tupla del apartado 5 en una lista"
   ]
  },
  {
   "cell_type": "code",
   "execution_count": 42,
   "metadata": {},
   "outputs": [
    {
     "name": "stdout",
     "output_type": "stream",
     "text": [
      "Adios\n",
      "[1, 3, 'Tres']\n",
      "['Adios', 34, 12, [1, 3, 'Tres'], 1]\n",
      "('Adios', 34, [1, 3, 'Tres'], 1)\n"
     ]
    }
   ],
   "source": [
    "tupla = (3 , \"Hola\", 45) \n",
    "tupla_2 = (6,)\n",
    "type(tupla_2)\n",
    "tupla_3 = (\"Adios\", 34, 12, [1,3,\"Tres\"])\n",
    "#Accediendo al primer elemento\n",
    "print(tupla_3[0])\n",
    "#Acceder al ultimo elemento usando len\n",
    "print(tupla_3[len(tupla_3)-1])\n",
    "#Añadiendo un elemento\n",
    "tupla_4 = tupla_3 + (1,)\n",
    "\n",
    "#Eliminando un elemento de una tupla\n",
    "lista_4 = list(tupla_4)\n",
    "print(lista_4)\n",
    "index = int(len(lista_4)/2)\n",
    "ele = lista_4[index]\n",
    "lista_4.remove(ele)\n",
    "tupla_4=tuple(lista_4)\n",
    "print(tupla_4)"
   ]
  },
  {
   "cell_type": "markdown",
   "metadata": {},
   "source": [
    "## Ejercicio 7\n",
    "Concatena todos los elementos de la tupla en un unico string. Para ello utiliza el metodo `.join()` de los Strings\n",
    "> ```ejer_7 = (\"cien\", \"cañones\", \"por\", \"banda\")```\n",
    "\n",
    "Resultado: `cien cañones por banda`"
   ]
  },
  {
   "cell_type": "code",
   "execution_count": 50,
   "metadata": {},
   "outputs": [
    {
     "name": "stdout",
     "output_type": "stream",
     "text": [
      "cien cañones por banda\n"
     ]
    }
   ],
   "source": [
    "ejer_7 = (\"cien\", \"cañones\", \"por\", \"banda\")\n",
    "\n",
    "cadena = \" \".join(ejer_7)\n",
    "print(cadena)"
   ]
  },
  {
   "cell_type": "markdown",
   "metadata": {},
   "source": [
    "## Ejercicio 8\n",
    "Obten el tercer elemento de la siguiente tupla, y el tercero empezando por la cola\n",
    "> ```ejer_8 = (3, 20, 3, 47, 19, 3, 29, 45, 67, 78, 90, 3, 3)```"
   ]
  },
  {
   "cell_type": "code",
   "execution_count": 53,
   "metadata": {},
   "outputs": [
    {
     "data": {
      "text/plain": [
       "90"
      ]
     },
     "execution_count": 53,
     "metadata": {},
     "output_type": "execute_result"
    }
   ],
   "source": [
    "ejer_8 = (3, 20, 3, 47, 19, 3, 29, 45, 67, 78, 90, 3, 3)\n",
    "\n",
    "ejer_8[2]\n",
    "ejer_8[-3]"
   ]
  },
  {
   "cell_type": "markdown",
   "metadata": {},
   "source": [
    "## Ejercicio 9\n",
    "1. ¿Cuántas veces se repite el 3 en la siguiente tupla?\n",
    "2. Crea una tupla nueva con los elementos desde la posicion 5 a la 10.\n",
    "3. ¿Cuántos elementos tiene la tupla `ejer_9`?\n",
    "> ```ejer_9 = (3, 20, 3, 47, 19, 3, 29, 45, 67, 78, 90, 3, 3, 5, 2, 4, 7, 9, 4, 2, 4, 3, 3, 4, 6, 7)```"
   ]
  },
  {
   "cell_type": "code",
   "execution_count": 3,
   "metadata": {},
   "outputs": [
    {
     "name": "stdout",
     "output_type": "stream",
     "text": [
      "7\n",
      "(19, 3, 29, 45, 67, 78)\n"
     ]
    },
    {
     "data": {
      "text/plain": [
       "26"
      ]
     },
     "execution_count": 3,
     "metadata": {},
     "output_type": "execute_result"
    }
   ],
   "source": [
    "ejer_9 = (3, 20, 3, 47, 19, 3, 29, 45, 67, 78, 90, 3, 3, 5, 2, 4, 7, 9, 4, 2, 4, 3, 3, 4, 6, 7)\n",
    "\n",
    "print(ejer_9.count(3))\n",
    "\n",
    "ejer9_2 = ejer_9[4:10]\n",
    "\n",
    "print(ejer9_2)\n",
    "len(ejer_9)"
   ]
  },
  {
   "cell_type": "markdown",
   "metadata": {},
   "source": [
    "## Ejercicio 10\n",
    "Comprueba si el numero 60 esta en la tupla del ejercicio 9"
   ]
  },
  {
   "cell_type": "code",
   "execution_count": 6,
   "metadata": {},
   "outputs": [
    {
     "name": "stdout",
     "output_type": "stream",
     "text": [
      "0\n"
     ]
    },
    {
     "data": {
      "text/plain": [
       "False"
      ]
     },
     "execution_count": 6,
     "metadata": {},
     "output_type": "execute_result"
    }
   ],
   "source": [
    "print(ejer_9.count(60))\n",
    "\n",
    "# Para ver si algo esta dentro \n",
    "\n",
    "60 in ejer_9\n"
   ]
  },
  {
   "cell_type": "markdown",
   "metadata": {},
   "source": [
    "## Ejercicio 11\n",
    "1. Convierte la tupla del apartado 10 en una lista\n",
    "2. Convierte la tupla del apartado 10 en un set\n",
    "3. Convierte la tupla del apartado 10 en un diccionario. Usa también los indices"
   ]
  },
  {
   "cell_type": "code",
   "execution_count": 8,
   "metadata": {},
   "outputs": [
    {
     "name": "stdout",
     "output_type": "stream",
     "text": [
      "[3, 20, 3, 47, 19, 3, 29, 45, 67, 78, 90, 3, 3, 5, 2, 4, 7, 9, 4, 2, 4, 3, 3, 4, 6, 7]\n",
      "{2, 3, 67, 5, 4, 7, 6, 9, 45, 78, 47, 19, 20, 90, 29}\n"
     ]
    },
    {
     "data": {
      "text/plain": [
       "{0: 3,\n",
       " 1: 20,\n",
       " 2: 3,\n",
       " 3: 47,\n",
       " 4: 19,\n",
       " 5: 3,\n",
       " 6: 29,\n",
       " 7: 45,\n",
       " 8: 67,\n",
       " 9: 78,\n",
       " 10: 90,\n",
       " 11: 3,\n",
       " 12: 3,\n",
       " 13: 5,\n",
       " 14: 2,\n",
       " 15: 4,\n",
       " 16: 7,\n",
       " 17: 9,\n",
       " 18: 4,\n",
       " 19: 2,\n",
       " 20: 4,\n",
       " 21: 3,\n",
       " 22: 3,\n",
       " 23: 4,\n",
       " 24: 6,\n",
       " 25: 7}"
      ]
     },
     "execution_count": 8,
     "metadata": {},
     "output_type": "execute_result"
    }
   ],
   "source": [
    "print(list(ejer_9))\n",
    "\n",
    "print(set(ejer_9)) #ELEMENTOS UNICOS DE LA TUPLA ORIGINAL\n",
    "\n",
    "\n",
    "# Convertir tupla a diccionario\n",
    "diccio = {}\n",
    "#obtener claves y valores de un iterable\n",
    "for ind,val in enumerate(ejer_9):\n",
    "    diccio[ind] = val\n",
    "\n",
    "diccio"
   ]
  },
  {
   "cell_type": "markdown",
   "metadata": {},
   "source": [
    "## Ejercicio 12\n",
    "Convierte la siguiente lista de tuplas en un diccionario\n",
    "> ```ejer_12 = [(\"x\", 1), (\"x\", 2), (\"x\", 3), (\"y\", 1), (\"y\", 2), (\"z\", 1)]```\n",
    "\n",
    "TIP: Puedes usar dos variables de control en un bucle `for`. Una por cada valor de las tuplas."
   ]
  },
  {
   "cell_type": "code",
   "execution_count": 14,
   "metadata": {},
   "outputs": [
    {
     "name": "stdout",
     "output_type": "stream",
     "text": [
      "{'x': 3, 'y': 2, 'z': 1}\n",
      "{'x': 3, 'y': 2, 'z': 1}\n"
     ]
    }
   ],
   "source": [
    "#No consigo que funcione como debería\n",
    "#Solucion Rafa Zambrano\n",
    "#El problema era que yo no sabia que los diccionarios\n",
    "#no pueden tener dos elementos #con la misma clave y distinto valor\n",
    "ejer_12 = [(\"x\", 1), (\"x\", 2), (\"x\", 3), (\"y\", 1), (\"y\", 2), (\"z\", 1)]\n",
    "\n",
    "diccio1 = {}\n",
    "diccio2 = {}\n",
    "for i,j in ejer_12:\n",
    "    diccio1[i]=j\n",
    "print(diccio1)\n",
    "\n",
    "#es una lista que se puede transformar\n",
    "# directamente a un diccionario\n",
    "\n",
    "diccio2 = dict(ejer_12)\n",
    "print(diccio2)"
   ]
  },
  {
   "cell_type": "code",
   "execution_count": 87,
   "metadata": {},
   "outputs": [
    {
     "name": "stdout",
     "output_type": "stream",
     "text": [
      "{'x': 3, 'y': 2, 'z': 1}\n"
     ]
    }
   ],
   "source": [
    "#mi solucion\n",
    "ejer_12 = [(\"x\", 1), (\"x\", 2), (\"x\", 3), (\"y\", 1), (\"y\", 2), (\"z\", 1)]\n",
    "prueba = {}\n",
    "for i,j in ejer_12:\n",
    "    prueba[i] = j\n",
    "print(prueba)\n",
    "    \n",
    "    \n"
   ]
  },
  {
   "cell_type": "markdown",
   "metadata": {},
   "source": [
    "## Ejercicio 13\n",
    "1. Crea una lista ordenada ascendente con las claves del diccionario\n",
    "2. Crea otra lista ordenada descendente con los valores\n",
    "3. Añade una nueva clave/valor\n",
    "4. Busca la clave 2 dentro del diccionario\n",
    "5. Itera la clave y el valor del diccionario con un unico for\n",
    "> ```ejer_13 = {4:78, 2:98, 8:234, 5:29}```"
   ]
  },
  {
   "cell_type": "code",
   "execution_count": 16,
   "metadata": {},
   "outputs": [
    {
     "name": "stdout",
     "output_type": "stream",
     "text": [
      "[2, 4, 5, 8]\n",
      "[2, 4, 5, 8]\n",
      "[8, 5, 4, 2]\n",
      "98\n",
      "Clave 4 Valor 78\n",
      "Clave 2 Valor 98\n",
      "Clave 8 Valor 234\n",
      "Clave 5 Valor 29\n",
      "Clave 3 Valor 12\n"
     ]
    }
   ],
   "source": [
    "ejer_13 = {4:78, 2:98, 8:234, 5:29}\n",
    "\n",
    "lista = list(ejer_13)\n",
    "print(lista)\n",
    "#print(lista.sort())\n",
    "#print(sorted(lista)) no funciona porque estoy imprimiento un metodo\n",
    "lista.sort()\n",
    "print(lista)\n",
    "lista.reverse()\n",
    "print(lista)\n",
    "\n",
    "\n",
    "\n",
    "ejer_13[3] = 12\n",
    "\n",
    "print(ejer_13[2])\n",
    "\n",
    "for i,j in ejer_13.items():\n",
    "    print(\"Clave\",i,\"Valor\",j)\n",
    "    \n",
    "    \n",
    "    "
   ]
  },
  {
   "cell_type": "code",
   "execution_count": 24,
   "metadata": {},
   "outputs": [
    {
     "name": "stdout",
     "output_type": "stream",
     "text": [
      "[2, 4, 5, 8]\n",
      "[29, 78, 98, 234]\n",
      "{4: 78, 2: 98, 8: 234, 5: 29, 9: 90}\n",
      "True\n",
      "Clave 4 Valor 78\n",
      "Clave 2 Valor 98\n",
      "Clave 8 Valor 234\n",
      "Clave 5 Valor 29\n",
      "Clave 9 Valor 90\n"
     ]
    }
   ],
   "source": [
    "#Solucion rafa  zambrano \n",
    "ejer_13 = {4:78, 2:98, 8:234, 5:29}\n",
    "# Apartado 1 \n",
    "print(sorted(list(ejer_13.keys())))\n",
    "\n",
    "#Apartado 2 \n",
    "lista2 = sorted(list(ejer_13.values()))\n",
    "print(lista2)\n",
    "\n",
    "#Apartado 3 \n",
    "ejer_13[9] = 90\n",
    "print(ejer_13)\n",
    "\n",
    "#Apartado 4\n",
    "print(2 in ejer_13.keys())\n",
    "\n",
    "#Apartado 5\n",
    "\n",
    "for i,j in ejer_13.items():\n",
    "    print(\"Clave\",i,\"Valor\",j)\n",
    "    \n"
   ]
  },
  {
   "cell_type": "markdown",
   "metadata": {},
   "source": [
    "## Ejercicio 14\n",
    "Junta ambos diccionarios. Para ello, utiliza `update`\n",
    "> ```ejer_14_1 = {1: 11, 2: 22}```\n",
    ">\n",
    "> ```ejer_14_2 = {3: 33, 4: 44}```"
   ]
  },
  {
   "cell_type": "code",
   "execution_count": 110,
   "metadata": {},
   "outputs": [
    {
     "name": "stdout",
     "output_type": "stream",
     "text": [
      "{1: 11, 2: 22, 3: 33, 4: 44}\n"
     ]
    }
   ],
   "source": [
    "ejer_14_1 = {1: 11, 2: 22}\n",
    "ejer_14_2 = {3: 33, 4: 44}\n",
    "\n",
    "ejer_14_1.update(ejer_14_2) #se altera el primero\n",
    "\n",
    "#los metodos algunos modifican a los objetos\n",
    "#si no lo modifica tengo que guardar lo modificado \n",
    "#en una variable\n",
    "\n",
    "print(ejer_14_1)"
   ]
  },
  {
   "cell_type": "markdown",
   "metadata": {},
   "source": [
    "## Ejercicio 15\n",
    "Suma todos los valores del dicionario\n",
    "> ```ejer_15 = {1: 11, 2: 22, 3: 33, 4: 44, 5: 55}```"
   ]
  },
  {
   "cell_type": "code",
   "execution_count": 27,
   "metadata": {},
   "outputs": [
    {
     "name": "stdout",
     "output_type": "stream",
     "text": [
      "165\n",
      "15\n"
     ]
    }
   ],
   "source": [
    "#solucion rafa zambrano\n",
    "ejer_15 = {1: 11, 2: 22, 3: 33, 4: 44, 5: 55}\n",
    "valoressuma = sum(ejer_15.values())\n",
    "print(valoressuma)\n",
    "valoreskeys = sum(ejer_15.keys())\n",
    "print(valoreskeys)"
   ]
  },
  {
   "cell_type": "code",
   "execution_count": 112,
   "metadata": {},
   "outputs": [
    {
     "name": "stdout",
     "output_type": "stream",
     "text": [
      "165\n"
     ]
    }
   ],
   "source": [
    "ejer_15 = {1: 11, 2: 22, 3: 33, 4: 44, 5: 55}\n",
    "suma = 0\n",
    "for i,j in ejer_15.items():\n",
    "    suma = j + suma\n",
    "print(suma)"
   ]
  },
  {
   "cell_type": "markdown",
   "metadata": {},
   "source": [
    "## Ejercicio 16\n",
    "Multiplica todos los valores del diccionario\n",
    "> ```ejer_16 = {1: 11, 2: 22, 3: 33, 4: 44, 5: 55}```"
   ]
  },
  {
   "cell_type": "code",
   "execution_count": 113,
   "metadata": {},
   "outputs": [
    {
     "name": "stdout",
     "output_type": "stream",
     "text": [
      "19326120\n"
     ]
    }
   ],
   "source": [
    "\n",
    "mult = 1\n",
    "for j in ejer_15.values():\n",
    "    #mult = j*mult\n",
    "    mult *= j\n",
    "print(mult)"
   ]
  },
  {
   "cell_type": "markdown",
   "metadata": {},
   "source": [
    "## Ejercicio 17\n",
    "1. Crea un set de tres elementos\n",
    "2. Añade un cuarto\n",
    "3. Elimina el utlimo elemento añadido\n",
    "4. Elimina el elemento 10, si está presente. Usa `discard()`"
   ]
  },
  {
   "cell_type": "code",
   "execution_count": 121,
   "metadata": {},
   "outputs": [
    {
     "name": "stdout",
     "output_type": "stream",
     "text": [
      "{1, 3, 6, 9}\n",
      "{1, 3, 6}\n",
      "{1, 3, 6}\n"
     ]
    }
   ],
   "source": [
    "este = {1,6,3}\n",
    "print(este)\n",
    "#un set no es un elemento ordenado\n",
    "\n",
    "este.add(9)\n",
    "print(este)\n",
    "\n",
    "#tengo que saber cual es el elemento para borrarlo\n",
    "#no puedo indexar un set\n",
    "\n",
    "este.remove(9)\n",
    "print(este)\n",
    "\n",
    "este.discard(10)\n",
    "print(este)\n"
   ]
  }
 ],
 "metadata": {
  "kernelspec": {
   "display_name": "Python 3",
   "language": "python",
   "name": "python3"
  },
  "language_info": {
   "codemirror_mode": {
    "name": "ipython",
    "version": 3
   },
   "file_extension": ".py",
   "mimetype": "text/x-python",
   "name": "python",
   "nbconvert_exporter": "python",
   "pygments_lexer": "ipython3",
   "version": "3.8.3"
  }
 },
 "nbformat": 4,
 "nbformat_minor": 4
}
