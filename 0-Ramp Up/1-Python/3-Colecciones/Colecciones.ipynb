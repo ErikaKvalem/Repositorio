{
 "cells": [
  {
   "cell_type": "markdown",
   "metadata": {},
   "source": [
    "![imagen](./img/python.jpg)"
   ]
  },
  {
   "cell_type": "markdown",
   "metadata": {},
   "source": [
    "# Python Colecciones\n",
    "\n",
    "\n",
    "Las colecciones son una manera de agrupar varios elementos. En otros notebooks vimos cómo funcionan las listas, que es la colección más usada, pero se trata solo de la punta del iceberg. Con Python tenemos varias manera de almacenar conjuntos de datos, dependiendo del tipo de dato, finalidad, tipo de acceso y rendimiento.\n",
    "\n",
    "1. [Listas](#1.-Listas)\n",
    "2. [Tuplas](#2.-Tuplas)\n",
    "3. [Diccionarios](#3.-Diccionarios)\n",
    "4. [Sets](#4.-Sets)\n",
    "5. [Conversiones entre colecciones](#5.-Conversiones-entre-colecciones)\n",
    "6. [Resumen](#6.-Resumen)"
   ]
  },
  {
   "cell_type": "markdown",
   "metadata": {},
   "source": [
    "## 1. Listas\n",
    "Ya conocemos bastante las listas. Veamos un repaso de lo que podemos hacer con ellas, así como algunas funcionalidades nuevas"
   ]
  },
  {
   "cell_type": "code",
   "execution_count": 4,
   "metadata": {},
   "outputs": [
    {
     "name": "stdout",
     "output_type": "stream",
     "text": [
      "7\n",
      "Enero\n",
      "Marzo\n"
     ]
    }
   ],
   "source": [
    "# Listas de números, strings, booleanos, con elementos repetidos, listas anidadas...\n",
    "nums = [6, 2, 8, 3, 4, 5, 5]\n",
    "months = [\"Enero\", \"Febrero\", \"Marzo\"]\n",
    "mix = [5, 7, \"Abril\", True, None, [\"Blanco\", \"Negro\"]]\n",
    "\n",
    "print(len(nums)) # Longitud\n",
    "\n",
    "# Indexar acceder a los elementos de una coleccion\n",
    "print(months[0])\n",
    "print(months[-1])"
   ]
  },
  {
   "cell_type": "markdown",
   "metadata": {},
   "source": [
    "### Acceso\n",
    "Entre corchetes introducimos el indice del elemento al que queremos acceder"
   ]
  },
  {
   "cell_type": "code",
   "execution_count": 5,
   "metadata": {},
   "outputs": [
    {
     "name": "stdout",
     "output_type": "stream",
     "text": [
      "Enero\n",
      "Febrero\n",
      "Marzo\n",
      "Febrero\n"
     ]
    }
   ],
   "source": [
    "months = [\"Enero\", \"Febrero\", \"Marzo\"]\n",
    "print(months[0])\n",
    "print(months[1])\n",
    "print(months[2])\n",
    "print(months[-2])"
   ]
  },
  {
   "cell_type": "markdown",
   "metadata": {},
   "source": [
    "Si planteamos el problema al revés. Tenemos los valores de la lista y lo que queremos es obtener el índice de esos valores dentro de la lista"
   ]
  },
  {
   "cell_type": "code",
   "execution_count": 6,
   "metadata": {},
   "outputs": [
    {
     "data": {
      "text/plain": [
       "2"
      ]
     },
     "execution_count": 6,
     "metadata": {},
     "output_type": "execute_result"
    }
   ],
   "source": [
    "months = [\"Enero\", \"Febrero\", \"Marzo\", \"Marzo\"]\n",
    "months.index(\"Marzo\") # Devuelve el indice de la primera ocurrencia"
   ]
  },
  {
   "cell_type": "markdown",
   "metadata": {},
   "source": [
    "**Slicing**: usamos slicing para acceder a varios elementos seguidos de la lista"
   ]
  },
  {
   "cell_type": "code",
   "execution_count": 9,
   "metadata": {},
   "outputs": [
    {
     "name": "stdout",
     "output_type": "stream",
     "text": [
      "[26, 18]\n",
      "[]\n",
      "[15, 26, 18]\n",
      "[22, 34]\n"
     ]
    }
   ],
   "source": [
    "degrees = [22, 34, 15, 26, 18, 22]\n",
    "print(degrees[3:-1]) # no llega al ultimo elemento\n",
    "print(degrees[2:-4])\n",
    "print(degrees[-4:-1])\n",
    "print(degrees[0:-4])\n"
   ]
  },
  {
   "cell_type": "markdown",
   "metadata": {},
   "source": [
    "### Modificar elementos\n",
    "Las listas son mutables, por lo que podremos modificarlas"
   ]
  },
  {
   "cell_type": "code",
   "execution_count": 10,
   "metadata": {},
   "outputs": [
    {
     "name": "stdout",
     "output_type": "stream",
     "text": [
      "['Enero', 'Febrero', 'Marzo']\n",
      "['Enero', 'Febrero', 'Abril']\n"
     ]
    }
   ],
   "source": [
    "# Accediendo mediante el indice\n",
    "months = [\"Enero\", \"Febrero\", \"Marzo\"]\n",
    "print(months)\n",
    "months[2] =\"Abril\"\n",
    "print(months)"
   ]
  },
  {
   "cell_type": "markdown",
   "metadata": {},
   "source": [
    "### Añadir elementos\n",
    "Se añade al final de la lista si usamos `append`, o si queremos en un lugar concreto, mediante `insert`"
   ]
  },
  {
   "cell_type": "code",
   "execution_count": 11,
   "metadata": {},
   "outputs": [
    {
     "name": "stdout",
     "output_type": "stream",
     "text": [
      "['honda', 'yamaha', 'suzuki', 'ducati']\n",
      "['honda', 'yamaha', 'KWSK', 'suzuki', 'ducati']\n"
     ]
    }
   ],
   "source": [
    "# Con append lo añadimos al final de la lista\n",
    "motorcycles = ['honda', 'yamaha', 'suzuki']\n",
    "motorcycles.append(\"ducati\")\n",
    "print(motorcycles)\n",
    "# con insert lo añadimos en la posicion que queremos\n",
    "motorcycles.insert(2,\"KWSK\") \n",
    "print(motorcycles)"
   ]
  },
  {
   "cell_type": "code",
   "execution_count": 12,
   "metadata": {},
   "outputs": [
    {
     "name": "stdout",
     "output_type": "stream",
     "text": [
      "['honda', 'yamaha', 'suzuki']\n"
     ]
    }
   ],
   "source": [
    "# Es muy comun crear una lista vacia, y a lo largo del programa, ir añadiendo elementos\n",
    "motos = [] #lista vacia \n",
    "motos.append(\"honda\")\n",
    "motos.append(\"yamaha\")\n",
    "motos.append(\"suzuki\")\n",
    "print(motos)\n"
   ]
  },
  {
   "cell_type": "code",
   "execution_count": 15,
   "metadata": {},
   "outputs": [
    {
     "name": "stdout",
     "output_type": "stream",
     "text": [
      "[-1, -3, -9]\n",
      "-4.333333333333333\n"
     ]
    }
   ],
   "source": [
    "saldo = [1, 2, -1, -3, 4, 5, -9, 0, 1]\n",
    "\n",
    "deudores = []\n",
    "\n",
    "for n in saldo: \n",
    "    if n<0:\n",
    "        deudores.append(n)\n",
    "print(deudores)\n",
    "print(sum(deudores)/len(deudores)) # mMedia: suma/ longitud"
   ]
  },
  {
   "cell_type": "markdown",
   "metadata": {},
   "source": [
    "### Eliminar elementos\n",
    "Para eliminar elementos se usar `remove`. Si no existe, da error, así que cuidado con esta sentencia.\n",
    "\n",
    "En ocasiones resulta útil quedarnos con el elemento eliminado. Para ello usamos `pop()`, que elimina el elemento que le indiquemos, y además devuelve ese elemento por lo que podremos guardarlo en una variable para usarlo después."
   ]
  },
  {
   "cell_type": "code",
   "execution_count": 22,
   "metadata": {},
   "outputs": [
    {
     "name": "stdout",
     "output_type": "stream",
     "text": [
      "['VW', 'Seat', 'BMW', 'VW']\n",
      "['Seat', 'BMW', 'VW']\n",
      "['BMW', 'VW']\n",
      "Seat\n",
      "VW\n"
     ]
    }
   ],
   "source": [
    "cars = [\"VW\", \"Seat\", \"BMW\", \"VW\"]\n",
    "print(cars)\n",
    "cars.remove(\"VW\") #Solo elimina el primero que encuentra\n",
    "print(cars)\n",
    "seat = cars.pop(0) # elimina el elemento espicificado y lo guarda en una var que podemos reutilizar \n",
    "print(cars)\n",
    "print(seat)\n",
    "\n",
    "ult = cars.pop() # si no ponemos argumento pop devuelve el ultimo elemento\n",
    "print(ult)"
   ]
  },
  {
   "cell_type": "code",
   "execution_count": null,
   "metadata": {},
   "outputs": [],
   "source": [
    "# Eliminar elementos por indice, y guarda ese valor en una variable\n",
    "cars = [\"VW\", \"Seat\", \"BMW\", \"VW\"]\n",
    "\n"
   ]
  },
  {
   "cell_type": "markdown",
   "metadata": {},
   "source": [
    "<table align=\"left\">\n",
    " <tr><td width=\"80\"><img src=\"./img/error.png\" style=\"width:auto;height:auto\"></td>\n",
    "     <td style=\"text-align:left\">\n",
    "         <h3>ERRORES remove</h3>\n",
    "         \n",
    " </td></tr>\n",
    "</table>"
   ]
  },
  {
   "cell_type": "code",
   "execution_count": 23,
   "metadata": {},
   "outputs": [
    {
     "name": "stdout",
     "output_type": "stream",
     "text": [
      "['VW', 'Seat', 'BMW', 'VW']\n"
     ]
    },
    {
     "ename": "ValueError",
     "evalue": "list.remove(x): x not in list",
     "output_type": "error",
     "traceback": [
      "\u001b[0;31m---------------------------------------------------------------------------\u001b[0m",
      "\u001b[0;31mValueError\u001b[0m                                Traceback (most recent call last)",
      "\u001b[0;32m<ipython-input-23-536bf515b765>\u001b[0m in \u001b[0;36m<module>\u001b[0;34m\u001b[0m\n\u001b[1;32m      1\u001b[0m \u001b[0mcars\u001b[0m \u001b[0;34m=\u001b[0m \u001b[0;34m[\u001b[0m\u001b[0;34m\"VW\"\u001b[0m\u001b[0;34m,\u001b[0m \u001b[0;34m\"Seat\"\u001b[0m\u001b[0;34m,\u001b[0m \u001b[0;34m\"BMW\"\u001b[0m\u001b[0;34m,\u001b[0m \u001b[0;34m\"VW\"\u001b[0m\u001b[0;34m]\u001b[0m\u001b[0;34m\u001b[0m\u001b[0;34m\u001b[0m\u001b[0m\n\u001b[1;32m      2\u001b[0m \u001b[0mprint\u001b[0m\u001b[0;34m(\u001b[0m\u001b[0mcars\u001b[0m\u001b[0;34m)\u001b[0m\u001b[0;34m\u001b[0m\u001b[0;34m\u001b[0m\u001b[0m\n\u001b[0;32m----> 3\u001b[0;31m \u001b[0mcars\u001b[0m\u001b[0;34m.\u001b[0m\u001b[0mremove\u001b[0m\u001b[0;34m(\u001b[0m\u001b[0;34m\"Audi\"\u001b[0m\u001b[0;34m)\u001b[0m\u001b[0;34m\u001b[0m\u001b[0;34m\u001b[0m\u001b[0m\n\u001b[0m\u001b[1;32m      4\u001b[0m \u001b[0;31m# remove de algo que no está en la lista\u001b[0m\u001b[0;34m\u001b[0m\u001b[0;34m\u001b[0m\u001b[0;34m\u001b[0m\u001b[0m\n",
      "\u001b[0;31mValueError\u001b[0m: list.remove(x): x not in list"
     ]
    }
   ],
   "source": [
    "cars = [\"VW\", \"Seat\", \"BMW\", \"VW\"]\n",
    "print(cars)\n",
    "cars.remove(\"Audi\")\n",
    "# remove de algo que no está en la lista"
   ]
  },
  {
   "cell_type": "markdown",
   "metadata": {},
   "source": [
    "### Métodos: ordenar, tamaño, invertir orden, ocurrencia\n",
    "En este apartado veremos los métodos más útiles, pero podrás consultar el resto en [este enlace](https://www.w3schools.com/python/python_ref_list.asp)"
   ]
  },
  {
   "cell_type": "code",
   "execution_count": 28,
   "metadata": {},
   "outputs": [
    {
     "name": "stdout",
     "output_type": "stream",
     "text": [
      "Lista\n",
      "[22, 34, 15, 26, 18, 22]\n",
      "Ordenar\n",
      "[15, 18, 22, 22, 26, 34]\n",
      "Tamaño 6\n",
      "Reverse\n",
      "[34, 26, 22, 22, 18, 15]\n",
      "Count\n",
      "2\n"
     ]
    }
   ],
   "source": [
    "degrees = [22, 34, 15, 26, 18, 22]\n",
    "print(\"Lista\")\n",
    "print(degrees)\n",
    "\n",
    "# Ordenar \n",
    "degrees.sort()\n",
    "print(\"Ordenar\")\n",
    "print(degrees)\n",
    "\n",
    "#Tamaño \n",
    "\n",
    "print(\"Tamaño\",len(degrees))\n",
    "\n",
    "#Invertir \n",
    "print(\"Reverse\")\n",
    "degrees.reverse()\n",
    "print(degrees)\n",
    "\n",
    "# Ocurrencia valor \n",
    "print(\"Count\")\n",
    "print(degrees.count(22))"
   ]
  },
  {
   "cell_type": "markdown",
   "metadata": {},
   "source": [
    "<table align=\"left\">\n",
    " <tr><td width=\"80\"><img src=\"./img/error.png\" style=\"width:auto;height:auto\"></td>\n",
    "     <td style=\"text-align:left\">\n",
    "         <h3>ERRORES indice</h3>\n",
    "         \n",
    " </td></tr>\n",
    "</table>"
   ]
  },
  {
   "cell_type": "markdown",
   "metadata": {},
   "source": [
    "Mucho cuidado cuando accedemos a los elementos de la lista. Es un error muy habitual acceder a un índice que no existe en la lista.\n",
    "\n",
    "Si estamos accediendo al ultimo elemento, en vez de poner el numero de su indice, poner mejor `-1`, y asi evitamos errores"
   ]
  },
  {
   "cell_type": "code",
   "execution_count": 29,
   "metadata": {},
   "outputs": [
    {
     "ename": "IndexError",
     "evalue": "list index out of range",
     "output_type": "error",
     "traceback": [
      "\u001b[0;31m---------------------------------------------------------------------------\u001b[0m",
      "\u001b[0;31mIndexError\u001b[0m                                Traceback (most recent call last)",
      "\u001b[0;32m<ipython-input-29-23741f40a7ab>\u001b[0m in \u001b[0;36m<module>\u001b[0;34m\u001b[0m\n\u001b[1;32m      1\u001b[0m \u001b[0mdegrees\u001b[0m \u001b[0;34m=\u001b[0m \u001b[0;34m[\u001b[0m\u001b[0;36m22\u001b[0m\u001b[0;34m,\u001b[0m \u001b[0;36m34\u001b[0m\u001b[0;34m,\u001b[0m \u001b[0;36m15\u001b[0m\u001b[0;34m,\u001b[0m \u001b[0;36m26\u001b[0m\u001b[0;34m,\u001b[0m \u001b[0;36m18\u001b[0m\u001b[0;34m,\u001b[0m \u001b[0;36m22\u001b[0m\u001b[0;34m]\u001b[0m\u001b[0;34m\u001b[0m\u001b[0;34m\u001b[0m\u001b[0m\n\u001b[0;32m----> 2\u001b[0;31m \u001b[0mdegrees\u001b[0m\u001b[0;34m[\u001b[0m\u001b[0;36m6\u001b[0m\u001b[0;34m]\u001b[0m\u001b[0;34m\u001b[0m\u001b[0;34m\u001b[0m\u001b[0m\n\u001b[0m",
      "\u001b[0;31mIndexError\u001b[0m: list index out of range"
     ]
    }
   ],
   "source": [
    "degrees = [22, 34, 15, 26, 18, 22]\n",
    "degrees[6]"
   ]
  },
  {
   "cell_type": "markdown",
   "metadata": {},
   "source": [
    "Si tenemos este tipo de errores y no sabemos resolverlos, lo mejor es imprimir la longitud de la lista, y todos los elementos."
   ]
  },
  {
   "cell_type": "markdown",
   "metadata": {},
   "source": [
    "<table align=\"left\">\n",
    " <tr><td width=\"80\"><img src=\"./img/ejercicio.png\" style=\"width:auto;height:auto\"></td>\n",
    "     <td style=\"text-align:left\">\n",
    "         <h3>Ejercicio de listas</h3>\n",
    "\n",
    "Piensa en al menos 3 personas que invitarías a cenar\n",
    "<ol>\n",
    "    <li>Utiliza la lista de invitados para imprimir cada uno por pantalla, mediante un bucle</li>\n",
    "    <li>Ordena alfabeticamente tu lista de invitados</li>\n",
    "    <li>¿Quién es el primer invitado de la lista?</li>\n",
    "    <li>Te llama uno de ellos a última hora, que no va a poder asistir. Eliminalo de la lista</li>\n",
    "    <li>Por suerte te ha llamado un amigo que no iba a asistir y al final si puede. Añadelo a mitad de la lista</li>\n",
    "</ol>\n",
    "         \n",
    " </td></tr>\n",
    "</table>"
   ]
  },
  {
   "cell_type": "code",
   "execution_count": 42,
   "metadata": {},
   "outputs": [
    {
     "name": "stdout",
     "output_type": "stream",
     "text": [
      "Todos los invitados\n",
      "Maria\n",
      "MM\n",
      "Geir\n",
      "Ordenar\n",
      "['Geir', 'MM', 'Maria']\n",
      "El primero\n",
      "Geir\n",
      "No viene\n",
      "Maria\n",
      "Viene mas gente\n",
      "['Geir', 'Ines', 'MM', 'Señora']\n"
     ]
    }
   ],
   "source": [
    "invitados= [\"Maria\", \"MM\", \"Geir\"]\n",
    "print(\"Todos los invitados\")\n",
    "for i in invitados:\n",
    "    print(i)\n",
    "    \n",
    "invitados.sort()\n",
    "\n",
    "print(\"Ordenar\")\n",
    "print(invitados)\n",
    "# si lo hacemos con una funcion built in \n",
    "# no modifican los objetos \n",
    "#tenemos que sobrescribir en el mismo nomrbe \n",
    "#BUILT IN\n",
    "#invitados = sorted(invitados)\n",
    "\n",
    "print(\"El primero\")\n",
    "print(invitados[0])\n",
    "\n",
    "print(\"No viene\")\n",
    "print(invitados.pop(2))\n",
    "\n",
    "print(\"Viene mas gente\")\n",
    "invitados.append(\"Señora\")\n",
    "\n",
    "#print(invitados.append(\"Señora\")) imprime None.\n",
    "#Esto significa que le estoy pidiendo imprimir un metodo. \n",
    "# Pero con print(invitados.pop(2)) no pasa porque la funcion es distinta\n",
    "# CUIDADO CON ESO\n",
    "\n",
    "\n",
    "\n",
    "invitados.insert(int(len(invitados)/2),\"Ines\") \n",
    "#invitados.insert(1,\"Ines\")\n",
    "# Forma de poner un elemento en el medio de una lista de manera general\n",
    " \n",
    "print(invitados)"
   ]
  },
  {
   "cell_type": "markdown",
   "metadata": {},
   "source": [
    "## 2. Tuplas\n",
    "Muy similares a las listas. Si en Notebooks anteriores definíamos a las listas como ordenadas y mutables, las tuplas son ordenadas e inmutables.\n",
    "\n",
    "* **Inmutables**: una vez creada la tupla con sus elementos iniciales, no se puede modificar\n",
    "* **Ordenadas**: podemos acceder a sus elementos a través del indice y reordenar la tupla según queramos\n",
    "\n",
    "Las tuplas se suelen usar para pequeñas colecciones de datos que no van a cambiar a lo largo del programa, como es el caso de las constantes.\n",
    "\n",
    "Si las listas se construían mediante corchetes `[]`, las tuplas lo hacen con los paréntesis `()`"
   ]
  },
  {
   "cell_type": "code",
   "execution_count": 46,
   "metadata": {},
   "outputs": [
    {
     "name": "stdout",
     "output_type": "stream",
     "text": [
      "(3, 'texto', 5.2)\n"
     ]
    },
    {
     "data": {
      "text/plain": [
       "tuple"
      ]
     },
     "execution_count": 46,
     "metadata": {},
     "output_type": "execute_result"
    }
   ],
   "source": [
    "primer_tupla = (3, \"texto\", 5.2)\n",
    "print(primer_tupla)\n",
    "type(primer_tupla) # tipo TUPLE "
   ]
  },
  {
   "cell_type": "markdown",
   "metadata": {},
   "source": [
    "Los paréntesis ya se usan para reordenar operaciones `5 * (3 + 4)`, por lo que hay que añadir una coma cuando definamos una tupla con un único elemento, sino Python lo interpretará como un número."
   ]
  },
  {
   "cell_type": "code",
   "execution_count": 61,
   "metadata": {},
   "outputs": [
    {
     "data": {
      "text/plain": [
       "tuple"
      ]
     },
     "execution_count": 61,
     "metadata": {},
     "output_type": "execute_result"
    }
   ],
   "source": [
    "tupla_cinco = (5,)\n",
    "tuplas_cincoerror = (5)\n",
    "type(tupla_cinco)\n"
   ]
  },
  {
   "cell_type": "code",
   "execution_count": 62,
   "metadata": {},
   "outputs": [
    {
     "data": {
      "text/plain": [
       "int"
      ]
     },
     "execution_count": 62,
     "metadata": {},
     "output_type": "execute_result"
    }
   ],
   "source": [
    "type(tuplas_cincoerror)"
   ]
  },
  {
   "cell_type": "code",
   "execution_count": 53,
   "metadata": {},
   "outputs": [
    {
     "name": "stdout",
     "output_type": "stream",
     "text": [
      "(1, 4, 3, ('A', 'B', 'C'))\n",
      "1\n",
      "('A', 'B', 'C')\n",
      "C\n",
      "(1, 4)\n",
      "4\n"
     ]
    }
   ],
   "source": [
    "# Anidar tuplas \n",
    "tupla_anidada = ( 1, 4 ,3, (\"A\",\"B\",\"C\"))\n",
    "print(tupla_anidada)\n",
    "\n",
    "#El acceso a las tuplas es igual que a las listas\n",
    "\n",
    "print(tupla_anidada[0])\n",
    "print(tupla_anidada[-1])\n",
    "print(tupla_anidada[-1][-1]) \n",
    "\n",
    "# El SLICING igual que en las listas\n",
    "print(tupla_anidada[0:2]) # Va hasta el segundo indice menos 1 (COMO RANGE)\n",
    "\n",
    "#Longitud de la tupla\n",
    "print(len(tupla_anidada))"
   ]
  },
  {
   "cell_type": "markdown",
   "metadata": {},
   "source": [
    "<table align=\"left\">\n",
    " <tr><td width=\"80\"><img src=\"./img/error.png\" style=\"width:auto;height:auto\"></td>\n",
    "     <td style=\"text-align:left\">\n",
    "         <h3>ERRORES tuplas</h3>\n",
    "         \n",
    " </td></tr>\n",
    "</table>"
   ]
  },
  {
   "cell_type": "markdown",
   "metadata": {},
   "source": [
    "Cuidado que las tuplas son inmutables, y una vez creadas no las podrás modificar después"
   ]
  },
  {
   "cell_type": "code",
   "execution_count": 54,
   "metadata": {},
   "outputs": [
    {
     "ename": "TypeError",
     "evalue": "'tuple' object does not support item assignment",
     "output_type": "error",
     "traceback": [
      "\u001b[0;31m---------------------------------------------------------------------------\u001b[0m",
      "\u001b[0;31mTypeError\u001b[0m                                 Traceback (most recent call last)",
      "\u001b[0;32m<ipython-input-54-67af3f60a2fa>\u001b[0m in \u001b[0;36m<module>\u001b[0;34m\u001b[0m\n\u001b[1;32m      1\u001b[0m \u001b[0mtupla_error\u001b[0m \u001b[0;34m=\u001b[0m \u001b[0;34m(\u001b[0m\u001b[0;36m1\u001b[0m\u001b[0;34m,\u001b[0m\u001b[0;36m3\u001b[0m\u001b[0;34m,\u001b[0m\u001b[0;36m4\u001b[0m\u001b[0;34m,\u001b[0m\u001b[0;36m2113\u001b[0m\u001b[0;34m,\u001b[0m\u001b[0;36m6\u001b[0m\u001b[0;34m)\u001b[0m\u001b[0;34m\u001b[0m\u001b[0;34m\u001b[0m\u001b[0m\n\u001b[0;32m----> 2\u001b[0;31m \u001b[0mtupla_error\u001b[0m\u001b[0;34m[\u001b[0m\u001b[0;36m4\u001b[0m\u001b[0;34m]\u001b[0m\u001b[0;34m=\u001b[0m\u001b[0;36m10\u001b[0m\u001b[0;34m\u001b[0m\u001b[0;34m\u001b[0m\u001b[0m\n\u001b[0m",
      "\u001b[0;31mTypeError\u001b[0m: 'tuple' object does not support item assignment"
     ]
    }
   ],
   "source": [
    "tupla_error = (1,3,4,2113,6)\n",
    "tupla_error[4]=10"
   ]
  },
  {
   "cell_type": "code",
   "execution_count": 56,
   "metadata": {},
   "outputs": [
    {
     "name": "stdout",
     "output_type": "stream",
     "text": [
      "(1, 2, 3, 4, 5, 6)\n"
     ]
    }
   ],
   "source": [
    "# Si queremos añadir elementos, podemos meterlos en otra tupla y sumarlas para que se concatenen\n",
    "tupla_1 = (1,2,3)\n",
    "tupla_2 = (4,5,6)\n",
    "\n",
    "tupla_suma = tupla_1 + tupla_2\n",
    "print(tupla_suma)"
   ]
  },
  {
   "cell_type": "markdown",
   "metadata": {},
   "source": [
    "### Listas y tuplas\n",
    "Podemos combinar listas y tuplas que no tendremos ningún problema, siempre y cuando respetemos las propiedades de cada tipo de dato."
   ]
  },
  {
   "cell_type": "code",
   "execution_count": 58,
   "metadata": {},
   "outputs": [
    {
     "name": "stdout",
     "output_type": "stream",
     "text": [
      "['Manzanas', ('Limones', 'Naranjas'), 'Fresas']\n",
      "('Limones', 'Naranjas')\n",
      "Naranjas\n"
     ]
    }
   ],
   "source": [
    "frutas = [\"Manzanas\", (\"Limones\", \"Naranjas\"), \"Fresas\"]\n",
    "print(frutas)\n",
    "print(frutas[1])\n",
    "print(frutas[1][1])"
   ]
  },
  {
   "cell_type": "markdown",
   "metadata": {},
   "source": [
    "<table align=\"left\">\n",
    " <tr><td width=\"80\"><img src=\"./img/ejercicio.png\" style=\"width:auto;height:auto\"></td>\n",
    "     <td style=\"text-align:left\">\n",
    "         <h3>Ejercicio de tuplas</h3>\n",
    "\n",
    "\n",
    "<ol>\n",
    "    <li>Crea una tupla con un único valor. Comprueba su tipo</li>\n",
    "    <li>Crea otra tupla con 3 elementos</li>\n",
    "    <li>Añadele (como puedas) a la primera tupla, los tres elementos de la segunda</li>\n",
    "    <li>Obtén una cuarta tupla a partir de los dos primeros valores de la tupla creada del apartado anterior</li>\n",
    "</ol>\n",
    "         \n",
    " </td></tr>\n",
    "</table>"
   ]
  },
  {
   "cell_type": "code",
   "execution_count": 66,
   "metadata": {},
   "outputs": [
    {
     "name": "stdout",
     "output_type": "stream",
     "text": [
      "('Erika', 'Yo', 'Tu', 1)\n",
      "('Erika', 'Yo')\n"
     ]
    }
   ],
   "source": [
    "tupla_unica = (\"Erika\",)\n",
    "\n",
    "type(tupla_unica)\n",
    "\n",
    "tupla_3e = (\"Yo\", \"Tu\", 1)\n",
    "\n",
    "tuplatot = tupla_unica + tupla_3e\n",
    "\n",
    "print(tuplatot)\n",
    "\n",
    "ultimatupl = tuplatot[0:2]\n",
    "print(ultimatupl)"
   ]
  },
  {
   "cell_type": "markdown",
   "metadata": {},
   "source": [
    "## 3. Diccionarios\n",
    "En este tipo de colecciones no solo podemos agrupar datos, sino que tenemos la posibilidad de establecer una relación entre los mismos, con la forma **clave: valor**.\n",
    "\n",
    "La sintaxis  es mediante llaves `{}`\n",
    "\n",
    "> nombre_diccionario = {clave1: valor1, clave2: valor2, clave3: valor3}\n",
    "\n",
    "Si veíamos que las listas son elementos mutables y y ordenadas, y las tuplas inmutables y ordenadas, los diccionarios son:\n",
    "\n",
    "* **Mutables**: podemos modificar sus elementos\n",
    "* **Desordenado**: la potencia de acceso de los diccionarios es su formato clave-valor, no su orden. Aun así, el dicionario conserva el orden de los elemento según los vamos insertando.\n",
    "\n",
    "Vamos a declarar un diccionario en el que definiremos elementos de un coche"
   ]
  },
  {
   "cell_type": "code",
   "execution_count": 71,
   "metadata": {},
   "outputs": [
    {
     "name": "stdout",
     "output_type": "stream",
     "text": [
      "{'color': 'Gris', 'marca': 'BMS', 'peso': 150, 'Cambio climatico': True, 6: ('ocho', 34, 'esto es una tupla'), 'Clave': [4, 'hola']}\n"
     ]
    }
   ],
   "source": [
    "coche = {\"color\":\"Gris\",\n",
    "        \"marca\":\"BMS\",\n",
    "        \"peso\": 150,\n",
    "        \"Cambio climatico\": True,\n",
    "        6:(\"ocho\", 34, \"esto es una tupla\"),\n",
    "        \"Clave\": [4,\"hola\"]}\n",
    "print(coche)"
   ]
  },
  {
   "cell_type": "markdown",
   "metadata": {},
   "source": [
    "Se puede almacenar todo tipo de datos: numero, cadena, booleano, listas, tuplas, diccionarios...\n",
    "\n",
    "Cuando declaremos el diccionario, lo podemos hacer en una sola linea `coche = {\"color\"=\"Gris\", \"marca\"...}`, aunque se recomienda por sencillez a la hora de leer el código, realizar esta acción en varias líneas. Si escribimos el primer elemento y presionamos enter, Jupyter introduce automáticamente la tabulación."
   ]
  },
  {
   "cell_type": "markdown",
   "metadata": {},
   "source": [
    "### Acceso, modificación, añadir, eliminar"
   ]
  },
  {
   "cell_type": "code",
   "execution_count": 79,
   "metadata": {},
   "outputs": [
    {
     "name": "stdout",
     "output_type": "stream",
     "text": [
      "Blanco\n",
      "True\n",
      "Blanco\n",
      "4\n",
      "{'color': 'Blanco', 'marca': 'BMS', 'peso': 150, 'Cambio climatico': True, 6: ('ocho', 34, 'esto es una tupla'), 'Clave': [4, 'hola']}\n",
      "dict_keys(['color', 'marca', 'peso', 'Cambio climatico', 6, 'Clave'])\n",
      "dict_values(['Blanco', 'BMS', 150, True, ('ocho', 34, 'esto es una tupla'), [4, 'hola']])\n"
     ]
    }
   ],
   "source": [
    "#Acceso \n",
    "print(coche[\"color\"])\n",
    "print(coche[\"Cambio climatico\"])\n",
    "\n",
    "# Modificar elementos\n",
    "coche[\"color\"] =\"Blanco\"\n",
    "print(coche[\"color\"])\n",
    "\n",
    "#Añadir elemtos\n",
    "coche[\"puertas\"] = 4\n",
    "print(coche[\"puertas\"])\n",
    "\n",
    "#Eliminar elementos\n",
    "del coche[\"puertas\"]\n",
    "print(coche)\n",
    "\n",
    "\n",
    "#Obtener las claves \n",
    "print(coche.keys())\n",
    "\n",
    "#Obtener los valores\n",
    "print(coche.values())"
   ]
  },
  {
   "cell_type": "markdown",
   "metadata": {},
   "source": [
    "Para más detalle de los métodos de los diccionario puedes [consultar la documentación](https://www.w3schools.com/python/python_ref_dictionary.asp)"
   ]
  },
  {
   "cell_type": "code",
   "execution_count": 80,
   "metadata": {},
   "outputs": [
    {
     "name": "stdout",
     "output_type": "stream",
     "text": [
      "{'Direccion': 'Castellana', 'Tamaño': 250}\n"
     ]
    }
   ],
   "source": [
    "# Podemos empezar tambien mediante un diccionario vacío\n",
    "tienda ={}\n",
    "# Equivalente para crear un diccionario vacio dict{}\n",
    "\n",
    "tienda[\"Direccion\"] = \"Castellana\"\n",
    "tienda[\"Tamaño\"] = 250\n",
    "print(tienda)"
   ]
  },
  {
   "cell_type": "markdown",
   "metadata": {},
   "source": [
    "<table align=\"left\">\n",
    " <tr><td width=\"80\"><img src=\"./img/error.png\" style=\"width:auto;height:auto\"></td>\n",
    "     <td style=\"text-align:left\">\n",
    "         <h3>ERRORES en diccionarios</h3>\n",
    "         \n",
    " </td></tr>\n",
    "</table>"
   ]
  },
  {
   "cell_type": "markdown",
   "metadata": {},
   "source": [
    "Si hay una clave que no existe en el diccionario, saltará un error.\n",
    "\n",
    "En este caso, el error es bastante intuitivo: `KeyError`, no encuentra la clave"
   ]
  },
  {
   "cell_type": "code",
   "execution_count": 81,
   "metadata": {},
   "outputs": [
    {
     "ename": "KeyError",
     "evalue": "'peso'",
     "output_type": "error",
     "traceback": [
      "\u001b[0;31m---------------------------------------------------------------------------\u001b[0m",
      "\u001b[0;31mKeyError\u001b[0m                                  Traceback (most recent call last)",
      "\u001b[0;32m<ipython-input-81-00135819fc25>\u001b[0m in \u001b[0;36m<module>\u001b[0;34m\u001b[0m\n\u001b[1;32m      1\u001b[0m \u001b[0mcoche\u001b[0m \u001b[0;34m=\u001b[0m \u001b[0;34m{\u001b[0m\u001b[0;34m\"color\"\u001b[0m\u001b[0;34m:\u001b[0m\u001b[0;34m\"Gris\"\u001b[0m\u001b[0;34m,\u001b[0m \u001b[0;34m\"marca\"\u001b[0m\u001b[0;34m:\u001b[0m\u001b[0;34m\"Seat\"\u001b[0m\u001b[0;34m}\u001b[0m\u001b[0;34m\u001b[0m\u001b[0;34m\u001b[0m\u001b[0m\n\u001b[0;32m----> 2\u001b[0;31m \u001b[0mcoche\u001b[0m\u001b[0;34m[\u001b[0m\u001b[0;34m\"peso\"\u001b[0m\u001b[0;34m]\u001b[0m\u001b[0;34m\u001b[0m\u001b[0;34m\u001b[0m\u001b[0m\n\u001b[0m\u001b[1;32m      3\u001b[0m \u001b[0;34m\u001b[0m\u001b[0m\n",
      "\u001b[0;31mKeyError\u001b[0m: 'peso'"
     ]
    }
   ],
   "source": [
    "coche = {\"color\":\"Gris\", \"marca\":\"Seat\"}\n",
    "coche[\"peso\"]\n",
    "        "
   ]
  },
  {
   "cell_type": "markdown",
   "metadata": {},
   "source": [
    "**¿Cómo solventar esto?** Sirmpre tienes la opción de usar el bloque `try/except`, pero en este caso, los diccionarios tienen una solución más elegante: `mi_diccionario.get(clave, valor si no existe)`"
   ]
  },
  {
   "cell_type": "code",
   "execution_count": 82,
   "metadata": {},
   "outputs": [
    {
     "data": {
      "text/plain": [
       "'No existe peso'"
      ]
     },
     "execution_count": 82,
     "metadata": {},
     "output_type": "execute_result"
    }
   ],
   "source": [
    "coche.get(\"peso\",\"No existe peso\")"
   ]
  },
  {
   "cell_type": "markdown",
   "metadata": {},
   "source": [
    "**Ejemplo**: Vamos a implementar un contador de palabras a partir del siguiente texto:  \n",
    "> *Señor cómpreme un coco. Yo no compro coco porque el señor que poco coco compra poco coco come*\n",
    "\n",
    "El resultado debería ser:\n",
    "\n",
    "```Python\n",
    "{'palabra1':n_veces,\n",
    " 'palabra2': m_veces,\n",
    " ...\n",
    "}\n",
    "```"
   ]
  },
  {
   "cell_type": "code",
   "execution_count": 88,
   "metadata": {},
   "outputs": [
    {
     "name": "stdout",
     "output_type": "stream",
     "text": [
      "{'señor': 2, 'compreme': 1, 'un': 1, 'coco': 4, 'yo': 1, 'no': 1, 'compro': 1, 'porque': 1, 'el': 1, 'que': 1, 'poco': 2, 'compra': 1, 'come': 1}\n"
     ]
    }
   ],
   "source": [
    "frase = \"Señor compreme un coco. Yo no compro coco porque el señor que poco coco compra poco coco come\"\n",
    "# Contar el numero de veces que aparece cada palabra \n",
    "#TENGO QUE IGUALARLO A FRASE PORQUE los str no son mutables\n",
    "frase = frase.replace(\".\",\"\").lower() # para quitar el punto\n",
    "palabras = frase.split()\n",
    "palabras\n",
    "\n",
    "diccionario = {}\n",
    "\n",
    "for word in palabras:\n",
    "    diccionario[word] = diccionario.get(word,0)+1\n",
    "    \n",
    "print(diccionario)\n"
   ]
  },
  {
   "cell_type": "markdown",
   "metadata": {},
   "source": [
    "### Iterar\n",
    "Que el diccionario no esté ordenado, no quiere decir que no podamos iterar sus elementos, ya que también es un **interable**, como los son las listas o las tuplas."
   ]
  },
  {
   "cell_type": "code",
   "execution_count": 1,
   "metadata": {},
   "outputs": [
    {
     "name": "stdout",
     "output_type": "stream",
     "text": [
      "color\n",
      "Gris\n",
      "puertas\n",
      "4\n",
      "color - Gris\n",
      "puertas - 4\n"
     ]
    }
   ],
   "source": [
    "coche = {\"color\":\"Gris\",\n",
    "        \"puertas\":4}\n",
    "\n",
    "for n in coche:\n",
    "    print(n)\n",
    "    print(coche[n])\n",
    "    \n",
    "# Otra forma de hacer esto ITEMS\n",
    "for clave,valor in coche.items():\n",
    "    print(clave,\"-\",valor)\n",
    "    "
   ]
  },
  {
   "cell_type": "markdown",
   "metadata": {},
   "source": [
    "<table align=\"left\">\n",
    " <tr><td width=\"80\"><img src=\"./img/ejercicio.png\" style=\"width:auto;height:auto\"></td>\n",
    "     <td style=\"text-align:left\">\n",
    "         <h3>Ejercicio de diccionarios</h3>\n",
    "\n",
    "\n",
    "<ol>\n",
    "    <li>Crea un diccionario con las caracteristicas de un televisor: tamaño, smarttv, marca...</li>\n",
    "    <li>Añade otra catacteristica del tv</li>\n",
    "    <li>Modifica una de ellas</li>\n",
    "    <li>Imprime por pantalla sus claves, valores e items</li>\n",
    "</ol>\n",
    "         \n",
    " </td></tr>\n",
    "</table>"
   ]
  },
  {
   "cell_type": "code",
   "execution_count": 95,
   "metadata": {},
   "outputs": [
    {
     "name": "stdout",
     "output_type": "stream",
     "text": [
      "dict_items([('tamaño', 160), ('smart', True), ('marca', 'LG'), ('color', 'Negro')])\n"
     ]
    }
   ],
   "source": [
    "caract = {\"tamaño\":150, \n",
    "          \"smart\" : True,\n",
    "          \"marca\": \"LG\"}\n",
    "#print(caract)\n",
    "caract[\"color\"] = \"Negro\"\n",
    "#print(caract)\n",
    "caract[\"tamaño\"] = 160\n",
    "#print(caract)\n",
    "\n",
    "#print(caract.keys())\n",
    "#print(caract.values())\n",
    "print(caract.items()) #OJO DEVUELVE TUPLAS dentro de una lista \n",
    "\n",
    "#Podemos pensar en un diccionario real \n",
    "\n"
   ]
  },
  {
   "cell_type": "markdown",
   "metadata": {},
   "source": [
    "## 4. Sets\n",
    "Otra colección *bulit-in* de Python, compuesta por un conjunto de *claves*. Muy parecidos a los diccionarios. Tienen las siguientes características:\n",
    "* **Mutables**: podemos modificarlos una vez se hayan creado\n",
    "* **No ordenado**\n",
    "* **Elementos unicos**: se compone de un conjunto de claves únicas\n",
    "\n",
    "**¿Cuándo usar sets?** Cuando estemos buscando unicidad en nuestros datos y no nos importe el orden.\n",
    "\n",
    "Te dejo por aquí [la documentación](https://docs.python.org/2/library/sets.html) para realizar consultas sobre los sets\n",
    "\n",
    "Si sintaxis es:\n",
    ">```Python\n",
    "> mi_set = {elemento1, elemento2, elemento3}\n",
    ">```\n",
    "\n",
    "Tiene una sintaxis muy parecida a la de los diccionarios, pero en este caso no se utilizan los `:`. "
   ]
  },
  {
   "cell_type": "code",
   "execution_count": 96,
   "metadata": {},
   "outputs": [
    {
     "name": "stdout",
     "output_type": "stream",
     "text": [
      "{'blanco', 'rojo', 'azul'}\n",
      "<class 'set'>\n"
     ]
    }
   ],
   "source": [
    "colores = {\"rojo\", \"azul\", \"blanco\"}\n",
    "print(colores)\n",
    "print(type(colores))"
   ]
  },
  {
   "cell_type": "code",
   "execution_count": 98,
   "metadata": {},
   "outputs": [
    {
     "name": "stdout",
     "output_type": "stream",
     "text": [
      "{'blanco', 'rojo', 'azul'}\n"
     ]
    },
    {
     "data": {
      "text/plain": [
       "3"
      ]
     },
     "execution_count": 98,
     "metadata": {},
     "output_type": "execute_result"
    }
   ],
   "source": [
    "colores2 = {\"rojo\", \"azul\",\"blanco\", \"rojo\"}\n",
    "print(colores2)\n",
    "\n",
    "len(colores2) # SOLO MUESTRA LOS ELEMENTOS UNICOS"
   ]
  },
  {
   "cell_type": "markdown",
   "metadata": {},
   "source": [
    "Los elementos del set son unicos, por lo que si en la declaración, o posteriormente añadiendo elementos hubiese algún duplicado, el set lo ignoraría. Es más, cuando aplicas el `len`, muestra la cantidad de valores únicos que tiene."
   ]
  },
  {
   "cell_type": "code",
   "execution_count": 102,
   "metadata": {},
   "outputs": [
    {
     "name": "stdout",
     "output_type": "stream",
     "text": [
      "set()\n",
      "{'Miercoles', 'Martes', 'Lunes'}\n",
      "{'Miercoles', 'Lunes'}\n",
      "True\n",
      "Miercoles\n",
      "Lunes\n"
     ]
    }
   ],
   "source": [
    "#Creamos un set vaacio\n",
    "dias = set() #{} implica un diccionario vacio\n",
    "\n",
    "print(dias)\n",
    "\n",
    "#Añado elementos\n",
    "dias.add(\"Lunes\")\n",
    "dias.add(\"Martes\")\n",
    "dias.add(\"Miercoles\")\n",
    "print(dias)\n",
    "#Eliminar elementos\n",
    "dias.remove(\"Martes\")\n",
    "print(dias)\n",
    "#Buscar elementos\n",
    "print(\"Lunes\" in dias)\n",
    "\n",
    "#Iterar en sets \n",
    "for i in dias:\n",
    "    print(i)"
   ]
  },
  {
   "cell_type": "markdown",
   "metadata": {},
   "source": [
    "Para comprobar si dos sets tienen los mismos elementos"
   ]
  },
  {
   "cell_type": "code",
   "execution_count": 104,
   "metadata": {},
   "outputs": [
    {
     "name": "stdout",
     "output_type": "stream",
     "text": [
      "True\n"
     ]
    }
   ],
   "source": [
    "set1 = {1,3,5,1,5,3}\n",
    "set2 = {5,1,3}\n",
    "\n",
    "print(set1 == set2) \n",
    "# Los elementos unicos son los mismos en ambos sets \n"
   ]
  },
  {
   "cell_type": "markdown",
   "metadata": {},
   "source": [
    "## 5. Conversiones entre colecciones\n",
    "\n",
    "### De lista"
   ]
  },
  {
   "cell_type": "code",
   "execution_count": 106,
   "metadata": {},
   "outputs": [
    {
     "name": "stdout",
     "output_type": "stream",
     "text": [
      "[1, 2, 3, 3]\n",
      "(1, 2, 3, 3)\n",
      "{1, 2, 3}\n"
     ]
    }
   ],
   "source": [
    "lista1 = [1, 2, 3, 3]\n",
    "print(lista1)\n",
    "\n",
    "#Lista a tupla\n",
    "print(tuple(lista1))\n",
    "\n",
    "# Lista a set \n",
    "print(set(lista1))"
   ]
  },
  {
   "cell_type": "markdown",
   "metadata": {},
   "source": [
    "### De Tupla"
   ]
  },
  {
   "cell_type": "code",
   "execution_count": 110,
   "metadata": {},
   "outputs": [
    {
     "name": "stdout",
     "output_type": "stream",
     "text": [
      "(1, 2, 3, 4, 4)\n",
      "[1, 2, 3, 4, 4]\n",
      "{1, 2, 3, 4}\n",
      "{'Ciudad': 'Madid', 'Tiempo': 'Nublado'}\n"
     ]
    }
   ],
   "source": [
    "tuplas1 = (1,2,3,4,4)\n",
    "print(tuplas1)\n",
    "\n",
    "#Tupla a lista\n",
    "print(list(tuplas1))\n",
    "\n",
    "#Tupla a set\n",
    "print(set(tuplas1))\n",
    "\n",
    "#Tupla A diccionario\n",
    "#Tiene que tener pinta de diccionario por eso\n",
    "#LISTA DE TUPLAS - A DICCIONARIO\n",
    "\n",
    "tupla2 = [(\"Ciudad\",\"Madid\"),(\"Tiempo\",\"Nublado\")]\n",
    "print(dict(tupla2))"
   ]
  },
  {
   "cell_type": "markdown",
   "metadata": {},
   "source": [
    "### De diccionario"
   ]
  },
  {
   "cell_type": "code",
   "execution_count": 113,
   "metadata": {},
   "outputs": [
    {
     "name": "stdout",
     "output_type": "stream",
     "text": [
      "['Ciudad', 'Tiempo']\n",
      "('Ciudad', 'Tiempo')\n",
      "{'Tiempo', 'Ciudad'}\n"
     ]
    }
   ],
   "source": [
    "dict1 = {'Ciudad': 'Madid', 'Tiempo': 'Nublado'}\n",
    "\n",
    "# A lista \n",
    "print(list(dict1))\n",
    "# SOLO PASA LAS LLAVES \n",
    "\n",
    "#A tupla \n",
    "print(tuple(dict1))\n",
    "\n",
    "#A set\n",
    "print(set(dict1))"
   ]
  },
  {
   "cell_type": "markdown",
   "metadata": {},
   "source": [
    "Se queda únicamente con las claves, y perdemos los valores. Para no perder la informacion:"
   ]
  },
  {
   "cell_type": "code",
   "execution_count": 115,
   "metadata": {},
   "outputs": [
    {
     "name": "stdout",
     "output_type": "stream",
     "text": [
      "['Ciudad', 'Tiempo']\n",
      "['Madid', 'Nublado']\n",
      "[('Ciudad', 'Madid'), ('Tiempo', 'Nublado')]\n"
     ]
    }
   ],
   "source": [
    "print(list(dict1.keys()))\n",
    "print(list(dict1.values()))\n",
    "print(list(dict1.items()))"
   ]
  },
  {
   "cell_type": "markdown",
   "metadata": {},
   "source": [
    "### De Set"
   ]
  },
  {
   "cell_type": "code",
   "execution_count": null,
   "metadata": {},
   "outputs": [],
   "source": [
    "my_set = {1,2,3}\n",
    "print(my_set)\n",
    "\n",
    "#Set a tupla\n",
    "print(tuple(my_set))\n",
    "\n",
    "#Set a lista\n",
    "print(list(my_set))"
   ]
  },
  {
   "cell_type": "markdown",
   "metadata": {},
   "source": [
    "<table align=\"left\">\n",
    " <tr><td width=\"80\"><img src=\"./img/error.png\" style=\"width:auto;height:auto\"></td>\n",
    "     <td style=\"text-align:left\">\n",
    "         <h3>ERRORES en conversiones</h3>\n",
    "         \n",
    " </td></tr>\n",
    "</table>"
   ]
  },
  {
   "cell_type": "markdown",
   "metadata": {},
   "source": [
    "El diccionario suele dar problemas cuando intentamos realizar conversiones entre colecciones, ya que es la estrutura más compleja."
   ]
  },
  {
   "cell_type": "code",
   "execution_count": null,
   "metadata": {},
   "outputs": [],
   "source": []
  },
  {
   "cell_type": "markdown",
   "metadata": {},
   "source": [
    "## 6. Resumen"
   ]
  },
  {
   "cell_type": "code",
   "execution_count": null,
   "metadata": {},
   "outputs": [],
   "source": [
    "# Listas\n",
    "print(\"Listas\")\n",
    "nums = [6, 2, 8, 3, 4, 5, 5]\n",
    "\n",
    "# Tamaño\n",
    "print(len(nums))\n",
    "\n",
    "# Acceso\n",
    "print(nums[2])\n",
    "print(nums[-1])\n",
    "\n",
    "# Acceso por indice\n",
    "print(nums.index(5))\n",
    "nums.append('numeros')\n",
    "print(nums)\n",
    "\n",
    "# Eliminar\n",
    "nums.remove(\"numeros\")\n",
    "print(nums)\n",
    "\n",
    "# Ordenar\n",
    "nums.sort()\n",
    "print(nums)\n",
    "\n",
    "# Tamaño de la lista\n",
    "print(len(nums))\n",
    "\n",
    "# Invertir el orden\n",
    "nums.reverse()\n",
    "print(nums)\n",
    "\n",
    "# Ocurrencia de un valor\n",
    "print(nums.count(22))"
   ]
  },
  {
   "cell_type": "code",
   "execution_count": null,
   "metadata": {},
   "outputs": [],
   "source": [
    "# Tuplas\n",
    "primera_tupla = (3, \"text\")\n",
    "\n",
    "# Anidacion de tuplas\n",
    "tupla_anid = (1, 2, 3, (\"A\", \"B\", \"C\"))\n",
    "print(tupla_anid)\n",
    "\n",
    "# El acceso es como en las listas\n",
    "print(tupla_anid[0])\n",
    "\n",
    "# Tambien son elementos iterables\n",
    "for i in tupla_anid:\n",
    "    print(i)\n",
    "    \n",
    "# El slicing también funciona igual\n",
    "print(tupla_anid[0:2])\n",
    "\n",
    "# Longitud de la tupla\n",
    "print(len(tupla_anid))"
   ]
  },
  {
   "cell_type": "code",
   "execution_count": null,
   "metadata": {},
   "outputs": [],
   "source": [
    "# Diccionario\n",
    "coche = {\"color\": \"Gris\",\n",
    "        \"marca\": \"VW\",\n",
    "        \"peso\": 1500,\n",
    "        \"Cambio automatico\": True}\n",
    "\n",
    "print(coche)\n",
    "\n",
    "coche = {\"color\": \"Gris\",\n",
    "        \"marca\": \"VW\"\n",
    "        }\n",
    "\n",
    "for i in coche: # Esta recorriendo las claves\n",
    "    print(i) # Imprimimos la clave\n",
    "    print(coche[i]) # Imprimimos el valor\n",
    "    \n",
    "# Otra menera de recorrer los elementos\n",
    "for clave, valor in coche.items():\n",
    "    print(clave, valor)"
   ]
  },
  {
   "cell_type": "code",
   "execution_count": null,
   "metadata": {},
   "outputs": [],
   "source": [
    "# Sets\n",
    "colores = {\"rojo\", \"azul\", \"blanco\"}\n",
    "print(colores)\n",
    "\n",
    "# Mira lo que ocurre cuando ponemos duplicados\n",
    "colores2 = {\"rojo\", \"azul\", \"blanco\", \"rojo\"}\n",
    "print(colores2)\n",
    "\n",
    "# El len tambien funciona aqui\n",
    "len(colores2)\n",
    "\n",
    "# Crear un set vacio. No se crea con {}, ya que si no, sería un diccionario.\n",
    "dias = set()\n",
    "print(dias)\n",
    "\n",
    "# Añadir elementos\n",
    "dias.add(\"Lunes\")\n",
    "dias.add(\"Martes\")\n",
    "dias.add(\"Miercoles\")\n",
    "print(dias)\n",
    "\n",
    "# Eliminar elementos\n",
    "dias.remove(\"Miercoles\")\n",
    "print(dias)\n",
    "\n",
    "# Buscar elementos\n",
    "print(\"Lunes\" in dias)\n",
    "print(\"Viernes\" not in dias)\n",
    "\n",
    "# Tambien es un iterable\n",
    "for i in dias:\n",
    "    print(i)"
   ]
  }
 ],
 "metadata": {
  "kernelspec": {
   "display_name": "Python 3",
   "language": "python",
   "name": "python3"
  },
  "language_info": {
   "codemirror_mode": {
    "name": "ipython",
    "version": 3
   },
   "file_extension": ".py",
   "mimetype": "text/x-python",
   "name": "python",
   "nbconvert_exporter": "python",
   "pygments_lexer": "ipython3",
   "version": "3.8.3"
  }
 },
 "nbformat": 4,
 "nbformat_minor": 4
}
