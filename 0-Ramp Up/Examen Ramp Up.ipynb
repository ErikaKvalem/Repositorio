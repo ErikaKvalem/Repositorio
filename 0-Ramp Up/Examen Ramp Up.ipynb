{
 "cells": [
  {
   "cell_type": "markdown",
   "metadata": {},
   "source": [
    "# Examen Ramp Up"
   ]
  },
  {
   "cell_type": "markdown",
   "metadata": {},
   "source": [
    "## Primera parte (preuntas de Test)\n",
    "\n",
    "https://forms.gle/FgMs8VejP8umsHah9"
   ]
  },
  {
   "cell_type": "markdown",
   "metadata": {},
   "source": [
    "#### Notas y pruebas de apoyo para contestar las preguntas tipo test\n",
    "Esto no es necesario usarlo, aunque verlo aquí te puede dar la respuesta a alguna de las preguntas tipo test.\n",
    "\n",
    "Cualquier código aunque no esté correcto, nos dirá más de ti, que no escribir nada. "
   ]
  },
  {
   "cell_type": "code",
   "execution_count": 14,
   "metadata": {},
   "outputs": [],
   "source": [
    "lista = [\"eeee\", 3, 4, [], [3,4,5,[]]]\n",
    "lista2 = [\"128\", 3, 4, []]"
   ]
  },
  {
   "cell_type": "code",
   "execution_count": 20,
   "metadata": {},
   "outputs": [
    {
     "name": "stdout",
     "output_type": "stream",
     "text": [
      "Compra4Manzanas\n"
     ]
    }
   ],
   "source": [
    "a = 4\n",
    "b = \"Manzanas\"\n",
    "print(\"Compra\" + str(a) + b)"
   ]
  },
  {
   "cell_type": "code",
   "execution_count": null,
   "metadata": {},
   "outputs": [],
   "source": [
    "# crea todas las celdas que necesites"
   ]
  },
  {
   "cell_type": "markdown",
   "metadata": {},
   "source": [
    "## Segunda parte (ejercicios prácticos):"
   ]
  },
  {
   "cell_type": "markdown",
   "metadata": {},
   "source": [
    "### Ejercicio 1\n",
    "En este ejercicio se va a crear una lista con los siguientes elementos. Primero, crearemos las variables que luego añadiremos a la lista. Las variables son las siguientes:\n",
    "\n",
    "1. Crea una variable llamada `num_dni` de tipo Integer que represente el primer número de tu DNI. \n",
    "2. Crea una variable llamada `let_dni` de tipo String y que represente la letra de vuestro DNI.\n",
    "3. Crea una variable llamada `tip_ord` de tipo Boolean True si usas Windows y False si usas Mac.\n",
    "4. Crea una variable llamada `nada` de tipo None cuyo valor sea None.\n",
    "5. Crea una variable llamada `lista_deseo` de tipo List que contenga los cuatro objetos que te llevarías a una isla desierta. Cada elemento ha de ser de tipo String y el tamaño de la lista ha de ser 4.\n",
    "6. Crea una variable llamada `tupla_ropa` de tipo Tuple con la marca de la prenda superior, inferior y calzado que llevas puesto.\n",
    "7. Crea una variable llamada `dict_info` con dos keys y dos values. Una key es 'nombre', teniendo como value vuestro nombre. Otra key es 'edad', teniendo como value vuestra edad.\n",
    "8. Crea una variable llamada `flo_hor` con la hora actual separada por punto en vez de dos puntos. Ejemplo: si son las 10:06, el valor de la variable sería 10.06.\n",
    "\n",
    "Añade todos estos elementos en una lista llamada `lista_examen` en el orden de aparición."
   ]
  },
  {
   "cell_type": "code",
   "execution_count": 39,
   "metadata": {},
   "outputs": [],
   "source": [
    " # tu respuesta aquí\n",
    "#1)\n",
    "num_dni = 4 \n",
    "#2)\n",
    "let_dni =\"T\"\n",
    "#3)\n",
    "tip_ord = False\n",
    "\n",
    "#4)\n",
    "nada = None\n",
    "\n",
    "#5)\n",
    "lista_deseo = [\"Amigo\", \"Mechero\", \"Cuchillo\", \"Abrigo\"]\n",
    "\n",
    "#6)\n",
    "tupla_ropa = (\"Nike\", \"Decathlon\", \"Puma\")\n",
    "#7)\n",
    "dict_info = {\"nombre\" : \"Erika\",\"edad\" : 24}\n",
    "#8)\n",
    "flo_hor = 18.25\n",
    "\n",
    "lista_examen =[num_dni,let_dni, tip_ord,nada,lista_deseo,tupla_ropa,dict_info, flo_hor ]"
   ]
  },
  {
   "cell_type": "code",
   "execution_count": 40,
   "metadata": {},
   "outputs": [
    {
     "data": {
      "text/plain": [
       "[4,\n",
       " 'T',\n",
       " False,\n",
       " None,\n",
       " ['Amigo', 'Mechero', 'Cuchillo', 'Abrigo'],\n",
       " ('Nike', 'Decathlon', 'Puma'),\n",
       " {'nombre': 'Erika', 'edad': 24},\n",
       " 18.25]"
      ]
     },
     "execution_count": 40,
     "metadata": {},
     "output_type": "execute_result"
    }
   ],
   "source": [
    "lista_examen"
   ]
  },
  {
   "cell_type": "markdown",
   "metadata": {},
   "source": [
    "### Ejercicio 2\n",
    "\n",
    "Para resolver este ejercicio necesitarás la lista del ejercicio anterior (`lista_examen`). Se recomeinda leer cada punto hasta el final antes de resolver el ejercicio.\n",
    "\n",
    "Se repite para que quede aún más claro: **SOLO USAR LA VARIABLE** `lista_examen`. Usar las demás variables se calificará como error.  \n",
    "\n",
    "1. Mostrar por pantalla, sin uso de funciones ni bucles: \n",
    "    - El segundo elemento de `lista_deseo` desde `lista_examen`.\n",
    "    - El calzado que llevas puesto.\n",
    "    - Vuestro nombre.\n",
    "    - La hora almacenada concatenada con vuestra edad y el número de vuestro de DNI. No debe haber espacios entre la concatenación.\n",
    "    - Si tenéis más de 20 años, el primer número de vuestro DNI es mayor a 7 y usas Mac, mostrar la posición 5 de `lista_examen`. En caso contrario, imprime el mensaje 'No se cumple'\n",
    "    "
   ]
  },
  {
   "cell_type": "code",
   "execution_count": 41,
   "metadata": {},
   "outputs": [
    {
     "name": "stdout",
     "output_type": "stream",
     "text": [
      "Mechero\n",
      "Puma\n",
      "Erika\n",
      "18.25244\n",
      "No se cumple\n"
     ]
    }
   ],
   "source": [
    "# tu respuesta aquí\n",
    "\n",
    "#El segundo elemento de lista_deseo desde lista_examen\n",
    "print(lista_examen[4][1])\n",
    "\n",
    "#El calzado que llevas puesto.\n",
    "print(lista_examen[5][2])\n",
    "\n",
    "#Vuestro nombre.\n",
    "print(lista_examen[6][\"nombre\"])\n",
    "\n",
    "#La hora almacenada concatenada con vuestra edad y el número de vuestro de DNI. \n",
    "#No debe haber espacios entre la concatenación.\n",
    "print(lista_examen[7],lista_examen[6][\"edad\"],lista_examen[0],sep=\"\")\n",
    "\n",
    "#Si tenéis más de 20 años, \n",
    "#el primer número de vuestro DNI es mayor a 7 y usas Mac,\n",
    "#mostrar la posición 5 de lista_examen. \n",
    "#En caso contrario, imprime el mensaje 'No se cumple\n",
    "\n",
    "if lista_examen[6][\"edad\"]>20 and lista_examen[0]>7 and tip_ord==False:\n",
    "    print(lista_examen[5])\n",
    "else:\n",
    "    print(\"No se cumple\")"
   ]
  },
  {
   "cell_type": "markdown",
   "metadata": {},
   "source": [
    "2. Mostrar por pantalla, con uso de un bucle `for`:\n",
    "    - Todos los elementos de `lista_examen`.\n",
    "    - Todos los elementos de `lista_deseo` desde `lista_examen`.\n",
    "    - Todos los elementos que ocupen una posición menor a 4 en `lista_examen`.\n"
   ]
  },
  {
   "cell_type": "code",
   "execution_count": 50,
   "metadata": {},
   "outputs": [
    {
     "name": "stdout",
     "output_type": "stream",
     "text": [
      "4\n",
      "T\n",
      "False\n",
      "None\n",
      "['Amigo', 'Mechero', 'Cuchillo', 'Abrigo']\n",
      "('Nike', 'Decathlon', 'Puma')\n",
      "{'nombre': 'Erika', 'edad': 24}\n",
      "18.25\n",
      "------------\n",
      "Amigo\n",
      "Mechero\n",
      "Cuchillo\n",
      "Abrigo\n",
      "------------\n",
      "4\n",
      "T\n",
      "False\n",
      "None\n"
     ]
    }
   ],
   "source": [
    "# tu respuesta aquí\n",
    "#Todos los elementos de lista_examen\n",
    "\n",
    "for i in lista_examen:\n",
    "    print(i)\n",
    "print(\"------------\")\n",
    "#Todos los elementos de lista_deseo desde lista_examen\n",
    "for i in lista_examen[4]:\n",
    "    print(i)\n",
    "print(\"------------\")\n",
    "\n",
    "#Todos los elementos que ocupen una posición menor a 4 en lista_examen\n",
    "\n",
    "for i,j in enumerate(lista_examen):\n",
    "    if i<4:\n",
    "        print(j)"
   ]
  },
  {
   "cell_type": "markdown",
   "metadata": {},
   "source": [
    "### Ejercicio 3 \n",
    "Implementa una función que reciba una lista como argumento, calcule la raíz cuadrada de cada uno de los elementos de la lista y devuelva en un diccionario el valor máximo y mínimo de la lista de raíces. \n",
    "\n",
    "Ejemplo:\n",
    "```Python\n",
    "entrada: [4,9,36]\n",
    "salida: {'max':6.0,'min':2.0}\n",
    "```"
   ]
  },
  {
   "cell_type": "code",
   "execution_count": 93,
   "metadata": {},
   "outputs": [],
   "source": [
    "# tu respuesta aquí\n",
    "def raiz(entrada):\n",
    "    import math\n",
    "    control = 0\n",
    "    L = []\n",
    "    for i in entrada:\n",
    "        try:\n",
    "\n",
    "            L.append(math.sqrt(i))\n",
    "\n",
    "        except Exception as ex:\n",
    "            print(ex)\n",
    "            control =1\n",
    "            break\n",
    "    if control ==1:\n",
    "        salida = (\"Introduce only positive numbers\")\n",
    "    elif control ==0:\n",
    "        salida = {\"max\":round(max(L),3),\n",
    "             \"min\" :round(min(L),3)}\n",
    "    return  salida\n"
   ]
  },
  {
   "cell_type": "code",
   "execution_count": 94,
   "metadata": {},
   "outputs": [
    {
     "data": {
      "text/plain": [
       "{'max': 7.0, 'min': 3.162}"
      ]
     },
     "execution_count": 94,
     "metadata": {},
     "output_type": "execute_result"
    }
   ],
   "source": [
    "raiz([10,25,49])"
   ]
  },
  {
   "cell_type": "markdown",
   "metadata": {},
   "source": [
    "### Ejercicio 4\n",
    "\n",
    "Crea una clase \"Jugador\" que instancie objetos con 3 atributos: \"goles\", \"dorsal\" y \"nombre\". Además, debe contar con dos métodos: \n",
    "\n",
    "- `marcar_gol`: al llamar a este método se debe sumar 1 a los goles actuales del jugador\n",
    "- `cambiar_dorsal` que recibe parametro \"nuevo_dorsal\": al llamar a esta función con un parámetro de entrada, esta función debe cambiar el número del dorsal por el \"nuevo_dorsal\""
   ]
  },
  {
   "cell_type": "code",
   "execution_count": 111,
   "metadata": {},
   "outputs": [],
   "source": [
    "# tu respuesta aquí\n",
    "class Jugador:\n",
    "    \"\"\"\n",
    "    Clase jugador con:\n",
    "    Atributos particulares de cada jugador: \n",
    "    goles -> num int\n",
    "    dorsal -> num int \n",
    "    nombre -> string\n",
    "    \"\"\"\n",
    "    def __init__(self, goles, dorsal, nombre):\n",
    "        \"\"\"\n",
    "        Elementos particulares de cada jugador\n",
    "        Input:\n",
    "            goles : num int\n",
    "            dorsal: num int\n",
    "            nombre : string\n",
    "        \"\"\"\n",
    "        self.goles = goles\n",
    "        self.dorsal = dorsal\n",
    "        self.nombre = nombre\n",
    "    def marcar_gol(self):\n",
    "        \"\"\"\n",
    "        Metodo que suma 1 a los goles actuales del jugador\n",
    "        \n",
    "        Output:\n",
    "            goles actuales -> int \n",
    "        \"\"\"\n",
    "        self.goles += 1\n",
    "        return self.goles \n",
    "    \n",
    "    def cambiar_dorsal(self,nuevo_dorsal):\n",
    "        \"\"\"\n",
    "        Metodo que cambia el numero de dorsal \n",
    "        \n",
    "        Output:\n",
    "            dorsal -> int \n",
    "        \"\"\"\n",
    "        self.dorsal = nuevo_dorsal\n",
    "        return self.dorsal"
   ]
  },
  {
   "cell_type": "markdown",
   "metadata": {},
   "source": [
    "Crea un jugador llamado \"Rafinha\" que lleva 0 goles y usa el dorsal 99. A Rafinha nunca le gustó su dorsal. Por eso, usa la función correspondiente para cambiarle su dorsal al 13. Además, en el último partido marcó un golazo: utiliza la función para aumentar sus goles anotados. \n",
    "\n",
    "Muestra por pantalla el dorsal del jugador antes y después de cambiarse de dorsal. Muestra también los goles de Rafinha antes y después de haber marcado."
   ]
  },
  {
   "cell_type": "code",
   "execution_count": 113,
   "metadata": {},
   "outputs": [
    {
     "name": "stdout",
     "output_type": "stream",
     "text": [
      "Dorsal del jugador Rafinha numero:  99\n",
      "El jugador Rafinha ha marcado 0 goles\n",
      "-----------\n",
      "Dorsal del jugador Rafinha numero:  13\n",
      "El jugador Rafinha ha marcado 1 goles\n"
     ]
    }
   ],
   "source": [
    "Rafinha = Jugador(0,99,\"Rafinha\")\n",
    "\n",
    "#Antes de cambiar el dorsal y antes del gol\n",
    "print(\"Dorsal del jugador\", Rafinha.nombre, \"numero: \",Rafinha.dorsal)\n",
    "print(\"El jugador\", Rafinha.nombre,\"ha marcado\", Rafinha.goles, \"goles\")\n",
    "print(\"-----------\")\n",
    "#Despues de cambiar el dorsal y del gol\n",
    "Rafinha.cambiar_dorsal(13)\n",
    "Rafinha.marcar_gol()\n",
    "print(\"Dorsal del jugador\", Rafinha.nombre, \"numero: \",Rafinha.dorsal)\n",
    "print(\"El jugador\", Rafinha.nombre,\"ha marcado\", Rafinha.goles, \"goles\")"
   ]
  },
  {
   "cell_type": "code",
   "execution_count": null,
   "metadata": {},
   "outputs": [],
   "source": []
  }
 ],
 "metadata": {
  "kernelspec": {
   "display_name": "Python 3",
   "language": "python",
   "name": "python3"
  },
  "language_info": {
   "codemirror_mode": {
    "name": "ipython",
    "version": 3
   },
   "file_extension": ".py",
   "mimetype": "text/x-python",
   "name": "python",
   "nbconvert_exporter": "python",
   "pygments_lexer": "ipython3",
   "version": "3.8.3"
  }
 },
 "nbformat": 4,
 "nbformat_minor": 2
}
