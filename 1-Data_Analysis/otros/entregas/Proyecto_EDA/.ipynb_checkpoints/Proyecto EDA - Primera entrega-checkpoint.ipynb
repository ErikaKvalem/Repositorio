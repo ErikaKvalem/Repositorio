{
 "cells": [
  {
   "cell_type": "markdown",
   "metadata": {},
   "source": [
    "![EDA.png](img/proyecto_eda.png)"
   ]
  },
  {
   "cell_type": "markdown",
   "metadata": {},
   "source": [
    "# Primera entrega"
   ]
  },
  {
   "cell_type": "markdown",
   "metadata": {},
   "source": [
    "En este primer entregable se espera que durante las próximas dos semanas, hagas la búsqueda de datos e investigación suficiente como para definir la que será la hipótesis de tu proyecto EDA, los datos que necesitarás, incluyendo al menos un dataset principal aunque también podrás incluir fuentes de datos alternativas.\n",
    "\n",
    "Tienes hasta el día _05/04 a las 23:59_ para entregar este archivo completado. Posteriormente se os introducirá el proyecto y darán los detalles pertinentes."
   ]
  },
  {
   "cell_type": "markdown",
   "metadata": {},
   "source": [
    "### Hipótesis\n",
    "Define aquí la que será la hipótesis de tu proyecto.\n",
    "Puede que tengas más de una, pero tu proyecto lo harás teniendo una principal hipótesis."
   ]
  },
  {
   "cell_type": "markdown",
   "metadata": {},
   "source": [
    "# Hipótesis \n",
    "Basandonos en el dataset intentaremos probar que se puede predecir usando ML la supervivencia de pacientes con fallo cardíaco. \n"
   ]
  },
  {
   "cell_type": "markdown",
   "metadata": {},
   "source": [
    "### Datasets\n",
    "Incluye aquí una breve descripción del dataset o datasets de los que partirás para poder evaluar tu hipótesis. También incluye el origen de estos datos y el formato en el que están."
   ]
  },
  {
   "cell_type": "markdown",
   "metadata": {},
   "source": [
    "# Datasets y Definición\n",
    "\n",
    "Para este proyecto me basaré en un dataset que he encontrado a raíz de un trabajo en Kaggle llamado \"Heart Failure Prediction\" por el usuario Larxel publicado en 2020. [Aquí el enlace al mismo.](https://www.kaggle.com/andrewmvd/heart-failure-clinical-data)\n",
    "\n",
    "Las enfermedades cardiovascualres son una de las principales causas de muerte a nivel mundial. Estas están amenudo causadas por fallo cardiaco. Este dataset contiene 12 características/variables que pueden ser uasadas para predecir la mortalidad/supervivencia por fallo cardiaco. ML puede ayudar a predecir esto y ayudar en el diagnóstico precoz para así ayudar a salvar vidas. \n",
    "\n",
    "El dataset proviene originalmente del estudio \"Machine learning can predict survival of patients with heart failure from serum creatinine and ejection fraction alone\" por los autores Davide Chicco & Giuseppe Jurman, investigadores en Bioinformatica de la Unviersidad de Trento, Italia.[Más información aquí](https://mpba.fbk.eu/people/profile/jurman) \n",
    "\n",
    "[Este es el enlace al artículo original](https://bmcmedinformdecismak.biomedcentral.com/articles/10.1186/s12911-020-1023-5#Sec2)"
   ]
  },
  {
   "cell_type": "markdown",
   "metadata": {},
   "source": [
    "### Fuentes alternativas de datos\n",
    "Como podrán ser webs a las que hacer web scraping o APIs de donde obtener información."
   ]
  },
  {
   "cell_type": "markdown",
   "metadata": {},
   "source": [
    "# Fuentes alternativas de datos\n",
    "\n",
    "En este repositorio de github se listan muchas direcciones de las que se podrían sacar datos si fuera necesario en distintos ámbitos (Agriculture, Biology, Climate+Weather, ComplexNetworks, ComputerNetworks, Health medicine ... )\n",
    "[Este es enlace al repositorio](https://github.com/awesomedata/awesome-public-datasets#biology)\n"
   ]
  },
  {
   "cell_type": "markdown",
   "metadata": {},
   "source": [
    "**¿De dónde saco los datos?** Posibles fuentes:\n",
    "- [API de Idealista](https://www.idealista.com/labs/)\n",
    "- [API de Booking](https://developers.booking.com/api/index.html)\n",
    "- [API de Tripadvisor](http://developer-tripadvisor.com/content-api/)\n",
    "- [API de Facebook](https://developers.facebook.com/docs/apis-and-sdks?locale=es_ES)\n",
    "- [API de Twitter](https://developer.twitter.com/en/docs)\n",
    "- [API de Instagram](https://www.instagram.com/developer/)\n",
    "- [APIs de Google Maps](https://cloud.google.com/maps-platform?hl=es)\n",
    "- [Google Timeline](https://www.google.es/maps/timeline?pb). Todo tu registro de actividad de Google, como los lugares que has visitado\n",
    "\n",
    "- [Alexa. Tráfico de webs](https://www.alexa.com/siteinfo)\n",
    "- [Catastro](https://ovc.catastro.meh.es/ovcservweb/OVCSWLocalizacionRC/OVCCoordenadas.asmx)\n",
    "- [Airbnb](http://insideairbnb.com/index.html)\n",
    "- Web scrapping. Acceso automatizado a cualquier web.\n",
    "- Kaggle: página con competiciones de data scientists. Muchísimos datasets.\n",
    "- QPython 3L: APP para ejecutar código Python en el movil. Podrás sacar datos de tu actividad con el teléfono (horarios, geoposicionamiento)\n",
    "- Coronavirus. Se están empezando a librerar muchísimos datasets con datos del coronavirus en todo el mundo. En Kaggle hay varios.\n",
    "- [Web de datos abiertos del gobierno](https://datos.gob.es/)\n",
    "- [OpenStreetMap](https://wiki.openstreetmap.org/wiki/API). Datos de ubicaciones (como Google Maps) abiertos\n",
    "- [Obtención de datos bursátiles](https://financetrain.com/best-python-librariespackages-finance-financial-data-scientists/)\n",
    "- [ESRI Datos abiertos España](https://opendata.esri.es/)\n",
    "- [INE](https://www.ine.es/nomen2/ficheros.do)\n",
    "- [Red.es](https://www.red.es/redes/es/que-hacemos/datos-abiertos)\n",
    "- [Datos abiertos gobierno](https://www.hacienda.gob.es/es-ES/GobiernoAbierto/Datos%20Abiertos/Paginas/Catalogodedatosabiertos.aspx)\n",
    "- [Ayuntamiento de Madrid](https://datos.madrid.es/portal/site/egob/)\n",
    "- [Ayuntamiento de Barcelona](https://opendata-ajuntament.barcelona.cat/es)\n",
    "- [Metro de Madrid](https://data-crtm.opendata.arcgis.com/)\n",
    "- [Portal datos europeo I](https://data.europa.eu/euodp/es/home)\n",
    "- [Portal datos europeo II](https://www.europeandataportal.eu/data/datasets?locale=en&minScoring=0)\n",
    "- [Google Dataset Search](https://datasetsearch.research.google.com/)\n",
    "- [Indicadores macro mundiales](https://databank.worldbank.org/home)\n",
    "- [Indicadores macro mundiales](https://ilostat.ilo.org/data/country-profiles/)"
   ]
  }
 ],
 "metadata": {
  "kernelspec": {
   "display_name": "Python 3",
   "language": "python",
   "name": "python3"
  },
  "language_info": {
   "codemirror_mode": {
    "name": "ipython",
    "version": 3
   },
   "file_extension": ".py",
   "mimetype": "text/x-python",
   "name": "python",
   "nbconvert_exporter": "python",
   "pygments_lexer": "ipython3",
   "version": "3.8.3"
  }
 },
 "nbformat": 4,
 "nbformat_minor": 5
}
