{
 "cells": [
  {
   "cell_type": "markdown",
   "metadata": {},
   "source": [
    "![](img/shark.png)"
   ]
  },
  {
   "cell_type": "markdown",
   "metadata": {},
   "source": [
    "# Global Shark Attack\n",
    "\n",
    "Fecha de entrega: _23:59 05/04/2021_ "
   ]
  },
  {
   "cell_type": "markdown",
   "metadata": {},
   "source": [
    "### ¿En qué consiste este mini-proyecto?\n",
    "\n",
    "El objetivo de este mini-proyecto es que os enfrentéis a realizar un Exploratory Data Analysis por primera vez, antes del proyecto EDA. \n",
    "\n",
    "Durante este mini-proyecto deberás poner en práctica todo lo aprendido durante las últimas semanas. Tanto cómo te haga falta y solo si te hace falta. Esta vez serás tú el qué tome la decisión de qué tratamientos o limpiezas y visualizaciones serán mejor para tratar tus datos. \n",
    "\n",
    "Mínimo deberás importar las siguientes librerías, aunque te animo a explorar otras librerías nuevas.\n",
    "\n",
    "```python\n",
    "import pandas as pd\n",
    "import numpy as np\n",
    "import matplotlib.pyplot as plt\n",
    "import seaborn as sns\n",
    "```\n",
    "\n",
    "Todo esto con el fin de poder verificar nuestra hipótesis. Sigue leyendo para más información."
   ]
  },
  {
   "cell_type": "markdown",
   "metadata": {},
   "source": [
    "### Dataset"
   ]
  },
  {
   "cell_type": "markdown",
   "metadata": {},
   "source": [
    "El dataset que utilizaremos para este mini-proyecto contiene datos sobre los ataques de tiburones en el mundo: localicación, fechas, tipología, especie causante, información sobre las víctimas, etc.. \n",
    "\n",
    "Registrado por http://www.sharkattackfile.net/index.htm.\n",
    "\n",
    "Te lo podrás descargar en este enlace: https://www.kaggle.com/teajay/global-shark-attacks"
   ]
  },
  {
   "cell_type": "markdown",
   "metadata": {},
   "source": [
    "### Hipótesis\n",
    "Elige una o varias de estas hipótesis para desarrollar tu mini proyecto.\n",
    "\n",
    "Siéntete libre de establecer nuevas hipótesis que puedas validar o rechazar con tu análisis."
   ]
  },
  {
   "cell_type": "markdown",
   "metadata": {},
   "source": [
    "- El número de supervivientes ha aumentado con el paso de los años\n",
    "- Todos los ataques producidos en la India, ocurren a primera hora de la mañana\n",
    "- La mayoría de los ataques en los últimos 200 años tuvieron lugar en USA, Australia y Sudáfrica. \n",
    "- Las actividades con más riesgo de sufrir un ataque de tiburon son pescar y nadar. \n",
    "- La mayoría de los ataques de tiburón fueron fatales.\n",
    "- Los tiburones tienen especial predilección por los surferos.\n",
    "- Reunion Island es el lugar del mundo donde ocurren más ataques de tiburón en terminos relativos.\n",
    "- En Sudáfrica hay más ataques letales a mujeres que en Australia."
   ]
  },
  {
   "cell_type": "markdown",
   "metadata": {},
   "source": [
    "### Github*\n",
    "*_Este punto es opcional pero MUY recomendable, ya que en el Proyecto de EDA será obligatorio_\n",
    "\n",
    "Crea un repositorio nuevo para guardar los archivos que necesites.\n",
    "\n",
    "Sigue la siguiente estructuras de carpetas:\n",
    "\n",
    "    - src -> aquí encontrarás el código, en este caso los notebooks que uses\n",
    "    - input -> aquí guardarás el dataset que utilices\n",
    "    - output -> aquí guardarás gráficas o datasets limpios, si los tuvieras"
   ]
  },
  {
   "cell_type": "code",
   "execution_count": null,
   "metadata": {},
   "outputs": [],
   "source": []
  }
 ],
 "metadata": {
  "kernelspec": {
   "display_name": "Python 3",
   "language": "python",
   "name": "python3"
  },
  "language_info": {
   "codemirror_mode": {
    "name": "ipython",
    "version": 3
   },
   "file_extension": ".py",
   "mimetype": "text/x-python",
   "name": "python",
   "nbconvert_exporter": "python",
   "pygments_lexer": "ipython3",
   "version": "3.8.3"
  }
 },
 "nbformat": 4,
 "nbformat_minor": 4
}
